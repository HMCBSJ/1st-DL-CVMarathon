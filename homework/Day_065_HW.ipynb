{
 "cells": [
  {
   "cell_type": "markdown",
   "metadata": {},
   "source": [
    "# 作業\n",
    "* 選擇分類資料集(右下)-螺旋雙臂 - 交錯六群，限定特徵只能使用前兩個，隱藏層 2 層滿 (共 8 * 2 =16 個神經元)，  \n",
    "  遞迴次數只允許跑到500次，但可以自由調整 批次大小、學習速率、啟動函數、正規化選項與參數\n",
    "* 在上述限制下，挑戰看看測試誤差 (Test Loss) 最低能到多少? 請回答你的上述幾項參數與 Test Loss 數"
   ]
  },
  {
   "cell_type": "markdown",
   "metadata": {
    "collapsed": true
   },
   "source": [
    "在批次大小為5、學習速率為0.1、啟動函數為Relu的情況下，在我比較幾個參數的情況中是第一好的\n",
    "\n",
    "Test loss 0.003\n",
    "\n",
    "Training loss 0.003\n",
    "\n",
    "[第一好的](https://github.com/julia8468bd/1st-DL-CVMarathon/blob/master/homework/Batch_Size_5_relu_lr0_1.png)"
   ]
  },
  {
   "cell_type": "markdown",
   "metadata": {},
   "source": [
    "在批次大小為5、學習速率為0.1、啟動函數為Relu、正規化為L2的情況下，在我比較幾個參數的情況中是第二好的\n",
    "\n",
    "Test loss 0.004\n",
    "\n",
    "Training loss 0.003\n",
    "\n",
    "[第二好的](https://github.com/julia8468bd/1st-DL-CVMarathon/blob/master/homework/Batch_Size_5_relu_lr0_1_L2.png)"
   ]
  },
  {
   "cell_type": "code",
   "execution_count": null,
   "metadata": {},
   "outputs": [],
   "source": []
  }
 ],
 "metadata": {
  "kernelspec": {
   "display_name": "Python 3",
   "language": "python",
   "name": "python3"
  },
  "language_info": {
   "codemirror_mode": {
    "name": "ipython",
    "version": 3
   },
   "file_extension": ".py",
   "mimetype": "text/x-python",
   "name": "python",
   "nbconvert_exporter": "python",
   "pygments_lexer": "ipython3",
   "version": "3.8.3"
  }
 },
 "nbformat": 4,
 "nbformat_minor": 2
}

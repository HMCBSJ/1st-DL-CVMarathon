{
 "cells": [
  {
   "cell_type": "markdown",
   "metadata": {},
   "source": [
    "## Work\n",
    "1. 試比較有 BN 在 Batch_size = 2, 16, 32, 128, 256 下的差異\n",
    "2. 請嘗試將 BN 放在 Activation 之前，並比較訓練結果\n",
    "3. 請於 BN 放在 Input Layer 後，並比較結果"
   ]
  },
  {
   "cell_type": "code",
   "execution_count": 1,
   "metadata": {},
   "outputs": [
    {
     "name": "stderr",
     "output_type": "stream",
     "text": [
      "Using TensorFlow backend.\n"
     ]
    }
   ],
   "source": [
    "import os\n",
    "import keras\n",
    "import itertools\n",
    "# Disable GPU\n",
    "os.environ[\"CUDA_VISIBLE_DEVICES\"] = \"0\""
   ]
  },
  {
   "cell_type": "code",
   "execution_count": 2,
   "metadata": {},
   "outputs": [],
   "source": [
    "train, test = keras.datasets.cifar10.load_data()"
   ]
  },
  {
   "cell_type": "code",
   "execution_count": 3,
   "metadata": {},
   "outputs": [],
   "source": [
    "## 資料前處理\n",
    "def preproc_x(x, flatten=True):\n",
    "    x = x / 255.\n",
    "    if flatten:\n",
    "        x = x.reshape((len(x), -1))\n",
    "    return x\n",
    "\n",
    "def preproc_y(y, num_classes=10):\n",
    "    if y.shape[-1] == 1:\n",
    "        y = keras.utils.to_categorical(y, num_classes)\n",
    "    return y    "
   ]
  },
  {
   "cell_type": "code",
   "execution_count": 4,
   "metadata": {},
   "outputs": [],
   "source": [
    "x_train, y_train = train\n",
    "x_test, y_test = test\n",
    "\n",
    "# Preproc the inputs\n",
    "x_train = preproc_x(x_train)\n",
    "x_test = preproc_x(x_test)\n",
    "\n",
    "# Preprc the outputs\n",
    "y_train = preproc_y(y_train)\n",
    "y_test = preproc_y(y_test)"
   ]
  },
  {
   "cell_type": "code",
   "execution_count": null,
   "metadata": {},
   "outputs": [],
   "source": []
  },
  {
   "cell_type": "markdown",
   "metadata": {},
   "source": [
    "## 比較有 BN 不同 Batch_size"
   ]
  },
  {
   "cell_type": "code",
   "execution_count": 5,
   "metadata": {},
   "outputs": [],
   "source": [
    "from keras.layers import BatchNormalization\n",
    "\n",
    "def build_mlp(input_shape, output_units=10, num_neurons=[512, 256, 128]):\n",
    "    \"\"\"Code Here\n",
    "    建立你的神經網路\n",
    "    \"\"\"\n",
    "    input_layer = keras.layers.Input(input_shape)\n",
    "    \n",
    "    for i, n_units in enumerate(num_neurons):\n",
    "        if i == 0:\n",
    "            x = keras.layers.Dense(units=n_units, \n",
    "                                   activation=\"relu\", \n",
    "                                   name=\"hidden_layer\"+str(i+1))(input_layer)\n",
    "            \n",
    "            x = BatchNormalization()(x)\n",
    "        else:\n",
    "            x = keras.layers.Dense(units=n_units, \n",
    "                                   activation=\"relu\", \n",
    "                                   name=\"hidden_layer\"+str(i+1))(x)\n",
    "            x = BatchNormalization()(x)\n",
    "    \n",
    "    out = keras.layers.Dense(units=output_units, activation=\"softmax\", name=\"output\")(x)\n",
    "    \n",
    "    model = keras.models.Model(inputs=[input_layer], outputs=[out])\n",
    "    return model\n"
   ]
  },
  {
   "cell_type": "code",
   "execution_count": 6,
   "metadata": {},
   "outputs": [],
   "source": [
    "\"\"\"Code Here\n",
    "設定超參數\n",
    "\"\"\"\n",
    "## 超參數設定\n",
    "LEARNING_RATE = 1e-3\n",
    "EPOCHS = 50\n",
    "BATCH_SIZE = 32\n",
    "MOMENTUM = 0.95"
   ]
  },
  {
   "cell_type": "code",
   "execution_count": 7,
   "metadata": {
    "scrolled": true
   },
   "outputs": [
    {
     "name": "stdout",
     "output_type": "stream",
     "text": [
      "_________________________________________________________________\n",
      "Layer (type)                 Output Shape              Param #   \n",
      "=================================================================\n",
      "input_1 (InputLayer)         (None, 3072)              0         \n",
      "_________________________________________________________________\n",
      "hidden_layer1 (Dense)        (None, 512)               1573376   \n",
      "_________________________________________________________________\n",
      "batch_normalization_1 (Batch (None, 512)               2048      \n",
      "_________________________________________________________________\n",
      "hidden_layer2 (Dense)        (None, 256)               131328    \n",
      "_________________________________________________________________\n",
      "batch_normalization_2 (Batch (None, 256)               1024      \n",
      "_________________________________________________________________\n",
      "hidden_layer3 (Dense)        (None, 128)               32896     \n",
      "_________________________________________________________________\n",
      "batch_normalization_3 (Batch (None, 128)               512       \n",
      "_________________________________________________________________\n",
      "output (Dense)               (None, 10)                1290      \n",
      "=================================================================\n",
      "Total params: 1,742,474\n",
      "Trainable params: 1,740,682\n",
      "Non-trainable params: 1,792\n",
      "_________________________________________________________________\n",
      "Train on 50000 samples, validate on 10000 samples\n",
      "Epoch 1/50\n",
      "50000/50000 [==============================] - 12s 232us/step - loss: 1.7286 - acc: 0.3893 - val_loss: 1.6044 - val_acc: 0.4328\n",
      "Epoch 2/50\n",
      "50000/50000 [==============================] - 10s 195us/step - loss: 1.5383 - acc: 0.4526 - val_loss: 1.5642 - val_acc: 0.4427\n",
      "Epoch 3/50\n",
      "50000/50000 [==============================] - 10s 195us/step - loss: 1.4682 - acc: 0.4790 - val_loss: 1.5717 - val_acc: 0.4462\n",
      "Epoch 4/50\n",
      "50000/50000 [==============================] - 10s 193us/step - loss: 1.4181 - acc: 0.5001 - val_loss: 1.5059 - val_acc: 0.4641\n",
      "Epoch 5/50\n",
      "50000/50000 [==============================] - 10s 196us/step - loss: 1.3843 - acc: 0.5089 - val_loss: 1.5188 - val_acc: 0.4504\n",
      "Epoch 6/50\n",
      "50000/50000 [==============================] - 10s 192us/step - loss: 1.3536 - acc: 0.5183 - val_loss: 1.4846 - val_acc: 0.4765\n",
      "Epoch 7/50\n",
      "50000/50000 [==============================] - 10s 192us/step - loss: 1.3205 - acc: 0.5309 - val_loss: 1.5020 - val_acc: 0.4631\n",
      "Epoch 8/50\n",
      "50000/50000 [==============================] - 10s 194us/step - loss: 1.2995 - acc: 0.5381 - val_loss: 1.4223 - val_acc: 0.4896\n",
      "Epoch 9/50\n",
      "50000/50000 [==============================] - 10s 195us/step - loss: 1.2743 - acc: 0.5471 - val_loss: 1.4324 - val_acc: 0.4884\n",
      "Epoch 10/50\n",
      "50000/50000 [==============================] - 10s 194us/step - loss: 1.2502 - acc: 0.5544 - val_loss: 1.5564 - val_acc: 0.4577\n",
      "Epoch 11/50\n",
      "50000/50000 [==============================] - 10s 195us/step - loss: 1.2242 - acc: 0.5644 - val_loss: 1.4753 - val_acc: 0.4830\n",
      "Epoch 12/50\n",
      "50000/50000 [==============================] - 10s 194us/step - loss: 1.2121 - acc: 0.5699 - val_loss: 1.4198 - val_acc: 0.4945\n",
      "Epoch 13/50\n",
      "50000/50000 [==============================] - 10s 194us/step - loss: 1.2057 - acc: 0.5704 - val_loss: 1.3902 - val_acc: 0.5108\n",
      "Epoch 14/50\n",
      "50000/50000 [==============================] - 10s 194us/step - loss: 1.1757 - acc: 0.5817 - val_loss: 1.4558 - val_acc: 0.4863\n",
      "Epoch 15/50\n",
      "50000/50000 [==============================] - 10s 194us/step - loss: 1.1643 - acc: 0.5851 - val_loss: 1.4677 - val_acc: 0.4821\n",
      "Epoch 16/50\n",
      "50000/50000 [==============================] - 10s 194us/step - loss: 1.1394 - acc: 0.5931 - val_loss: 1.4402 - val_acc: 0.4915\n",
      "Epoch 17/50\n",
      "50000/50000 [==============================] - 10s 195us/step - loss: 1.1218 - acc: 0.6001 - val_loss: 1.5362 - val_acc: 0.4788\n",
      "Epoch 18/50\n",
      "50000/50000 [==============================] - 10s 198us/step - loss: 1.1097 - acc: 0.6058 - val_loss: 1.5177 - val_acc: 0.4834\n",
      "Epoch 19/50\n",
      "50000/50000 [==============================] - 10s 191us/step - loss: 1.0960 - acc: 0.6107 - val_loss: 1.4197 - val_acc: 0.5004\n",
      "Epoch 20/50\n",
      "50000/50000 [==============================] - 10s 192us/step - loss: 1.0870 - acc: 0.6115 - val_loss: 1.4763 - val_acc: 0.4905\n",
      "Epoch 21/50\n",
      "50000/50000 [==============================] - 10s 198us/step - loss: 1.0553 - acc: 0.6247 - val_loss: 1.4345 - val_acc: 0.5077\n",
      "Epoch 22/50\n",
      "50000/50000 [==============================] - 10s 205us/step - loss: 1.0493 - acc: 0.6254 - val_loss: 1.3582 - val_acc: 0.5217\n",
      "Epoch 23/50\n",
      "50000/50000 [==============================] - 10s 206us/step - loss: 1.0348 - acc: 0.6312 - val_loss: 1.5309 - val_acc: 0.4848\n",
      "Epoch 24/50\n",
      "50000/50000 [==============================] - 10s 192us/step - loss: 1.0134 - acc: 0.6401 - val_loss: 1.4788 - val_acc: 0.4914\n",
      "Epoch 25/50\n",
      "50000/50000 [==============================] - 10s 191us/step - loss: 1.0063 - acc: 0.6403 - val_loss: 1.5049 - val_acc: 0.4856\n",
      "Epoch 26/50\n",
      "50000/50000 [==============================] - 9s 190us/step - loss: 0.9979 - acc: 0.6443 - val_loss: 1.4649 - val_acc: 0.5056\n",
      "Epoch 27/50\n",
      "50000/50000 [==============================] - 10s 191us/step - loss: 0.9797 - acc: 0.6512 - val_loss: 1.4254 - val_acc: 0.5226\n",
      "Epoch 28/50\n",
      "50000/50000 [==============================] - 10s 190us/step - loss: 0.9713 - acc: 0.6515 - val_loss: 1.3969 - val_acc: 0.5195\n",
      "Epoch 29/50\n",
      "50000/50000 [==============================] - 10s 191us/step - loss: 0.9517 - acc: 0.6615 - val_loss: 1.5800 - val_acc: 0.4814\n",
      "Epoch 30/50\n",
      "50000/50000 [==============================] - 10s 202us/step - loss: 0.9427 - acc: 0.6651 - val_loss: 1.5152 - val_acc: 0.5023\n",
      "Epoch 31/50\n",
      "50000/50000 [==============================] - 10s 193us/step - loss: 0.9306 - acc: 0.6691 - val_loss: 1.4577 - val_acc: 0.5129\n",
      "Epoch 32/50\n",
      "50000/50000 [==============================] - 10s 200us/step - loss: 0.9202 - acc: 0.6711 - val_loss: 1.4886 - val_acc: 0.5094\n",
      "Epoch 33/50\n",
      "50000/50000 [==============================] - 10s 197us/step - loss: 0.9096 - acc: 0.6766 - val_loss: 1.4581 - val_acc: 0.5171\n",
      "Epoch 34/50\n",
      "50000/50000 [==============================] - 10s 193us/step - loss: 0.9094 - acc: 0.6766 - val_loss: 1.4545 - val_acc: 0.5229\n",
      "Epoch 35/50\n",
      "50000/50000 [==============================] - 10s 193us/step - loss: 0.9004 - acc: 0.6790 - val_loss: 1.4595 - val_acc: 0.5230\n",
      "Epoch 36/50\n",
      "50000/50000 [==============================] - 10s 193us/step - loss: 0.8900 - acc: 0.6835 - val_loss: 1.4785 - val_acc: 0.5109\n",
      "Epoch 37/50\n",
      "50000/50000 [==============================] - 10s 192us/step - loss: 0.8813 - acc: 0.6864 - val_loss: 1.4993 - val_acc: 0.5193\n",
      "Epoch 38/50\n",
      "50000/50000 [==============================] - 10s 192us/step - loss: 0.8752 - acc: 0.6882 - val_loss: 1.5075 - val_acc: 0.5101\n",
      "Epoch 39/50\n",
      "50000/50000 [==============================] - 10s 191us/step - loss: 0.8615 - acc: 0.6917 - val_loss: 1.5638 - val_acc: 0.5016\n",
      "Epoch 40/50\n",
      "50000/50000 [==============================] - 10s 192us/step - loss: 0.8489 - acc: 0.6960 - val_loss: 1.5387 - val_acc: 0.4949\n",
      "Epoch 41/50\n",
      "50000/50000 [==============================] - 10s 192us/step - loss: 0.8366 - acc: 0.7010 - val_loss: 1.4900 - val_acc: 0.5203\n",
      "Epoch 42/50\n",
      "50000/50000 [==============================] - 10s 192us/step - loss: 0.8374 - acc: 0.7006 - val_loss: 1.5978 - val_acc: 0.4903\n",
      "Epoch 43/50\n",
      "50000/50000 [==============================] - 10s 192us/step - loss: 0.8266 - acc: 0.7029 - val_loss: 1.4888 - val_acc: 0.5250\n",
      "Epoch 44/50\n",
      "50000/50000 [==============================] - 10s 192us/step - loss: 0.8178 - acc: 0.7070 - val_loss: 1.5288 - val_acc: 0.5206\n",
      "Epoch 45/50\n",
      "50000/50000 [==============================] - 10s 192us/step - loss: 0.8147 - acc: 0.7091 - val_loss: 1.4968 - val_acc: 0.5214\n",
      "Epoch 46/50\n",
      "50000/50000 [==============================] - 10s 192us/step - loss: 0.8019 - acc: 0.7145 - val_loss: 1.6357 - val_acc: 0.4962\n",
      "Epoch 47/50\n",
      "50000/50000 [==============================] - 10s 192us/step - loss: 0.7959 - acc: 0.7137 - val_loss: 1.5285 - val_acc: 0.5201\n",
      "Epoch 48/50\n",
      "50000/50000 [==============================] - 10s 193us/step - loss: 0.7820 - acc: 0.7214 - val_loss: 1.5693 - val_acc: 0.5035\n",
      "Epoch 49/50\n"
     ]
    },
    {
     "name": "stdout",
     "output_type": "stream",
     "text": [
      "50000/50000 [==============================] - 10s 191us/step - loss: 0.7824 - acc: 0.7179 - val_loss: 1.6592 - val_acc: 0.4902\n",
      "Epoch 50/50\n",
      "50000/50000 [==============================] - 10s 192us/step - loss: 0.7755 - acc: 0.7225 - val_loss: 1.6036 - val_acc: 0.5048\n"
     ]
    }
   ],
   "source": [
    "model = build_mlp(input_shape=x_train.shape[1:])\n",
    "model.summary()\n",
    "optimizer = keras.optimizers.SGD(lr=LEARNING_RATE, nesterov=True, momentum=MOMENTUM)\n",
    "model.compile(loss=\"categorical_crossentropy\", metrics=[\"accuracy\"], optimizer=optimizer)\n",
    "\n",
    "model.fit(x_train, y_train, \n",
    "          epochs=EPOCHS, \n",
    "          batch_size=BATCH_SIZE, \n",
    "          validation_data=(x_test, y_test), \n",
    "          shuffle=True)\n",
    "\n",
    "# Collect results\n",
    "train_loss = model.history.history[\"loss\"]\n",
    "valid_loss = model.history.history[\"val_loss\"]\n",
    "train_acc = model.history.history[\"acc\"]\n",
    "valid_acc = model.history.history[\"val_acc\"]"
   ]
  },
  {
   "cell_type": "code",
   "execution_count": 8,
   "metadata": {},
   "outputs": [
    {
     "data": {
      "image/png": "[encoded data removed]",
      "text/plain": [
       "<Figure size 432x288 with 1 Axes>"
      ]
     },
     "metadata": {
      "needs_background": "light"
     },
     "output_type": "display_data"
    },
    {
     "data": {
      "image/png": "[encoded data removed]",
      "text/plain": [
       "<Figure size 432x288 with 1 Axes>"
      ]
     },
     "metadata": {
      "needs_background": "light"
     },
     "output_type": "display_data"
    }
   ],
   "source": [
    "import matplotlib.pyplot as plt\n",
    "%matplotlib inline\n",
    "\"\"\"Code Here\n",
    "將結果繪出\n",
    "\"\"\"\n",
    "plt.plot(range(len(train_loss)), train_loss, label=\"train loss\")\n",
    "plt.plot(range(len(valid_loss)), valid_loss, label=\"valid loss\")\n",
    "plt.legend()\n",
    "plt.title(\"Loss\")\n",
    "plt.show()\n",
    "\n",
    "plt.plot(range(len(train_acc)), train_acc, label=\"train accuracy\")\n",
    "plt.plot(range(len(valid_acc)), valid_acc, label=\"valid accuracy\")\n",
    "plt.legend()\n",
    "plt.title(\"Accuracy\")\n",
    "plt.show()"
   ]
  },
  {
   "cell_type": "code",
   "execution_count": null,
   "metadata": {},
   "outputs": [],
   "source": []
  },
  {
   "cell_type": "markdown",
   "metadata": {},
   "source": [
    "## BN 放在 Activation 之前"
   ]
  },
  {
   "cell_type": "code",
   "execution_count": 5,
   "metadata": {},
   "outputs": [],
   "source": [
    "\"\"\"Code Here\n",
    "設定超參數\n",
    "\"\"\"\n",
    "## 超參數設定\n",
    "LEARNING_RATE = 1e-3\n",
    "EPOCHS = 50\n",
    "BATCH_SIZE = 64\n",
    "MOMENTUM = 0.95"
   ]
  },
  {
   "cell_type": "code",
   "execution_count": 11,
   "metadata": {},
   "outputs": [],
   "source": [
    "from keras.layers import BatchNormalization\n",
    "\n",
    "def build_mlp_BA(input_shape, output_units=10, num_neurons=[512, 256, 128]):\n",
    "    \"\"\"Code Here\n",
    "    建立你的神經網路\n",
    "    \"\"\"\n",
    "    input_layer = keras.layers.Input(input_shape)\n",
    "    \n",
    "    for i, n_units in enumerate(num_neurons):\n",
    "        if i == 0:\n",
    "            x = keras.layers.Dense(units=n_units, \n",
    "                                   name=\"hidden_layer\"+str(i+1))(input_layer)\n",
    "            x = BatchNormalization()(x)\n",
    "            x = keras.layers.Activation('relu')(x)\n",
    "        else:\n",
    "            x = keras.layers.Dense(units=n_units, \n",
    "                                   name=\"hidden_layer\"+str(i+1))(x)\n",
    "            x = BatchNormalization()(x)\n",
    "            x = keras.layers.Activation('relu')(x)\n",
    "    \n",
    "    out = keras.layers.Dense(units=output_units, activation=\"softmax\", name=\"output\")(x)\n",
    "    \n",
    "    model = keras.models.Model(inputs=[input_layer], outputs=[out])\n",
    "    return model\n"
   ]
  },
  {
   "cell_type": "code",
   "execution_count": 12,
   "metadata": {},
   "outputs": [
    {
     "name": "stdout",
     "output_type": "stream",
     "text": [
      "_________________________________________________________________\n",
      "Layer (type)                 Output Shape              Param #   \n",
      "=================================================================\n",
      "input_4 (InputLayer)         (None, 3072)              0         \n",
      "_________________________________________________________________\n",
      "hidden_layer1 (Dense)        (None, 512)               1573376   \n",
      "_________________________________________________________________\n",
      "batch_normalization_2 (Batch (None, 512)               2048      \n",
      "_________________________________________________________________\n",
      "activation_2 (Activation)    (None, 512)               0         \n",
      "_________________________________________________________________\n",
      "hidden_layer2 (Dense)        (None, 256)               131328    \n",
      "_________________________________________________________________\n",
      "batch_normalization_3 (Batch (None, 256)               1024      \n",
      "_________________________________________________________________\n",
      "activation_3 (Activation)    (None, 256)               0         \n",
      "_________________________________________________________________\n",
      "hidden_layer3 (Dense)        (None, 128)               32896     \n",
      "_________________________________________________________________\n",
      "batch_normalization_4 (Batch (None, 128)               512       \n",
      "_________________________________________________________________\n",
      "activation_4 (Activation)    (None, 128)               0         \n",
      "_________________________________________________________________\n",
      "output (Dense)               (None, 10)                1290      \n",
      "=================================================================\n",
      "Total params: 1,742,474\n",
      "Trainable params: 1,740,682\n",
      "Non-trainable params: 1,792\n",
      "_________________________________________________________________\n",
      "Train on 50000 samples, validate on 10000 samples\n",
      "Epoch 1/50\n",
      "50000/50000 [==============================] - 7s 138us/step - loss: 1.6752 - acc: 0.4084 - val_loss: 1.6460 - val_acc: 0.4210\n",
      "Epoch 2/50\n",
      "50000/50000 [==============================] - 6s 111us/step - loss: 1.4155 - acc: 0.4991 - val_loss: 1.6512 - val_acc: 0.4223\n",
      "Epoch 3/50\n",
      "50000/50000 [==============================] - 6s 111us/step - loss: 1.2985 - acc: 0.5416 - val_loss: 1.5615 - val_acc: 0.4484\n",
      "Epoch 4/50\n",
      "50000/50000 [==============================] - 6s 112us/step - loss: 1.2060 - acc: 0.5774 - val_loss: 1.5179 - val_acc: 0.4575\n",
      "Epoch 5/50\n",
      "50000/50000 [==============================] - 6s 113us/step - loss: 1.1349 - acc: 0.6032 - val_loss: 1.6335 - val_acc: 0.4372\n",
      "Epoch 6/50\n",
      "50000/50000 [==============================] - 6s 113us/step - loss: 1.0638 - acc: 0.6289 - val_loss: 1.5838 - val_acc: 0.4527\n",
      "Epoch 7/50\n",
      "50000/50000 [==============================] - 6s 112us/step - loss: 0.9991 - acc: 0.6511 - val_loss: 1.6454 - val_acc: 0.4396\n",
      "Epoch 8/50\n",
      "50000/50000 [==============================] - 6s 112us/step - loss: 0.9418 - acc: 0.6710 - val_loss: 1.6359 - val_acc: 0.4503\n",
      "Epoch 9/50\n",
      "50000/50000 [==============================] - 6s 112us/step - loss: 0.8852 - acc: 0.6919 - val_loss: 1.9487 - val_acc: 0.4038\n",
      "Epoch 10/50\n",
      "50000/50000 [==============================] - 6s 111us/step - loss: 0.8286 - acc: 0.7142 - val_loss: 1.6256 - val_acc: 0.4569\n",
      "Epoch 11/50\n",
      "50000/50000 [==============================] - 6s 112us/step - loss: 0.7786 - acc: 0.7295 - val_loss: 1.7153 - val_acc: 0.4480\n",
      "Epoch 12/50\n",
      "50000/50000 [==============================] - 6s 111us/step - loss: 0.7255 - acc: 0.7478 - val_loss: 1.7667 - val_acc: 0.4564\n",
      "Epoch 13/50\n",
      "50000/50000 [==============================] - 6s 112us/step - loss: 0.6820 - acc: 0.7628 - val_loss: 1.8331 - val_acc: 0.4515\n",
      "Epoch 14/50\n",
      "50000/50000 [==============================] - 6s 111us/step - loss: 0.6426 - acc: 0.7783 - val_loss: 1.9504 - val_acc: 0.4481\n",
      "Epoch 15/50\n",
      "50000/50000 [==============================] - 6s 112us/step - loss: 0.6010 - acc: 0.7939 - val_loss: 1.7664 - val_acc: 0.4698\n",
      "Epoch 16/50\n",
      "50000/50000 [==============================] - 6s 113us/step - loss: 0.5588 - acc: 0.8063 - val_loss: 1.9021 - val_acc: 0.4602\n",
      "Epoch 17/50\n",
      "50000/50000 [==============================] - 6s 111us/step - loss: 0.5250 - acc: 0.8186 - val_loss: 2.1900 - val_acc: 0.4290\n",
      "Epoch 18/50\n",
      "50000/50000 [==============================] - 6s 111us/step - loss: 0.4884 - acc: 0.8318 - val_loss: 2.0186 - val_acc: 0.4584\n",
      "Epoch 19/50\n",
      "50000/50000 [==============================] - 6s 112us/step - loss: 0.4636 - acc: 0.8399 - val_loss: 2.4625 - val_acc: 0.4019\n",
      "Epoch 20/50\n",
      "50000/50000 [==============================] - 6s 113us/step - loss: 0.4379 - acc: 0.8505 - val_loss: 2.0731 - val_acc: 0.4471\n",
      "Epoch 21/50\n",
      "50000/50000 [==============================] - 6s 111us/step - loss: 0.4071 - acc: 0.8600 - val_loss: 2.4715 - val_acc: 0.4249\n",
      "Epoch 22/50\n",
      "50000/50000 [==============================] - 6s 111us/step - loss: 0.3859 - acc: 0.8687 - val_loss: 2.1229 - val_acc: 0.4705\n",
      "Epoch 23/50\n",
      "50000/50000 [==============================] - 6s 111us/step - loss: 0.3643 - acc: 0.8756 - val_loss: 2.3322 - val_acc: 0.4516\n",
      "Epoch 24/50\n",
      "50000/50000 [==============================] - 6s 111us/step - loss: 0.3389 - acc: 0.8841 - val_loss: 2.7376 - val_acc: 0.3921\n",
      "Epoch 25/50\n",
      "50000/50000 [==============================] - 6s 111us/step - loss: 0.3175 - acc: 0.8925 - val_loss: 2.3024 - val_acc: 0.4659\n",
      "Epoch 26/50\n",
      "50000/50000 [==============================] - 6s 112us/step - loss: 0.2954 - acc: 0.9005 - val_loss: 2.3988 - val_acc: 0.4668\n",
      "Epoch 27/50\n",
      "50000/50000 [==============================] - 6s 112us/step - loss: 0.2791 - acc: 0.9063 - val_loss: 2.2381 - val_acc: 0.4679\n",
      "Epoch 28/50\n",
      "50000/50000 [==============================] - 6s 111us/step - loss: 0.2747 - acc: 0.9046 - val_loss: 2.3224 - val_acc: 0.4742\n",
      "Epoch 29/50\n",
      "50000/50000 [==============================] - 6s 111us/step - loss: 0.2500 - acc: 0.9154 - val_loss: 2.5693 - val_acc: 0.4530\n",
      "Epoch 30/50\n",
      "50000/50000 [==============================] - 6s 111us/step - loss: 0.2400 - acc: 0.9180 - val_loss: 2.4830 - val_acc: 0.4693\n",
      "Epoch 31/50\n",
      "50000/50000 [==============================] - 6s 111us/step - loss: 0.2221 - acc: 0.9258 - val_loss: 2.5844 - val_acc: 0.4537\n",
      "Epoch 32/50\n",
      "50000/50000 [==============================] - 6s 111us/step - loss: 0.2230 - acc: 0.9248 - val_loss: 2.4197 - val_acc: 0.4815\n",
      "Epoch 33/50\n",
      "50000/50000 [==============================] - 6s 111us/step - loss: 0.2010 - acc: 0.9322 - val_loss: 2.4864 - val_acc: 0.4696\n",
      "Epoch 34/50\n",
      "50000/50000 [==============================] - 6s 111us/step - loss: 0.2042 - acc: 0.9300 - val_loss: 2.5740 - val_acc: 0.4736\n",
      "Epoch 35/50\n",
      "50000/50000 [==============================] - 6s 111us/step - loss: 0.1891 - acc: 0.9367 - val_loss: 2.6641 - val_acc: 0.4630\n",
      "Epoch 36/50\n",
      "50000/50000 [==============================] - 6s 111us/step - loss: 0.1797 - acc: 0.9400 - val_loss: 2.6877 - val_acc: 0.4644\n",
      "Epoch 37/50\n",
      "50000/50000 [==============================] - 6s 111us/step - loss: 0.1772 - acc: 0.9389 - val_loss: 2.7468 - val_acc: 0.4677\n",
      "Epoch 38/50\n",
      "50000/50000 [==============================] - 6s 111us/step - loss: 0.1689 - acc: 0.9428 - val_loss: 3.0638 - val_acc: 0.4461\n",
      "Epoch 39/50\n",
      "50000/50000 [==============================] - 6s 111us/step - loss: 0.1629 - acc: 0.9453 - val_loss: 2.7239 - val_acc: 0.4734\n",
      "Epoch 40/50\n",
      "50000/50000 [==============================] - 6s 111us/step - loss: 0.1486 - acc: 0.9503 - val_loss: 2.6950 - val_acc: 0.4867\n",
      "Epoch 41/50\n",
      "50000/50000 [==============================] - 6s 111us/step - loss: 0.1443 - acc: 0.9520 - val_loss: 2.9163 - val_acc: 0.4749\n",
      "Epoch 42/50\n",
      "50000/50000 [==============================] - 6s 116us/step - loss: 0.1437 - acc: 0.9516 - val_loss: 3.0521 - val_acc: 0.4340\n",
      "Epoch 43/50\n",
      "50000/50000 [==============================] - 6s 120us/step - loss: 0.1360 - acc: 0.9546 - val_loss: 2.8497 - val_acc: 0.4579\n",
      "Epoch 44/50\n",
      "50000/50000 [==============================] - 5s 109us/step - loss: 0.1387 - acc: 0.9540 - val_loss: 2.7926 - val_acc: 0.4737\n",
      "Epoch 45/50\n",
      "50000/50000 [==============================] - 6s 116us/step - loss: 0.1272 - acc: 0.9574 - val_loss: 2.6937 - val_acc: 0.4896\n",
      "Epoch 46/50\n",
      "50000/50000 [==============================] - 7s 132us/step - loss: 0.1267 - acc: 0.9578 - val_loss: 2.7707 - val_acc: 0.4847\n"
     ]
    },
    {
     "name": "stdout",
     "output_type": "stream",
     "text": [
      "Epoch 47/50\n",
      "50000/50000 [==============================] - 6s 117us/step - loss: 0.1195 - acc: 0.9609 - val_loss: 2.8558 - val_acc: 0.4930\n",
      "Epoch 48/50\n",
      "50000/50000 [==============================] - 6s 114us/step - loss: 0.1187 - acc: 0.9598 - val_loss: 2.7662 - val_acc: 0.4976\n",
      "Epoch 49/50\n",
      "50000/50000 [==============================] - 6s 113us/step - loss: 0.1098 - acc: 0.9633 - val_loss: 2.9623 - val_acc: 0.4858\n",
      "Epoch 50/50\n",
      "50000/50000 [==============================] - 6s 112us/step - loss: 0.1222 - acc: 0.9586 - val_loss: 2.7434 - val_acc: 0.4827\n"
     ]
    }
   ],
   "source": [
    "model_BA = build_mlp_BA(input_shape=x_train.shape[1:])\n",
    "model_BA.summary()\n",
    "optimizer = keras.optimizers.SGD(lr=LEARNING_RATE, nesterov=True, momentum=MOMENTUM)\n",
    "model_BA.compile(loss=\"categorical_crossentropy\", metrics=[\"accuracy\"], optimizer=optimizer)\n",
    "\n",
    "model_BA.fit(x_train, y_train, \n",
    "             epochs=EPOCHS, \n",
    "             batch_size=BATCH_SIZE, \n",
    "             validation_data=(x_test, y_test), \n",
    "             shuffle=True)\n",
    "\n",
    "# Collect results\n",
    "train_loss = model_BA.history.history[\"loss\"]\n",
    "valid_loss = model_BA.history.history[\"val_loss\"]\n",
    "train_acc = model_BA.history.history[\"acc\"]\n",
    "valid_acc = model_BA.history.history[\"val_acc\"]"
   ]
  },
  {
   "cell_type": "code",
   "execution_count": 13,
   "metadata": {},
   "outputs": [
    {
     "data": {
      "image/png": "[encoded data removed]",
      "text/plain": [
       "<Figure size 432x288 with 1 Axes>"
      ]
     },
     "metadata": {
      "needs_background": "light"
     },
     "output_type": "display_data"
    },
    {
     "data": {
      "image/png": "[encoded data removed]",
      "text/plain": [
       "<Figure size 432x288 with 1 Axes>"
      ]
     },
     "metadata": {
      "needs_background": "light"
     },
     "output_type": "display_data"
    }
   ],
   "source": [
    "import matplotlib.pyplot as plt\n",
    "%matplotlib inline\n",
    "\"\"\"Code Here\n",
    "將結果繪出\n",
    "\"\"\"\n",
    "plt.plot(range(len(train_loss)), train_loss, label=\"train loss\")\n",
    "plt.plot(range(len(valid_loss)), valid_loss, label=\"valid loss\")\n",
    "plt.legend()\n",
    "plt.title(\"Loss\")\n",
    "plt.show()\n",
    "\n",
    "plt.plot(range(len(train_acc)), train_acc, label=\"train accuracy\")\n",
    "plt.plot(range(len(valid_acc)), valid_acc, label=\"valid accuracy\")\n",
    "plt.legend()\n",
    "plt.title(\"Accuracy\")\n",
    "plt.show()"
   ]
  },
  {
   "cell_type": "code",
   "execution_count": null,
   "metadata": {},
   "outputs": [],
   "source": []
  },
  {
   "cell_type": "markdown",
   "metadata": {},
   "source": [
    "## BN 放在 Input Layer 後"
   ]
  },
  {
   "cell_type": "code",
   "execution_count": 5,
   "metadata": {},
   "outputs": [],
   "source": [
    "\"\"\"Code Here\n",
    "設定超參數\n",
    "\"\"\"\n",
    "## 超參數設定\n",
    "LEARNING_RATE = 1e-3\n",
    "EPOCHS = 50\n",
    "BATCH_SIZE = 64\n",
    "MOMENTUM = 0.95"
   ]
  },
  {
   "cell_type": "code",
   "execution_count": 8,
   "metadata": {},
   "outputs": [],
   "source": [
    "from keras.layers import BatchNormalization\n",
    "\n",
    "def build_mlp_IB(input_shape, output_units=10, num_neurons=[512, 256, 128]):\n",
    "    \"\"\"Code Here\n",
    "    建立你的神經網路\n",
    "    \"\"\"\n",
    "    \"\"\"Code Here\n",
    "    建立你的神經網路\n",
    "    \"\"\"\n",
    "    input_layer = keras.layers.Input(input_shape)\n",
    "    \n",
    "    for i, n_units in enumerate(num_neurons):\n",
    "        if i == 0:\n",
    "            x = BatchNormalization()(input_layer)\n",
    "            x = keras.layers.Dense(units=n_units, \n",
    "                                   activation=\"relu\", \n",
    "                                   name=\"hidden_layer\"+str(i+1))(x)\n",
    "            \n",
    "        else:\n",
    "            x = BatchNormalization()(x)\n",
    "            x = keras.layers.Dense(units=n_units, \n",
    "                                   activation=\"relu\", \n",
    "                                   name=\"hidden_layer\"+str(i+1))(x)\n",
    "    \n",
    "    out = keras.layers.Dense(units=output_units, activation=\"softmax\", name=\"output\")(x)\n",
    "    \n",
    "    model = keras.models.Model(inputs=[input_layer], outputs=[out])\n",
    "    return model\n"
   ]
  },
  {
   "cell_type": "code",
   "execution_count": 9,
   "metadata": {},
   "outputs": [
    {
     "name": "stdout",
     "output_type": "stream",
     "text": [
      "_________________________________________________________________\n",
      "Layer (type)                 Output Shape              Param #   \n",
      "=================================================================\n",
      "input_2 (InputLayer)         (None, 3072)              0         \n",
      "_________________________________________________________________\n",
      "batch_normalization_1 (Batch (None, 3072)              12288     \n",
      "_________________________________________________________________\n",
      "hidden_layer1 (Dense)        (None, 512)               1573376   \n",
      "_________________________________________________________________\n",
      "batch_normalization_2 (Batch (None, 512)               2048      \n",
      "_________________________________________________________________\n",
      "hidden_layer2 (Dense)        (None, 256)               131328    \n",
      "_________________________________________________________________\n",
      "batch_normalization_3 (Batch (None, 256)               1024      \n",
      "_________________________________________________________________\n",
      "hidden_layer3 (Dense)        (None, 128)               32896     \n",
      "_________________________________________________________________\n",
      "output (Dense)               (None, 10)                1290      \n",
      "=================================================================\n",
      "Total params: 1,754,250\n",
      "Trainable params: 1,746,570\n",
      "Non-trainable params: 7,680\n",
      "_________________________________________________________________\n",
      "Train on 50000 samples, validate on 10000 samples\n",
      "Epoch 1/50\n",
      "50000/50000 [==============================] - 7s 144us/step - loss: 1.6931 - acc: 0.4063 - val_loss: 1.4938 - val_acc: 0.4695\n",
      "Epoch 2/50\n",
      "50000/50000 [==============================] - 6s 118us/step - loss: 1.4117 - acc: 0.5021 - val_loss: 1.3984 - val_acc: 0.5027\n",
      "Epoch 3/50\n",
      "50000/50000 [==============================] - 6s 112us/step - loss: 1.2928 - acc: 0.5444 - val_loss: 1.3645 - val_acc: 0.5140\n",
      "Epoch 4/50\n",
      "50000/50000 [==============================] - 6s 112us/step - loss: 1.2008 - acc: 0.5765 - val_loss: 1.3465 - val_acc: 0.5274\n",
      "Epoch 5/50\n",
      "50000/50000 [==============================] - 6s 112us/step - loss: 1.1274 - acc: 0.6043 - val_loss: 1.3493 - val_acc: 0.5255\n",
      "Epoch 6/50\n",
      "50000/50000 [==============================] - 6s 111us/step - loss: 1.0581 - acc: 0.6270 - val_loss: 1.3805 - val_acc: 0.5188\n",
      "Epoch 7/50\n",
      "50000/50000 [==============================] - 6s 111us/step - loss: 0.9924 - acc: 0.6526 - val_loss: 1.3455 - val_acc: 0.5311\n",
      "Epoch 8/50\n",
      "50000/50000 [==============================] - 6s 112us/step - loss: 0.9317 - acc: 0.6734 - val_loss: 1.3532 - val_acc: 0.5359\n",
      "Epoch 9/50\n",
      "50000/50000 [==============================] - 6s 112us/step - loss: 0.8789 - acc: 0.6934 - val_loss: 1.3806 - val_acc: 0.5335\n",
      "Epoch 10/50\n",
      "50000/50000 [==============================] - 6s 111us/step - loss: 0.8296 - acc: 0.7087 - val_loss: 1.3916 - val_acc: 0.5381\n",
      "Epoch 11/50\n",
      "50000/50000 [==============================] - 6s 112us/step - loss: 0.7752 - acc: 0.7297 - val_loss: 1.4321 - val_acc: 0.5355\n",
      "Epoch 12/50\n",
      "50000/50000 [==============================] - 6s 112us/step - loss: 0.7266 - acc: 0.7473 - val_loss: 1.4519 - val_acc: 0.5290\n",
      "Epoch 13/50\n",
      "50000/50000 [==============================] - 6s 113us/step - loss: 0.6890 - acc: 0.7620 - val_loss: 1.4813 - val_acc: 0.5340\n",
      "Epoch 14/50\n",
      "50000/50000 [==============================] - 6s 117us/step - loss: 0.6408 - acc: 0.7760 - val_loss: 1.4845 - val_acc: 0.5374\n",
      "Epoch 15/50\n",
      "50000/50000 [==============================] - 6s 113us/step - loss: 0.6059 - acc: 0.7891 - val_loss: 1.5437 - val_acc: 0.5356\n",
      "Epoch 16/50\n",
      "50000/50000 [==============================] - 6s 123us/step - loss: 0.5692 - acc: 0.8035 - val_loss: 1.5405 - val_acc: 0.5352\n",
      "Epoch 17/50\n",
      "50000/50000 [==============================] - 6s 118us/step - loss: 0.5294 - acc: 0.8185 - val_loss: 1.6085 - val_acc: 0.5371\n",
      "Epoch 18/50\n",
      "50000/50000 [==============================] - 6s 116us/step - loss: 0.5073 - acc: 0.8242 - val_loss: 1.6394 - val_acc: 0.5378\n",
      "Epoch 19/50\n",
      "50000/50000 [==============================] - 6s 113us/step - loss: 0.4680 - acc: 0.8365 - val_loss: 1.6941 - val_acc: 0.5328\n",
      "Epoch 20/50\n",
      "50000/50000 [==============================] - 6s 114us/step - loss: 0.4415 - acc: 0.8466 - val_loss: 1.7056 - val_acc: 0.5339\n",
      "Epoch 21/50\n",
      "50000/50000 [==============================] - 6s 116us/step - loss: 0.4247 - acc: 0.8532 - val_loss: 1.7381 - val_acc: 0.5283\n",
      "Epoch 22/50\n",
      "50000/50000 [==============================] - 6s 112us/step - loss: 0.3995 - acc: 0.8615 - val_loss: 1.7649 - val_acc: 0.5328\n",
      "Epoch 23/50\n",
      "50000/50000 [==============================] - 6s 112us/step - loss: 0.3746 - acc: 0.8708 - val_loss: 1.7998 - val_acc: 0.5278\n",
      "Epoch 24/50\n",
      "50000/50000 [==============================] - 6s 117us/step - loss: 0.3443 - acc: 0.8810 - val_loss: 1.8378 - val_acc: 0.5319\n",
      "Epoch 25/50\n",
      "50000/50000 [==============================] - 6s 114us/step - loss: 0.3381 - acc: 0.8825 - val_loss: 1.8730 - val_acc: 0.5361\n",
      "Epoch 26/50\n",
      "50000/50000 [==============================] - 6s 112us/step - loss: 0.3196 - acc: 0.8896 - val_loss: 1.9078 - val_acc: 0.5246\n",
      "Epoch 27/50\n",
      "50000/50000 [==============================] - 6s 112us/step - loss: 0.3071 - acc: 0.8924 - val_loss: 1.9148 - val_acc: 0.5372\n",
      "Epoch 28/50\n",
      "50000/50000 [==============================] - 6s 112us/step - loss: 0.2876 - acc: 0.9008 - val_loss: 1.9387 - val_acc: 0.5299\n",
      "Epoch 29/50\n",
      "50000/50000 [==============================] - 6s 111us/step - loss: 0.2744 - acc: 0.9051 - val_loss: 2.0220 - val_acc: 0.5280\n",
      "Epoch 30/50\n",
      "50000/50000 [==============================] - 6s 111us/step - loss: 0.2580 - acc: 0.9107 - val_loss: 2.0261 - val_acc: 0.5289\n",
      "Epoch 31/50\n",
      "50000/50000 [==============================] - 6s 111us/step - loss: 0.2514 - acc: 0.9128 - val_loss: 2.0243 - val_acc: 0.5305\n",
      "Epoch 32/50\n",
      "50000/50000 [==============================] - 6s 113us/step - loss: 0.2356 - acc: 0.9185 - val_loss: 2.0573 - val_acc: 0.5330\n",
      "Epoch 33/50\n",
      "50000/50000 [==============================] - 6s 112us/step - loss: 0.2263 - acc: 0.9221 - val_loss: 2.1053 - val_acc: 0.5341\n",
      "Epoch 34/50\n",
      "50000/50000 [==============================] - 6s 111us/step - loss: 0.2125 - acc: 0.9267 - val_loss: 2.1229 - val_acc: 0.5339\n",
      "Epoch 35/50\n",
      "50000/50000 [==============================] - 6s 111us/step - loss: 0.2153 - acc: 0.9255 - val_loss: 2.1453 - val_acc: 0.5324\n",
      "Epoch 36/50\n",
      "50000/50000 [==============================] - 6s 112us/step - loss: 0.2076 - acc: 0.9283 - val_loss: 2.1806 - val_acc: 0.5317\n",
      "Epoch 37/50\n",
      "50000/50000 [==============================] - 6s 111us/step - loss: 0.1996 - acc: 0.9303 - val_loss: 2.1820 - val_acc: 0.5324\n",
      "Epoch 38/50\n",
      "50000/50000 [==============================] - 6s 112us/step - loss: 0.1785 - acc: 0.9392 - val_loss: 2.2347 - val_acc: 0.5292\n",
      "Epoch 39/50\n",
      "50000/50000 [==============================] - 6s 111us/step - loss: 0.1748 - acc: 0.9395 - val_loss: 2.2734 - val_acc: 0.5295\n",
      "Epoch 40/50\n",
      "50000/50000 [==============================] - 6s 111us/step - loss: 0.1675 - acc: 0.9425 - val_loss: 2.3195 - val_acc: 0.5326\n",
      "Epoch 41/50\n",
      "50000/50000 [==============================] - 6s 112us/step - loss: 0.1727 - acc: 0.9409 - val_loss: 2.2955 - val_acc: 0.5357\n",
      "Epoch 42/50\n",
      "50000/50000 [==============================] - 6s 111us/step - loss: 0.1645 - acc: 0.9424 - val_loss: 2.3734 - val_acc: 0.5269\n",
      "Epoch 43/50\n",
      "50000/50000 [==============================] - 6s 111us/step - loss: 0.1528 - acc: 0.9465 - val_loss: 2.3201 - val_acc: 0.5335\n",
      "Epoch 44/50\n",
      "50000/50000 [==============================] - 6s 111us/step - loss: 0.1455 - acc: 0.9510 - val_loss: 2.3419 - val_acc: 0.5318\n",
      "Epoch 45/50\n",
      "50000/50000 [==============================] - 6s 111us/step - loss: 0.1473 - acc: 0.9499 - val_loss: 2.3721 - val_acc: 0.5361\n",
      "Epoch 46/50\n",
      "50000/50000 [==============================] - 6s 112us/step - loss: 0.1428 - acc: 0.9502 - val_loss: 2.3727 - val_acc: 0.5362\n",
      "Epoch 47/50\n",
      "50000/50000 [==============================] - 6s 113us/step - loss: 0.1451 - acc: 0.9500 - val_loss: 2.3555 - val_acc: 0.5345\n",
      "Epoch 48/50\n",
      "50000/50000 [==============================] - 6s 112us/step - loss: 0.1368 - acc: 0.9533 - val_loss: 2.3745 - val_acc: 0.5370\n",
      "Epoch 49/50\n"
     ]
    },
    {
     "name": "stdout",
     "output_type": "stream",
     "text": [
      "50000/50000 [==============================] - 6s 112us/step - loss: 0.1249 - acc: 0.9577 - val_loss: 2.4447 - val_acc: 0.5406\n",
      "Epoch 50/50\n",
      "50000/50000 [==============================] - 6s 111us/step - loss: 0.1431 - acc: 0.9496 - val_loss: 2.4206 - val_acc: 0.5351\n"
     ]
    }
   ],
   "source": [
    "model_IB = build_mlp_IB(input_shape=x_train.shape[1:])\n",
    "model_IB.summary()\n",
    "optimizer = keras.optimizers.SGD(lr=LEARNING_RATE, nesterov=True, momentum=MOMENTUM)\n",
    "model_IB.compile(loss=\"categorical_crossentropy\", metrics=[\"accuracy\"], optimizer=optimizer)\n",
    "\n",
    "model_IB.fit(x_train, y_train, \n",
    "             epochs=EPOCHS, \n",
    "             batch_size=BATCH_SIZE, \n",
    "             validation_data=(x_test, y_test), \n",
    "             shuffle=True)\n",
    "\n",
    "# Collect results\n",
    "train_loss = model_IB.history.history[\"loss\"]\n",
    "valid_loss = model_IB.history.history[\"val_loss\"]\n",
    "train_acc = model_IB.history.history[\"acc\"]\n",
    "valid_acc = model_IB.history.history[\"val_acc\"]"
   ]
  },
  {
   "cell_type": "code",
   "execution_count": 10,
   "metadata": {},
   "outputs": [
    {
     "data": {
      "image/png": "[encoded data removed]",
      "text/plain": [
       "<Figure size 432x288 with 1 Axes>"
      ]
     },
     "metadata": {
      "needs_background": "light"
     },
     "output_type": "display_data"
    },
    {
     "data": {
      "image/png": "[encoded data removed]",
      "text/plain": [
       "<Figure size 432x288 with 1 Axes>"
      ]
     },
     "metadata": {
      "needs_background": "light"
     },
     "output_type": "display_data"
    }
   ],
   "source": [
    "import matplotlib.pyplot as plt\n",
    "%matplotlib inline\n",
    "\"\"\"Code Here\n",
    "將結果繪出\n",
    "\"\"\"\n",
    "plt.plot(range(len(train_loss)), train_loss, label=\"train loss\")\n",
    "plt.plot(range(len(valid_loss)), valid_loss, label=\"valid loss\")\n",
    "plt.legend()\n",
    "plt.title(\"Loss\")\n",
    "plt.show()\n",
    "\n",
    "plt.plot(range(len(train_acc)), train_acc, label=\"train accuracy\")\n",
    "plt.plot(range(len(valid_acc)), valid_acc, label=\"valid accuracy\")\n",
    "plt.legend()\n",
    "plt.title(\"Accuracy\")\n",
    "plt.show()"
   ]
  },
  {
   "cell_type": "code",
   "execution_count": null,
   "metadata": {},
   "outputs": [],
   "source": []
  }
 ],
 "metadata": {
  "kernelspec": {
   "display_name": "Python 3",
   "language": "python",
   "name": "python3"
  },
  "language_info": {
   "codemirror_mode": {
    "name": "ipython",
    "version": 3
   },
   "file_extension": ".py",
   "mimetype": "text/x-python",
   "name": "python",
   "nbconvert_exporter": "python",
   "pygments_lexer": "ipython3",
   "version": "3.6.9"
  }
 },
 "nbformat": 4,
 "nbformat_minor": 2
}

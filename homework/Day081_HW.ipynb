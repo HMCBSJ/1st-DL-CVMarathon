{
 "cells": [
  {
   "cell_type": "markdown",
   "metadata": {},
   "source": [
    "## Work\n",
    "1. 請比較使用 l1, l1_l2 及不同比例下的訓練結果"
   ]
  },
  {
   "cell_type": "code",
   "execution_count": 1,
   "metadata": {},
   "outputs": [
    {
     "name": "stderr",
     "output_type": "stream",
     "text": [
      "Using TensorFlow backend.\n"
     ]
    }
   ],
   "source": [
    "import os\n",
    "import keras\n",
    "\n",
    "# Disable GPU\n",
    "os.environ[\"CUDA_VISIBLE_DEVICES\"] = \"0\""
   ]
  },
  {
   "cell_type": "code",
   "execution_count": 2,
   "metadata": {},
   "outputs": [],
   "source": [
    "train, test = keras.datasets.cifar10.load_data()"
   ]
  },
  {
   "cell_type": "code",
   "execution_count": 3,
   "metadata": {},
   "outputs": [],
   "source": [
    "## 資料前處理\n",
    "def preproc_x(x, flatten=True):\n",
    "    x = x / 255.\n",
    "    if flatten:\n",
    "        x = x.reshape((len(x), -1))\n",
    "    return x\n",
    "\n",
    "def preproc_y(y, num_classes=10):\n",
    "    if y.shape[-1] == 1:\n",
    "        y = keras.utils.to_categorical(y, num_classes)\n",
    "    return y    "
   ]
  },
  {
   "cell_type": "code",
   "execution_count": 4,
   "metadata": {},
   "outputs": [],
   "source": [
    "x_train, y_train = train\n",
    "x_test, y_test = test\n",
    "\n",
    "# Preproc the inputs\n",
    "x_train = preproc_x(x_train)\n",
    "x_test = preproc_x(x_test)\n",
    "\n",
    "# Preprc the outputs\n",
    "y_train = preproc_y(y_train)\n",
    "y_test = preproc_y(y_test)"
   ]
  },
  {
   "cell_type": "code",
   "execution_count": 5,
   "metadata": {},
   "outputs": [],
   "source": [
    "from keras.regularizers import l1, l2, l1_l2\n",
    "\n",
    "def build_mlp(input_shape, output_units=10, num_neurons=[512, 256, 128], l1_ratio=1e-4):\n",
    "    input_layer = keras.layers.Input(input_shape)\n",
    "    \n",
    "    for i, n_units in enumerate(num_neurons):\n",
    "        if i == 0:\n",
    "            x = keras.layers.Dense(units=n_units, \n",
    "                                   activation=\"relu\", \n",
    "                                   name=\"hidden_layer\"+str(i+1), \n",
    "                                   kernel_regularizer=l1(l1_ratio))(input_layer)\n",
    "        else:\n",
    "            x = keras.layers.Dense(units=n_units, \n",
    "                                   activation=\"relu\", \n",
    "                                   name=\"hidden_layer\"+str(i+1),\n",
    "                                   kernel_regularizer=l1(l1_ratio))(x)\n",
    "    \n",
    "    out = keras.layers.Dense(units=output_units, activation=\"softmax\", name=\"output\")(x)\n",
    "    \n",
    "    model = keras.models.Model(inputs=[input_layer], outputs=[out])\n",
    "    return model"
   ]
  },
  {
   "cell_type": "code",
   "execution_count": 6,
   "metadata": {},
   "outputs": [],
   "source": [
    "\"\"\"Code Here\n",
    "設定超參數\n",
    "\"\"\"\n",
    "## 超參數設定\n",
    "LEARNING_RATE = 1e-3\n",
    "EPOCHS = 50\n",
    "BATCH_SIZE = 256\n",
    "MOMENTUM = 0.95\n",
    "L1_EXP = 1e-4"
   ]
  },
  {
   "cell_type": "code",
   "execution_count": 7,
   "metadata": {
    "scrolled": true
   },
   "outputs": [
    {
     "name": "stdout",
     "output_type": "stream",
     "text": [
      "_________________________________________________________________\n",
      "Layer (type)                 Output Shape              Param #   \n",
      "=================================================================\n",
      "input_1 (InputLayer)         (None, 3072)              0         \n",
      "_________________________________________________________________\n",
      "hidden_layer1 (Dense)        (None, 512)               1573376   \n",
      "_________________________________________________________________\n",
      "hidden_layer2 (Dense)        (None, 256)               131328    \n",
      "_________________________________________________________________\n",
      "hidden_layer3 (Dense)        (None, 128)               32896     \n",
      "_________________________________________________________________\n",
      "output (Dense)               (None, 10)                1290      \n",
      "=================================================================\n",
      "Total params: 1,738,890\n",
      "Trainable params: 1,738,890\n",
      "Non-trainable params: 0\n",
      "_________________________________________________________________\n"
     ]
    }
   ],
   "source": [
    "model = build_mlp(input_shape=x_train.shape[1:])\n",
    "model.summary()"
   ]
  },
  {
   "cell_type": "code",
   "execution_count": 9,
   "metadata": {},
   "outputs": [],
   "source": [
    "optimizer = keras.optimizers.Adam(lr=LEARNING_RATE)\n",
    "model.compile(loss=\"categorical_crossentropy\", metrics=[\"accuracy\"], optimizer=optimizer)"
   ]
  },
  {
   "cell_type": "code",
   "execution_count": 10,
   "metadata": {},
   "outputs": [
    {
     "name": "stdout",
     "output_type": "stream",
     "text": [
      "Train on 50000 samples, validate on 10000 samples\n",
      "Epoch 1/50\n",
      "50000/50000 [==============================] - 5s 92us/step - loss: 3.6866 - acc: 0.3037 - val_loss: 2.6095 - val_acc: 0.3418\n",
      "Epoch 2/50\n",
      "50000/50000 [==============================] - 3s 67us/step - loss: 2.3156 - acc: 0.3717 - val_loss: 2.2242 - val_acc: 0.3433\n",
      "Epoch 3/50\n",
      "50000/50000 [==============================] - 3s 67us/step - loss: 2.0750 - acc: 0.3921 - val_loss: 2.0273 - val_acc: 0.3871\n",
      "Epoch 4/50\n",
      "50000/50000 [==============================] - 4s 72us/step - loss: 1.9629 - acc: 0.4058 - val_loss: 1.9488 - val_acc: 0.3993\n",
      "Epoch 5/50\n",
      "50000/50000 [==============================] - 4s 75us/step - loss: 1.8995 - acc: 0.4189 - val_loss: 1.8317 - val_acc: 0.4421\n",
      "Epoch 6/50\n",
      "50000/50000 [==============================] - 3s 67us/step - loss: 1.8307 - acc: 0.4310 - val_loss: 1.8300 - val_acc: 0.4312\n",
      "Epoch 7/50\n",
      "50000/50000 [==============================] - 3s 67us/step - loss: 1.7996 - acc: 0.4382 - val_loss: 1.7872 - val_acc: 0.4437\n",
      "Epoch 8/50\n",
      "50000/50000 [==============================] - 3s 68us/step - loss: 1.7780 - acc: 0.4459 - val_loss: 1.7604 - val_acc: 0.4550\n",
      "Epoch 9/50\n",
      "50000/50000 [==============================] - 4s 72us/step - loss: 1.7376 - acc: 0.4566 - val_loss: 1.7696 - val_acc: 0.4506\n",
      "Epoch 10/50\n",
      "50000/50000 [==============================] - 3s 68us/step - loss: 1.7243 - acc: 0.4576 - val_loss: 1.7308 - val_acc: 0.4572\n",
      "Epoch 11/50\n",
      "50000/50000 [==============================] - 3s 67us/step - loss: 1.7055 - acc: 0.4654 - val_loss: 1.6993 - val_acc: 0.4626\n",
      "Epoch 12/50\n",
      "50000/50000 [==============================] - 3s 66us/step - loss: 1.6794 - acc: 0.4703 - val_loss: 1.7911 - val_acc: 0.4216\n",
      "Epoch 13/50\n",
      "50000/50000 [==============================] - 3s 64us/step - loss: 1.6705 - acc: 0.4745 - val_loss: 1.6810 - val_acc: 0.4817\n",
      "Epoch 14/50\n",
      "50000/50000 [==============================] - 4s 72us/step - loss: 1.6627 - acc: 0.4746 - val_loss: 1.7643 - val_acc: 0.4426\n",
      "Epoch 15/50\n",
      "50000/50000 [==============================] - 3s 65us/step - loss: 1.6477 - acc: 0.4819 - val_loss: 1.6528 - val_acc: 0.4767\n",
      "Epoch 16/50\n",
      "50000/50000 [==============================] - 4s 77us/step - loss: 1.6246 - acc: 0.4854 - val_loss: 1.6568 - val_acc: 0.4750\n",
      "Epoch 17/50\n",
      "50000/50000 [==============================] - 4s 71us/step - loss: 1.6346 - acc: 0.4802 - val_loss: 1.6504 - val_acc: 0.4819\n",
      "Epoch 18/50\n",
      "50000/50000 [==============================] - 4s 78us/step - loss: 1.6211 - acc: 0.4893 - val_loss: 1.6589 - val_acc: 0.4742\n",
      "Epoch 19/50\n",
      "50000/50000 [==============================] - 4s 77us/step - loss: 1.6063 - acc: 0.4896 - val_loss: 1.6797 - val_acc: 0.4700\n",
      "Epoch 20/50\n",
      "50000/50000 [==============================] - 4s 74us/step - loss: 1.5986 - acc: 0.4965 - val_loss: 1.6392 - val_acc: 0.4817\n",
      "Epoch 21/50\n",
      "50000/50000 [==============================] - 3s 63us/step - loss: 1.6047 - acc: 0.4902 - val_loss: 1.6584 - val_acc: 0.4829\n",
      "Epoch 22/50\n",
      "50000/50000 [==============================] - 4s 71us/step - loss: 1.5896 - acc: 0.4998 - val_loss: 1.6063 - val_acc: 0.4938\n",
      "Epoch 23/50\n",
      "50000/50000 [==============================] - 4s 74us/step - loss: 1.5804 - acc: 0.5024 - val_loss: 1.6953 - val_acc: 0.4679\n",
      "Epoch 24/50\n",
      "50000/50000 [==============================] - 4s 74us/step - loss: 1.5795 - acc: 0.5018 - val_loss: 1.6355 - val_acc: 0.4887\n",
      "Epoch 25/50\n",
      "50000/50000 [==============================] - 3s 65us/step - loss: 1.5737 - acc: 0.5029 - val_loss: 1.6992 - val_acc: 0.4533\n",
      "Epoch 26/50\n",
      "50000/50000 [==============================] - 3s 58us/step - loss: 1.5696 - acc: 0.5040 - val_loss: 1.6218 - val_acc: 0.4853\n",
      "Epoch 27/50\n",
      "50000/50000 [==============================] - 3s 60us/step - loss: 1.5616 - acc: 0.5067 - val_loss: 1.6279 - val_acc: 0.4844\n",
      "Epoch 28/50\n",
      "50000/50000 [==============================] - 3s 69us/step - loss: 1.5616 - acc: 0.5089 - val_loss: 1.6001 - val_acc: 0.5009\n",
      "Epoch 29/50\n",
      "50000/50000 [==============================] - 4s 81us/step - loss: 1.5472 - acc: 0.5141 - val_loss: 1.6152 - val_acc: 0.4932\n",
      "Epoch 30/50\n",
      "50000/50000 [==============================] - 4s 73us/step - loss: 1.5452 - acc: 0.5147 - val_loss: 1.6055 - val_acc: 0.4954\n",
      "Epoch 31/50\n",
      "50000/50000 [==============================] - 4s 73us/step - loss: 1.5438 - acc: 0.5148 - val_loss: 1.6020 - val_acc: 0.4985\n",
      "Epoch 32/50\n",
      "50000/50000 [==============================] - 3s 68us/step - loss: 1.5388 - acc: 0.5168 - val_loss: 1.5675 - val_acc: 0.5091\n",
      "Epoch 33/50\n",
      "50000/50000 [==============================] - 3s 68us/step - loss: 1.5226 - acc: 0.5230 - val_loss: 1.6033 - val_acc: 0.4925\n",
      "Epoch 34/50\n",
      "50000/50000 [==============================] - 4s 78us/step - loss: 1.5268 - acc: 0.5231 - val_loss: 1.6151 - val_acc: 0.4899\n",
      "Epoch 35/50\n",
      "50000/50000 [==============================] - 4s 74us/step - loss: 1.5369 - acc: 0.5179 - val_loss: 1.5770 - val_acc: 0.5091\n",
      "Epoch 36/50\n",
      "50000/50000 [==============================] - 3s 64us/step - loss: 1.5303 - acc: 0.5196 - val_loss: 1.6004 - val_acc: 0.4972\n",
      "Epoch 37/50\n",
      "50000/50000 [==============================] - 4s 74us/step - loss: 1.5150 - acc: 0.5260 - val_loss: 1.5663 - val_acc: 0.5154\n",
      "Epoch 38/50\n",
      "50000/50000 [==============================] - 4s 81us/step - loss: 1.5015 - acc: 0.5323 - val_loss: 1.5631 - val_acc: 0.5107\n",
      "Epoch 39/50\n",
      "50000/50000 [==============================] - 3s 69us/step - loss: 1.5085 - acc: 0.5286 - val_loss: 1.5757 - val_acc: 0.5095\n",
      "Epoch 40/50\n",
      "50000/50000 [==============================] - 3s 69us/step - loss: 1.5108 - acc: 0.5300 - val_loss: 1.6305 - val_acc: 0.4928\n",
      "Epoch 41/50\n",
      "50000/50000 [==============================] - 4s 74us/step - loss: 1.5103 - acc: 0.5279 - val_loss: 1.5752 - val_acc: 0.5096\n",
      "Epoch 42/50\n",
      "50000/50000 [==============================] - 3s 70us/step - loss: 1.5056 - acc: 0.5328 - val_loss: 1.5627 - val_acc: 0.5156\n",
      "Epoch 43/50\n",
      "50000/50000 [==============================] - 4s 75us/step - loss: 1.4889 - acc: 0.5370 - val_loss: 1.7161 - val_acc: 0.4635\n",
      "Epoch 44/50\n",
      "50000/50000 [==============================] - 4s 85us/step - loss: 1.5045 - acc: 0.5303 - val_loss: 1.5900 - val_acc: 0.5094\n",
      "Epoch 45/50\n",
      "50000/50000 [==============================] - 3s 65us/step - loss: 1.4964 - acc: 0.5358 - val_loss: 1.5727 - val_acc: 0.5148\n",
      "Epoch 46/50\n",
      "50000/50000 [==============================] - 4s 78us/step - loss: 1.4933 - acc: 0.5365 - val_loss: 1.5642 - val_acc: 0.5115\n",
      "Epoch 47/50\n",
      "50000/50000 [==============================] - 3s 62us/step - loss: 1.4905 - acc: 0.5366 - val_loss: 1.5684 - val_acc: 0.5138\n",
      "Epoch 48/50\n",
      "50000/50000 [==============================] - 3s 67us/step - loss: 1.4869 - acc: 0.5406 - val_loss: 1.5809 - val_acc: 0.5069\n",
      "Epoch 49/50\n",
      "50000/50000 [==============================] - 4s 71us/step - loss: 1.4837 - acc: 0.5393 - val_loss: 1.5764 - val_acc: 0.5081\n",
      "Epoch 50/50\n",
      "50000/50000 [==============================] - 3s 67us/step - loss: 1.4798 - acc: 0.5421 - val_loss: 1.5865 - val_acc: 0.5102\n"
     ]
    },
    {
     "data": {
      "text/plain": [
       "<keras.callbacks.History at 0x1f4d9ebf6d8>"
      ]
     },
     "execution_count": 10,
     "metadata": {},
     "output_type": "execute_result"
    }
   ],
   "source": [
    "model.fit(x_train, y_train, \n",
    "          epochs=EPOCHS, \n",
    "          batch_size=BATCH_SIZE, \n",
    "          validation_data=(x_test, y_test), \n",
    "          shuffle=True)"
   ]
  },
  {
   "cell_type": "code",
   "execution_count": 11,
   "metadata": {},
   "outputs": [
    {
     "data": {
      "image/png": "[encoded data removed]",
      "text/plain": [
       "<Figure size 432x288 with 1 Axes>"
      ]
     },
     "metadata": {
      "needs_background": "light"
     },
     "output_type": "display_data"
    },
    {
     "data": {
      "image/png": "[encoded data removed]",
      "text/plain": [
       "<Figure size 432x288 with 1 Axes>"
      ]
     },
     "metadata": {
      "needs_background": "light"
     },
     "output_type": "display_data"
    }
   ],
   "source": [
    "import matplotlib.pyplot as plt\n",
    "\n",
    "train_loss = model.history.history[\"loss\"]\n",
    "valid_loss = model.history.history[\"val_loss\"]\n",
    "\n",
    "train_acc = model.history.history[\"acc\"]\n",
    "valid_acc = model.history.history[\"val_acc\"]\n",
    "\n",
    "plt.plot(range(len(train_loss)), train_loss, label=\"train loss\")\n",
    "plt.plot(range(len(valid_loss)), valid_loss, label=\"valid loss\")\n",
    "plt.legend()\n",
    "plt.title(\"Loss\")\n",
    "plt.show()\n",
    "\n",
    "plt.plot(range(len(train_acc)), train_acc, label=\"train accuracy\")\n",
    "plt.plot(range(len(valid_acc)), valid_acc, label=\"valid accuracy\")\n",
    "plt.legend()\n",
    "plt.title(\"Accuracy\")\n",
    "plt.show()"
   ]
  },
  {
   "cell_type": "code",
   "execution_count": null,
   "metadata": {},
   "outputs": [],
   "source": []
  },
  {
   "cell_type": "code",
   "execution_count": 12,
   "metadata": {},
   "outputs": [],
   "source": [
    "from keras.regularizers import l1_l2\n",
    "\n",
    "def build_mlp_l1_l2(input_shape, output_units=10, num_neurons=[512, 256, 128], l1_ratio=1e-4, l2_ratio=1e-4):\n",
    "    input_layer = keras.layers.Input(input_shape)\n",
    "    \n",
    "    for i, n_units in enumerate(num_neurons):\n",
    "        if i == 0:\n",
    "            x = keras.layers.Dense(units=n_units, \n",
    "                                   activation=\"relu\", \n",
    "                                   name=\"hidden_layer\"+str(i+1), \n",
    "                                   kernel_regularizer=l1_l2(l1=l1_ratio, l2=l2_ratio))(input_layer)\n",
    "        else:\n",
    "            x = keras.layers.Dense(units=n_units, \n",
    "                                   activation=\"relu\", \n",
    "                                   name=\"hidden_layer\"+str(i+1),\n",
    "                                   kernel_regularizer=l1_l2(l1=l1_ratio, l2=l2_ratio))(x)\n",
    "    \n",
    "    out = keras.layers.Dense(units=output_units, activation=\"softmax\", name=\"output\")(x)\n",
    "    \n",
    "    model = keras.models.Model(inputs=[input_layer], outputs=[out])\n",
    "    return model"
   ]
  },
  {
   "cell_type": "code",
   "execution_count": 13,
   "metadata": {},
   "outputs": [
    {
     "name": "stdout",
     "output_type": "stream",
     "text": [
      "_________________________________________________________________\n",
      "Layer (type)                 Output Shape              Param #   \n",
      "=================================================================\n",
      "input_2 (InputLayer)         (None, 3072)              0         \n",
      "_________________________________________________________________\n",
      "hidden_layer1 (Dense)        (None, 512)               1573376   \n",
      "_________________________________________________________________\n",
      "hidden_layer2 (Dense)        (None, 256)               131328    \n",
      "_________________________________________________________________\n",
      "hidden_layer3 (Dense)        (None, 128)               32896     \n",
      "_________________________________________________________________\n",
      "output (Dense)               (None, 10)                1290      \n",
      "=================================================================\n",
      "Total params: 1,738,890\n",
      "Trainable params: 1,738,890\n",
      "Non-trainable params: 0\n",
      "_________________________________________________________________\n"
     ]
    }
   ],
   "source": [
    "model2 = build_mlp_l1_l2(input_shape=x_train.shape[1:])\n",
    "model2.summary()"
   ]
  },
  {
   "cell_type": "code",
   "execution_count": 14,
   "metadata": {},
   "outputs": [],
   "source": [
    "optimizer = keras.optimizers.Adam(lr=LEARNING_RATE)\n",
    "model2.compile(loss=\"categorical_crossentropy\", metrics=[\"accuracy\"], optimizer=optimizer)"
   ]
  },
  {
   "cell_type": "code",
   "execution_count": 15,
   "metadata": {},
   "outputs": [
    {
     "name": "stdout",
     "output_type": "stream",
     "text": [
      "Train on 50000 samples, validate on 10000 samples\n",
      "Epoch 1/50\n",
      "50000/50000 [==============================] - 4s 85us/step - loss: 3.6704 - acc: 0.3118 - val_loss: 2.6561 - val_acc: 0.3399\n",
      "Epoch 2/50\n",
      "50000/50000 [==============================] - 4s 76us/step - loss: 2.3581 - acc: 0.3783 - val_loss: 2.1816 - val_acc: 0.3918\n",
      "Epoch 3/50\n",
      "50000/50000 [==============================] - 4s 77us/step - loss: 2.1065 - acc: 0.4004 - val_loss: 2.0081 - val_acc: 0.4282\n",
      "Epoch 4/50\n",
      "50000/50000 [==============================] - 4s 83us/step - loss: 1.9872 - acc: 0.4129 - val_loss: 1.9308 - val_acc: 0.4245\n",
      "Epoch 5/50\n",
      "50000/50000 [==============================] - 4s 80us/step - loss: 1.9030 - acc: 0.4237 - val_loss: 1.8883 - val_acc: 0.4149\n",
      "Epoch 6/50\n",
      "50000/50000 [==============================] - 4s 71us/step - loss: 1.8438 - acc: 0.4363 - val_loss: 1.7992 - val_acc: 0.4514\n",
      "Epoch 7/50\n",
      "50000/50000 [==============================] - 4s 70us/step - loss: 1.7907 - acc: 0.4468 - val_loss: 1.8481 - val_acc: 0.4250\n",
      "Epoch 8/50\n",
      "50000/50000 [==============================] - 4s 76us/step - loss: 1.7768 - acc: 0.4468 - val_loss: 1.7842 - val_acc: 0.4480\n",
      "Epoch 9/50\n",
      "50000/50000 [==============================] - 4s 71us/step - loss: 1.7431 - acc: 0.4572 - val_loss: 1.7104 - val_acc: 0.4725\n",
      "Epoch 10/50\n",
      "50000/50000 [==============================] - 4s 78us/step - loss: 1.7074 - acc: 0.4663 - val_loss: 1.7168 - val_acc: 0.4603\n",
      "Epoch 11/50\n",
      "50000/50000 [==============================] - 4s 78us/step - loss: 1.7017 - acc: 0.4650 - val_loss: 1.7874 - val_acc: 0.4386\n",
      "Epoch 12/50\n",
      "50000/50000 [==============================] - 3s 68us/step - loss: 1.6893 - acc: 0.4693 - val_loss: 1.6876 - val_acc: 0.4674\n",
      "Epoch 13/50\n",
      "50000/50000 [==============================] - 3s 70us/step - loss: 1.6731 - acc: 0.4732 - val_loss: 1.7427 - val_acc: 0.4450\n",
      "Epoch 14/50\n",
      "50000/50000 [==============================] - 4s 72us/step - loss: 1.6555 - acc: 0.4785 - val_loss: 1.6754 - val_acc: 0.4760\n",
      "Epoch 15/50\n",
      "50000/50000 [==============================] - 4s 80us/step - loss: 1.6492 - acc: 0.4796 - val_loss: 1.7104 - val_acc: 0.4520\n",
      "Epoch 16/50\n",
      "50000/50000 [==============================] - 4s 75us/step - loss: 1.6402 - acc: 0.4803 - val_loss: 1.6735 - val_acc: 0.4796\n",
      "Epoch 17/50\n",
      "50000/50000 [==============================] - 4s 73us/step - loss: 1.6244 - acc: 0.4850 - val_loss: 1.6584 - val_acc: 0.4754\n",
      "Epoch 18/50\n",
      "50000/50000 [==============================] - 4s 84us/step - loss: 1.6233 - acc: 0.4850 - val_loss: 1.6626 - val_acc: 0.4749\n",
      "Epoch 19/50\n",
      "50000/50000 [==============================] - 4s 84us/step - loss: 1.6113 - acc: 0.4894 - val_loss: 1.6516 - val_acc: 0.4772\n",
      "Epoch 20/50\n",
      "50000/50000 [==============================] - 4s 81us/step - loss: 1.6045 - acc: 0.4933 - val_loss: 1.6226 - val_acc: 0.4874\n",
      "Epoch 21/50\n",
      "50000/50000 [==============================] - 4s 78us/step - loss: 1.6077 - acc: 0.4939 - val_loss: 1.6401 - val_acc: 0.4820\n",
      "Epoch 22/50\n",
      "50000/50000 [==============================] - 4s 74us/step - loss: 1.5920 - acc: 0.4987 - val_loss: 1.6442 - val_acc: 0.4860\n",
      "Epoch 23/50\n",
      "50000/50000 [==============================] - 4s 82us/step - loss: 1.5937 - acc: 0.4973 - val_loss: 1.6401 - val_acc: 0.4808\n",
      "Epoch 24/50\n",
      "50000/50000 [==============================] - 4s 86us/step - loss: 1.5858 - acc: 0.4979 - val_loss: 1.6472 - val_acc: 0.4766\n",
      "Epoch 25/50\n",
      "50000/50000 [==============================] - 4s 79us/step - loss: 1.5734 - acc: 0.5041 - val_loss: 1.6329 - val_acc: 0.4773\n",
      "Epoch 26/50\n",
      "50000/50000 [==============================] - 4s 77us/step - loss: 1.5743 - acc: 0.5030 - val_loss: 1.6077 - val_acc: 0.4949\n",
      "Epoch 27/50\n",
      "50000/50000 [==============================] - 4s 86us/step - loss: 1.5604 - acc: 0.5091 - val_loss: 1.6586 - val_acc: 0.4716\n",
      "Epoch 28/50\n",
      "50000/50000 [==============================] - 4s 85us/step - loss: 1.5589 - acc: 0.5095 - val_loss: 1.5963 - val_acc: 0.4967\n",
      "Epoch 29/50\n",
      "50000/50000 [==============================] - 4s 86us/step - loss: 1.5698 - acc: 0.5056 - val_loss: 1.6042 - val_acc: 0.4948\n",
      "Epoch 30/50\n",
      "50000/50000 [==============================] - 4s 80us/step - loss: 1.5586 - acc: 0.5098 - val_loss: 1.6288 - val_acc: 0.4878\n",
      "Epoch 31/50\n",
      "50000/50000 [==============================] - 4s 78us/step - loss: 1.5541 - acc: 0.5137 - val_loss: 1.6218 - val_acc: 0.4872\n",
      "Epoch 32/50\n",
      "50000/50000 [==============================] - 4s 81us/step - loss: 1.5561 - acc: 0.5117 - val_loss: 1.5878 - val_acc: 0.4985\n",
      "Epoch 33/50\n",
      "50000/50000 [==============================] - 4s 82us/step - loss: 1.5441 - acc: 0.5183 - val_loss: 1.6346 - val_acc: 0.4796\n",
      "Epoch 34/50\n",
      "50000/50000 [==============================] - 4s 74us/step - loss: 1.5393 - acc: 0.5201 - val_loss: 1.5915 - val_acc: 0.4977\n",
      "Epoch 35/50\n",
      "50000/50000 [==============================] - 4s 77us/step - loss: 1.5410 - acc: 0.5158 - val_loss: 1.5970 - val_acc: 0.5013\n",
      "Epoch 36/50\n",
      "50000/50000 [==============================] - 5s 93us/step - loss: 1.5364 - acc: 0.5195 - val_loss: 1.6603 - val_acc: 0.4820\n",
      "Epoch 37/50\n",
      "50000/50000 [==============================] - 4s 83us/step - loss: 1.5355 - acc: 0.5188 - val_loss: 1.5982 - val_acc: 0.4987\n",
      "Epoch 38/50\n",
      "50000/50000 [==============================] - 4s 85us/step - loss: 1.5209 - acc: 0.5229 - val_loss: 1.6207 - val_acc: 0.4878\n",
      "Epoch 39/50\n",
      "50000/50000 [==============================] - 4s 81us/step - loss: 1.5307 - acc: 0.5206 - val_loss: 1.5823 - val_acc: 0.5050\n",
      "Epoch 40/50\n",
      "50000/50000 [==============================] - 4s 72us/step - loss: 1.5222 - acc: 0.5237 - val_loss: 1.6473 - val_acc: 0.4862\n",
      "Epoch 41/50\n",
      "50000/50000 [==============================] - 4s 86us/step - loss: 1.5185 - acc: 0.5269 - val_loss: 1.5886 - val_acc: 0.5034\n",
      "Epoch 42/50\n",
      "50000/50000 [==============================] - 4s 81us/step - loss: 1.5226 - acc: 0.5295 - val_loss: 1.6338 - val_acc: 0.4861\n",
      "Epoch 43/50\n",
      "50000/50000 [==============================] - 4s 83us/step - loss: 1.5225 - acc: 0.5269 - val_loss: 1.6189 - val_acc: 0.4914\n",
      "Epoch 44/50\n",
      "50000/50000 [==============================] - 4s 81us/step - loss: 1.5143 - acc: 0.5312 - val_loss: 1.6048 - val_acc: 0.4971\n",
      "Epoch 45/50\n",
      "50000/50000 [==============================] - 4s 89us/step - loss: 1.5143 - acc: 0.5325 - val_loss: 1.6007 - val_acc: 0.4959\n",
      "Epoch 46/50\n",
      "50000/50000 [==============================] - 4s 81us/step - loss: 1.5063 - acc: 0.5315 - val_loss: 1.5681 - val_acc: 0.5093\n",
      "Epoch 47/50\n",
      "50000/50000 [==============================] - 4s 75us/step - loss: 1.5069 - acc: 0.5356 - val_loss: 1.6190 - val_acc: 0.4985\n",
      "Epoch 48/50\n",
      "50000/50000 [==============================] - 4s 76us/step - loss: 1.5145 - acc: 0.5315 - val_loss: 1.6352 - val_acc: 0.4921\n",
      "Epoch 49/50\n",
      "50000/50000 [==============================] - 4s 74us/step - loss: 1.4942 - acc: 0.5377 - val_loss: 1.5650 - val_acc: 0.5090\n",
      "Epoch 50/50\n",
      "50000/50000 [==============================] - 3s 69us/step - loss: 1.5028 - acc: 0.5356 - val_loss: 1.6051 - val_acc: 0.4969\n"
     ]
    },
    {
     "data": {
      "text/plain": [
       "<keras.callbacks.History at 0x1f4aead2cc0>"
      ]
     },
     "execution_count": 15,
     "metadata": {},
     "output_type": "execute_result"
    }
   ],
   "source": [
    "model2.fit(x_train, y_train, \n",
    "           epochs=EPOCHS, \n",
    "           batch_size=BATCH_SIZE, \n",
    "           validation_data=(x_test, y_test), \n",
    "           shuffle=True)"
   ]
  },
  {
   "cell_type": "code",
   "execution_count": 16,
   "metadata": {},
   "outputs": [
    {
     "data": {
      "image/png": "[encoded data removed]",
      "text/plain": [
       "<Figure size 432x288 with 1 Axes>"
      ]
     },
     "metadata": {
      "needs_background": "light"
     },
     "output_type": "display_data"
    },
    {
     "data": {
      "image/png": "[encoded data removed]",
      "text/plain": [
       "<Figure size 432x288 with 1 Axes>"
      ]
     },
     "metadata": {
      "needs_background": "light"
     },
     "output_type": "display_data"
    }
   ],
   "source": [
    "import matplotlib.pyplot as plt\n",
    "\n",
    "train_loss = model.history.history[\"loss\"]\n",
    "valid_loss = model.history.history[\"val_loss\"]\n",
    "\n",
    "train_acc = model.history.history[\"acc\"]\n",
    "valid_acc = model.history.history[\"val_acc\"]\n",
    "\n",
    "plt.plot(range(len(train_loss)), train_loss, label=\"train loss\")\n",
    "plt.plot(range(len(valid_loss)), valid_loss, label=\"valid loss\")\n",
    "plt.legend()\n",
    "plt.title(\"Loss\")\n",
    "plt.show()\n",
    "\n",
    "plt.plot(range(len(train_acc)), train_acc, label=\"train accuracy\")\n",
    "plt.plot(range(len(valid_acc)), valid_acc, label=\"valid accuracy\")\n",
    "plt.legend()\n",
    "plt.title(\"Accuracy\")\n",
    "plt.show()"
   ]
  },
  {
   "cell_type": "code",
   "execution_count": null,
   "metadata": {},
   "outputs": [],
   "source": []
  }
 ],
 "metadata": {
  "kernelspec": {
   "display_name": "Python 3",
   "language": "python",
   "name": "python3"
  },
  "language_info": {
   "codemirror_mode": {
    "name": "ipython",
    "version": 3
   },
   "file_extension": ".py",
   "mimetype": "text/x-python",
   "name": "python",
   "nbconvert_exporter": "python",
   "pygments_lexer": "ipython3",
   "version": "3.6.9"
  }
 },
 "nbformat": 4,
 "nbformat_minor": 2
}

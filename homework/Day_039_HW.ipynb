{
 "cells": [
  {
   "cell_type": "markdown",
   "metadata": {},
   "source": [
    "## [作業重點]\n",
    "清楚了解 L1, L2 的意義與差異為何，並了解 LASSO 與 Ridge 之間的差異與使用情境"
   ]
  },
  {
   "cell_type": "markdown",
   "metadata": {},
   "source": [
    "## 作業"
   ]
  },
  {
   "cell_type": "markdown",
   "metadata": {},
   "source": [
    "請閱讀相關文獻，並回答下列問題\n",
    "\n",
    "[脊回歸 (Ridge Regression)](https://blog.csdn.net/daunxx/article/details/51578787)\n",
    "[Linear, Ridge, Lasso Regression 本質區別](https://www.zhihu.com/question/38121173)\n",
    "\n",
    "1. LASSO 回歸可以被用來作為 Feature selection 的工具，請了解 LASSO 模型為什麼可用來作 Feature selection\n",
    "2. 當自變數 (X) 存在高度共線性時，Ridge Regression 可以處理這樣的問題嗎?\n"
   ]
  },
  {
   "cell_type": "markdown",
   "metadata": {},
   "source": [
    "1.LASSO 回歸可以被用來作為 Feature selection 的工具，請了解 LASSO 模型為什麼可用來作 Feature selection\n",
    "    \n",
    "    因為LASSO使用L1正則化給模型作懲罰，以防止overfitting，當正則化係數alpha設得越大，一些對真實情況預測影響較少(雜訊)的特徵，不重要的權重係數越容易被懲罰變為0(碰到菱形的邊角)，就不容易來影響模型。在特徵選擇時傾向讓模型的輕量化(稀疏性)，計算速度通常較快。\n",
    "\n",
    "2.當自變數 (X) 存在高度共線性時，Ridge Regression 可以處理這樣的問題嗎?\n",
    "    \n",
    "    可以，Ridge Regression的出現主要就是在解決這個問題，當資料具高度共線性時，如果不用正則化就會容易產生overfitting的問題，而overfitting時通常w係數都會很大，Ridge Regression就是加入一個w係數的絕對值作為正則化項，以免w係數過大，也就是防止模型overfit到某個feature上。\n",
    "    \n",
    "實務(通常)：特徵高維稀疏使用L1；特徵低維稠密使用L2\n",
    "\n",
    "補充：Elastic net\n",
    "\n",
    "    結合lasso和ridge regression，在具有多個特徵，並特徵之間具有關聯的資料中效果較好，同時有篩選特徵與降低模型複雜度的效果。"
   ]
  },
  {
   "cell_type": "code",
   "execution_count": null,
   "metadata": {},
   "outputs": [],
   "source": []
  }
 ],
 "metadata": {
  "kernelspec": {
   "display_name": "Python 3",
   "language": "python",
   "name": "python3"
  },
  "language_info": {
   "codemirror_mode": {
    "name": "ipython",
    "version": 3
   },
   "file_extension": ".py",
   "mimetype": "text/x-python",
   "name": "python",
   "nbconvert_exporter": "python",
   "pygments_lexer": "ipython3",
   "version": "3.6.9"
  }
 },
 "nbformat": 4,
 "nbformat_minor": 2
}

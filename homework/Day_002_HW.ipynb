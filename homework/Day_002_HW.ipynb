{
 "cells": [
  {
   "cell_type": "markdown",
   "metadata": {},
   "source": [
    "## [作業目標]\n",
    "了解機器學習適合應用的領域與範疇。"
   ]
  },
  {
   "cell_type": "markdown",
   "metadata": {},
   "source": [
    "## [作業重點]\n",
    "透過瞭解機器學習的運作方式，找出非常適用機器學習應用的領域及其原因"
   ]
  },
  {
   "cell_type": "markdown",
   "metadata": {},
   "source": [
    "## 作業\n",
    "請找出一個你認為機器學習可以發光發熱的領域並闡述原因? "
   ]
  },
  {
   "cell_type": "markdown",
   "metadata": {},
   "source": [
    "機器學習可以在文字領域發光發熱，因為在人類的語言可以表達各式各樣的東西，我們可以鎖定一個研究目標，例如一個人講話的情緒，對於一個東西的評價是正面或負面...等問題，文字敘述便可以將詞語組成作為特徵(使用自然語言處理技術，轉為電腦可讀取的形式)，並用我們想預測的情緒、正負評價作為label來做監督式學習，找出文字中的規律，例如在正面情緒時容易出現某些字詞。接著當有新的評論文字出現時，電腦便可以判斷其正確的label。\n",
    "\n",
    "可應用在社群軟體上，若有使用者時常發負面情緒的文章，也許可以請當地的心理專業人員去關心發文者，或利用演算法推薦有趣的影片或文章，避免或減少某些遺憾發生；在用社群文字預測商品評價上，可以給予商家大眾對其產品在社群評論上的正負評價資料，幫助商家對其產品的行銷策略，及商品不足上的改進。"
   ]
  },
  {
   "cell_type": "code",
   "execution_count": null,
   "metadata": {},
   "outputs": [],
   "source": []
  },
  {
   "cell_type": "code",
   "execution_count": null,
   "metadata": {},
   "outputs": [],
   "source": []
  }
 ],
 "metadata": {
  "kernelspec": {
   "display_name": "Python 3",
   "language": "python",
   "name": "python3"
  },
  "language_info": {
   "codemirror_mode": {
    "name": "ipython",
    "version": 3
   },
   "file_extension": ".py",
   "mimetype": "text/x-python",
   "name": "python",
   "nbconvert_exporter": "python",
   "pygments_lexer": "ipython3",
   "version": "3.6.9"
  }
 },
 "nbformat": 4,
 "nbformat_minor": 2
}

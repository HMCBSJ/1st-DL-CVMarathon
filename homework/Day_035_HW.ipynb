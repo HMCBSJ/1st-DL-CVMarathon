{
 "cells": [
  {
   "cell_type": "markdown",
   "metadata": {},
   "source": [
    "## 練習時間\n",
    "相信大家對回歸問題及分類問題都有初步的了解。今天的作業希望大家搜尋有關 multi-label 的案例問題。下圖是電影 \"奇異博士\" 的分類。可以看到同時有 \"Action\", \"Adventure\", \"Fantasy\" 的類別存在，代表這是個多標籤的問題。 "
   ]
  },
  {
   "cell_type": "markdown",
   "metadata": {},
   "source": [
    "![image](https://cdn-images-1.medium.com/max/1000/1*r0gYXMSQf5VhdMyl2bRDyg.png)"
   ]
  },
  {
   "cell_type": "markdown",
   "metadata": {},
   "source": [
    "## 請搜尋目標為多標籤問題 (Multi-label) 的機器學習案例，了解其資料來源、目標以及評估指標為何\n",
    "## Hint: 服飾"
   ]
  },
  {
   "cell_type": "markdown",
   "metadata": {},
   "source": [
    "## Ans：\n",
    "\n",
    "### 參考資料：https://www.pyimagesearch.com/2018/05/07/multi-label-classification-with-keras/\n",
    "\n",
    "### 資料來源：\n",
    "\n",
    "首先作者利用Bing Image Search API快速蒐集想要的服飾圖片，其中包含紅色洋裝、藍色牛仔褲、黑色牛仔褲...等，每一種服飾接包含了兩種label，如紅色洋裝的label即為\"紅色\"與\"洋裝\"。\n",
    "\n",
    "### 目標：\n",
    "\n",
    "希望訓練一個模型即可辨識多標籤，輸入一張圖片即可辨識出圖片中的服飾同時為\"藍色\"也同時為\"牛仔褲\"。\n",
    "\n",
    "評估指標：\n",
    "\n",
    "### 評估標準為準確率(accuracy)\n",
    "\n",
    "使用Binary crossentropy做為我們的損失函數，因為須將每一個標籤視為一個獨立的離散分布(伯努力分布)，藉此為每個標籤獨立懲罰每一個神經網路節點。\n",
    "\n",
    "\n",
    "#### p.s.伯努力分布：\n",
    "\n",
    "每個事件的發生機率都是獨立的，例如：考試及格或不及格、銅板正面或反面，若以數學式來說，\n",
    "\n",
    "P(X = 0) = 1-p\n",
    "\n",
    "P(X = 1) = p\n",
    "\n",
    "0<=p<=1\n",
    "\n",
    "就是參數為p的伯努力分布，寫為Ber(p)"
   ]
  },
  {
   "cell_type": "code",
   "execution_count": null,
   "metadata": {},
   "outputs": [],
   "source": []
  }
 ],
 "metadata": {
  "kernelspec": {
   "display_name": "Python 3",
   "language": "python",
   "name": "python3"
  },
  "language_info": {
   "codemirror_mode": {
    "name": "ipython",
    "version": 3
   },
   "file_extension": ".py",
   "mimetype": "text/x-python",
   "name": "python",
   "nbconvert_exporter": "python",
   "pygments_lexer": "ipython3",
   "version": "3.6.9"
  }
 },
 "nbformat": 4,
 "nbformat_minor": 2
}

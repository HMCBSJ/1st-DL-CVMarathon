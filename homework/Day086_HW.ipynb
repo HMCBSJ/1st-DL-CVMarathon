{
 "cells": [
  {
   "cell_type": "markdown",
   "metadata": {},
   "source": [
    "## Work\n",
    "1. 試比較 save_best_only 與否的差異\n",
    "2. 請僅存入將 save_weights_only 設定為 True, 並嘗試 reset ipynb 並將模型與權重重新建回並預測 x_test"
   ]
  },
  {
   "cell_type": "code",
   "execution_count": 1,
   "metadata": {},
   "outputs": [
    {
     "name": "stderr",
     "output_type": "stream",
     "text": [
      "Using TensorFlow backend.\n"
     ]
    }
   ],
   "source": [
    "import os\n",
    "import keras\n",
    "\n",
    "# Disable GPU\n",
    "os.environ[\"CUDA_VISIBLE_DEVICES\"] = \"0\""
   ]
  },
  {
   "cell_type": "code",
   "execution_count": 2,
   "metadata": {},
   "outputs": [],
   "source": [
    "train, test = keras.datasets.cifar10.load_data()"
   ]
  },
  {
   "cell_type": "code",
   "execution_count": 3,
   "metadata": {},
   "outputs": [],
   "source": [
    "## 資料前處理\n",
    "def preproc_x(x, flatten=True):\n",
    "    x = x / 255.\n",
    "    if flatten:\n",
    "        x = x.reshape((len(x), -1))\n",
    "    return x\n",
    "\n",
    "def preproc_y(y, num_classes=10):\n",
    "    if y.shape[-1] == 1:\n",
    "        y = keras.utils.to_categorical(y, num_classes)\n",
    "    return y    "
   ]
  },
  {
   "cell_type": "code",
   "execution_count": 4,
   "metadata": {},
   "outputs": [],
   "source": [
    "x_train, y_train = train\n",
    "x_test, y_test = test\n",
    "\n",
    "# Preproc the inputs\n",
    "x_train = preproc_x(x_train)\n",
    "x_test = preproc_x(x_test)\n",
    "\n",
    "# Preprc the outputs\n",
    "y_train = preproc_y(y_train)\n",
    "y_test = preproc_y(y_test)"
   ]
  },
  {
   "cell_type": "code",
   "execution_count": 5,
   "metadata": {},
   "outputs": [],
   "source": [
    "from keras.layers import BatchNormalization\n",
    "\n",
    "\"\"\"\n",
    "建立神經網路，並加入 BN layer\n",
    "\"\"\"\n",
    "def build_mlp(input_shape, output_units=10, num_neurons=[512, 256, 128]):\n",
    "    input_layer = keras.layers.Input(input_shape)\n",
    "    \n",
    "    for i, n_units in enumerate(num_neurons):\n",
    "        if i == 0:\n",
    "            x = keras.layers.Dense(units=n_units, \n",
    "                                   activation=\"relu\", \n",
    "                                   name=\"hidden_layer\"+str(i+1))(input_layer)\n",
    "            x = BatchNormalization()(x)\n",
    "        else:\n",
    "            x = keras.layers.Dense(units=n_units, \n",
    "                                   activation=\"relu\", \n",
    "                                   name=\"hidden_layer\"+str(i+1))(x)\n",
    "            x = BatchNormalization()(x)\n",
    "    \n",
    "    out = keras.layers.Dense(units=output_units, activation=\"softmax\", name=\"output\")(x)\n",
    "    \n",
    "    model = keras.models.Model(inputs=[input_layer], outputs=[out])\n",
    "    return model"
   ]
  },
  {
   "cell_type": "code",
   "execution_count": 6,
   "metadata": {},
   "outputs": [],
   "source": [
    "## 超參數設定\n",
    "LEARNING_RATE = 1e-3\n",
    "EPOCHS = 50\n",
    "BATCH_SIZE = 1024\n",
    "MOMENTUM = 0.95"
   ]
  },
  {
   "cell_type": "code",
   "execution_count": 7,
   "metadata": {},
   "outputs": [
    {
     "name": "stdout",
     "output_type": "stream",
     "text": [
      "_________________________________________________________________\n",
      "Layer (type)                 Output Shape              Param #   \n",
      "=================================================================\n",
      "input_1 (InputLayer)         (None, 3072)              0         \n",
      "_________________________________________________________________\n",
      "hidden_layer1 (Dense)        (None, 512)               1573376   \n",
      "_________________________________________________________________\n",
      "batch_normalization_1 (Batch (None, 512)               2048      \n",
      "_________________________________________________________________\n",
      "hidden_layer2 (Dense)        (None, 256)               131328    \n",
      "_________________________________________________________________\n",
      "batch_normalization_2 (Batch (None, 256)               1024      \n",
      "_________________________________________________________________\n",
      "hidden_layer3 (Dense)        (None, 128)               32896     \n",
      "_________________________________________________________________\n",
      "batch_normalization_3 (Batch (None, 128)               512       \n",
      "_________________________________________________________________\n",
      "output (Dense)               (None, 10)                1290      \n",
      "=================================================================\n",
      "Total params: 1,742,474\n",
      "Trainable params: 1,740,682\n",
      "Non-trainable params: 1,792\n",
      "_________________________________________________________________\n",
      "Train on 50000 samples, validate on 10000 samples\n",
      "Epoch 1/50\n",
      "50000/50000 [==============================] - 4s 85us/step - loss: 2.2336 - acc: 0.2659 - val_loss: 2.1071 - val_acc: 0.3158\n",
      "Epoch 2/50\n",
      "50000/50000 [==============================] - 2s 38us/step - loss: 1.7488 - acc: 0.3881 - val_loss: 1.8050 - val_acc: 0.3850\n",
      "Epoch 3/50\n",
      "50000/50000 [==============================] - 2s 40us/step - loss: 1.6236 - acc: 0.4308 - val_loss: 1.7094 - val_acc: 0.4022\n",
      "Epoch 4/50\n",
      "50000/50000 [==============================] - 2s 38us/step - loss: 1.5484 - acc: 0.4592 - val_loss: 1.6404 - val_acc: 0.4211\n",
      "Epoch 5/50\n",
      "50000/50000 [==============================] - 2s 39us/step - loss: 1.4924 - acc: 0.4790 - val_loss: 1.6138 - val_acc: 0.4370\n",
      "Epoch 6/50\n",
      "50000/50000 [==============================] - 2s 41us/step - loss: 1.4464 - acc: 0.4945 - val_loss: 1.5786 - val_acc: 0.4475\n",
      "Epoch 7/50\n",
      "50000/50000 [==============================] - 2s 37us/step - loss: 1.4051 - acc: 0.5091 - val_loss: 1.5576 - val_acc: 0.4548\n",
      "Epoch 8/50\n",
      "50000/50000 [==============================] - 2s 39us/step - loss: 1.3701 - acc: 0.5232 - val_loss: 1.5356 - val_acc: 0.4619\n",
      "Epoch 9/50\n",
      "50000/50000 [==============================] - 2s 38us/step - loss: 1.3373 - acc: 0.5346 - val_loss: 1.5281 - val_acc: 0.4642\n",
      "Epoch 10/50\n",
      "50000/50000 [==============================] - 2s 38us/step - loss: 1.3056 - acc: 0.5451 - val_loss: 1.5166 - val_acc: 0.4660\n",
      "Epoch 11/50\n",
      "50000/50000 [==============================] - 2s 39us/step - loss: 1.2801 - acc: 0.5544 - val_loss: 1.5124 - val_acc: 0.4658\n",
      "Epoch 12/50\n",
      "50000/50000 [==============================] - 2s 39us/step - loss: 1.2526 - acc: 0.5660 - val_loss: 1.4930 - val_acc: 0.4741\n",
      "Epoch 13/50\n",
      "50000/50000 [==============================] - 2s 39us/step - loss: 1.2262 - acc: 0.5759 - val_loss: 1.4957 - val_acc: 0.4714\n",
      "Epoch 14/50\n",
      "50000/50000 [==============================] - 2s 37us/step - loss: 1.2015 - acc: 0.5869 - val_loss: 1.4792 - val_acc: 0.4761\n",
      "Epoch 15/50\n",
      "50000/50000 [==============================] - 2s 37us/step - loss: 1.1773 - acc: 0.5959 - val_loss: 1.4819 - val_acc: 0.4812\n",
      "Epoch 16/50\n",
      "50000/50000 [==============================] - 2s 38us/step - loss: 1.1542 - acc: 0.6031 - val_loss: 1.4636 - val_acc: 0.4807\n",
      "Epoch 17/50\n",
      "50000/50000 [==============================] - 2s 38us/step - loss: 1.1319 - acc: 0.6108 - val_loss: 1.4635 - val_acc: 0.4872\n",
      "Epoch 18/50\n",
      "50000/50000 [==============================] - 2s 39us/step - loss: 1.1097 - acc: 0.6200 - val_loss: 1.4731 - val_acc: 0.4821\n",
      "Epoch 19/50\n",
      "50000/50000 [==============================] - 2s 39us/step - loss: 1.0882 - acc: 0.6291 - val_loss: 1.4800 - val_acc: 0.4855\n",
      "Epoch 20/50\n",
      "50000/50000 [==============================] - 2s 40us/step - loss: 1.0663 - acc: 0.6366 - val_loss: 1.4610 - val_acc: 0.4865\n",
      "Epoch 21/50\n",
      "50000/50000 [==============================] - 2s 38us/step - loss: 1.0438 - acc: 0.6466 - val_loss: 1.4588 - val_acc: 0.4903\n",
      "Epoch 22/50\n",
      "50000/50000 [==============================] - 2s 37us/step - loss: 1.0224 - acc: 0.6543 - val_loss: 1.4629 - val_acc: 0.4929\n",
      "Epoch 23/50\n",
      "50000/50000 [==============================] - 2s 40us/step - loss: 1.0034 - acc: 0.6619 - val_loss: 1.4586 - val_acc: 0.4913\n",
      "Epoch 24/50\n",
      "50000/50000 [==============================] - 2s 40us/step - loss: 0.9817 - acc: 0.6705 - val_loss: 1.4630 - val_acc: 0.4961\n",
      "Epoch 25/50\n",
      "50000/50000 [==============================] - 2s 40us/step - loss: 0.9626 - acc: 0.6771 - val_loss: 1.4698 - val_acc: 0.4943\n",
      "Epoch 26/50\n",
      "50000/50000 [==============================] - 2s 37us/step - loss: 0.9419 - acc: 0.6879 - val_loss: 1.4731 - val_acc: 0.4944\n",
      "Epoch 27/50\n",
      "50000/50000 [==============================] - 2s 39us/step - loss: 0.9222 - acc: 0.6932 - val_loss: 1.4791 - val_acc: 0.4886\n",
      "Epoch 28/50\n",
      "50000/50000 [==============================] - 2s 39us/step - loss: 0.9014 - acc: 0.7023 - val_loss: 1.4812 - val_acc: 0.4940\n",
      "Epoch 29/50\n",
      "50000/50000 [==============================] - 2s 36us/step - loss: 0.8813 - acc: 0.7087 - val_loss: 1.4806 - val_acc: 0.4923\n",
      "Epoch 30/50\n",
      "50000/50000 [==============================] - 2s 37us/step - loss: 0.8626 - acc: 0.7177 - val_loss: 1.4883 - val_acc: 0.4945\n",
      "Epoch 31/50\n",
      "50000/50000 [==============================] - 2s 38us/step - loss: 0.8431 - acc: 0.7254 - val_loss: 1.4987 - val_acc: 0.4902\n",
      "Epoch 32/50\n",
      "50000/50000 [==============================] - 2s 39us/step - loss: 0.8239 - acc: 0.7315 - val_loss: 1.5046 - val_acc: 0.4936\n",
      "Epoch 33/50\n",
      "50000/50000 [==============================] - 2s 39us/step - loss: 0.8047 - acc: 0.7386 - val_loss: 1.5072 - val_acc: 0.4955\n",
      "Epoch 34/50\n",
      "50000/50000 [==============================] - 2s 39us/step - loss: 0.7853 - acc: 0.7463 - val_loss: 1.5219 - val_acc: 0.4855\n",
      "Epoch 35/50\n",
      "50000/50000 [==============================] - 2s 37us/step - loss: 0.7663 - acc: 0.7535 - val_loss: 1.5205 - val_acc: 0.4908\n",
      "Epoch 36/50\n",
      "50000/50000 [==============================] - 2s 40us/step - loss: 0.7456 - acc: 0.7637 - val_loss: 1.5453 - val_acc: 0.4893\n",
      "Epoch 37/50\n",
      "50000/50000 [==============================] - 2s 37us/step - loss: 0.7278 - acc: 0.7700 - val_loss: 1.5388 - val_acc: 0.4874\n",
      "Epoch 38/50\n",
      "50000/50000 [==============================] - 2s 40us/step - loss: 0.7111 - acc: 0.7752 - val_loss: 1.5517 - val_acc: 0.4928\n",
      "Epoch 39/50\n",
      "50000/50000 [==============================] - 2s 36us/step - loss: 0.6920 - acc: 0.7832 - val_loss: 1.5536 - val_acc: 0.4931\n",
      "Epoch 40/50\n",
      "50000/50000 [==============================] - 2s 37us/step - loss: 0.6753 - acc: 0.7889 - val_loss: 1.5669 - val_acc: 0.4935\n",
      "Epoch 41/50\n",
      "50000/50000 [==============================] - 2s 39us/step - loss: 0.6558 - acc: 0.7976 - val_loss: 1.5850 - val_acc: 0.4919\n",
      "Epoch 42/50\n",
      "50000/50000 [==============================] - 2s 39us/step - loss: 0.6358 - acc: 0.8053 - val_loss: 1.6101 - val_acc: 0.4874\n",
      "Epoch 43/50\n",
      "50000/50000 [==============================] - 2s 38us/step - loss: 0.6206 - acc: 0.8115 - val_loss: 1.5902 - val_acc: 0.4917\n",
      "Epoch 44/50\n",
      "50000/50000 [==============================] - 2s 38us/step - loss: 0.6045 - acc: 0.8184 - val_loss: 1.6074 - val_acc: 0.4884\n",
      "Epoch 45/50\n",
      "50000/50000 [==============================] - 2s 39us/step - loss: 0.5863 - acc: 0.8248 - val_loss: 1.6218 - val_acc: 0.4944\n",
      "Epoch 46/50\n",
      "50000/50000 [==============================] - 2s 38us/step - loss: 0.5680 - acc: 0.8320 - val_loss: 1.6255 - val_acc: 0.4904\n",
      "Epoch 47/50\n",
      "50000/50000 [==============================] - 2s 36us/step - loss: 0.5500 - acc: 0.8384 - val_loss: 1.6401 - val_acc: 0.4911\n",
      "Epoch 48/50\n",
      "50000/50000 [==============================] - 2s 39us/step - loss: 0.5329 - acc: 0.8473 - val_loss: 1.6630 - val_acc: 0.4865\n",
      "Epoch 49/50\n",
      "50000/50000 [==============================] - 2s 39us/step - loss: 0.5199 - acc: 0.8506 - val_loss: 1.6713 - val_acc: 0.4903\n"
     ]
    },
    {
     "name": "stdout",
     "output_type": "stream",
     "text": [
      "Epoch 50/50\n",
      "50000/50000 [==============================] - 2s 38us/step - loss: 0.5029 - acc: 0.8566 - val_loss: 1.6750 - val_acc: 0.4915\n",
      "10000/10000 [==============================] - 1s 51us/step\n"
     ]
    }
   ],
   "source": [
    "# 載入 Callbacks\n",
    "\"\"\"Code Here\n",
    "設定 callbacks: model checkpoint\n",
    "\"\"\"\n",
    "from keras.callbacks import ModelCheckpoint\n",
    "\n",
    "model_ckpt = ModelCheckpoint(filepath=\"./tmp.h5\", \n",
    "                             monitor=\"val_loss\", \n",
    "                             save_best_only=True)\n",
    "\n",
    "\n",
    "model = build_mlp(input_shape=x_train.shape[1:])\n",
    "model.summary()\n",
    "optimizer = keras.optimizers.SGD(lr=LEARNING_RATE, nesterov=True, momentum=MOMENTUM)\n",
    "model.compile(loss=\"categorical_crossentropy\", metrics=[\"accuracy\"], optimizer=optimizer)\n",
    "\n",
    "model.fit(x_train, y_train, \n",
    "          epochs=EPOCHS, \n",
    "          batch_size=BATCH_SIZE, \n",
    "          validation_data=(x_test, y_test), \n",
    "          shuffle=True,\n",
    "          callbacks=[model_ckpt]\n",
    "         )\n",
    "\n",
    "# Collect results\n",
    "train_loss = model.history.history[\"loss\"]\n",
    "valid_loss = model.history.history[\"val_loss\"]\n",
    "train_acc = model.history.history[\"acc\"]\n",
    "valid_acc = model.history.history[\"val_acc\"]\n",
    "\n",
    "# Load back\n",
    "model = keras.models.load_model(\"./tmp.h5\")\n",
    "loss_loadback, acc_loadback = model.evaluate(x_test, y_test)"
   ]
  },
  {
   "cell_type": "code",
   "execution_count": 8,
   "metadata": {
    "scrolled": true
   },
   "outputs": [
    {
     "data": {
      "image/png": "[encoded data removed]",
      "text/plain": [
       "<Figure size 432x288 with 1 Axes>"
      ]
     },
     "metadata": {
      "needs_background": "light"
     },
     "output_type": "display_data"
    },
    {
     "data": {
      "image/png": "[encoded data removed]",
      "text/plain": [
       "<Figure size 432x288 with 1 Axes>"
      ]
     },
     "metadata": {
      "needs_background": "light"
     },
     "output_type": "display_data"
    }
   ],
   "source": [
    "import matplotlib.pyplot as plt\n",
    "%matplotlib inline\n",
    "\"\"\"Code Here\n",
    "將結果繪出\n",
    "\"\"\"\n",
    "plt.plot(range(len(train_loss)), train_loss, label=\"train loss\")\n",
    "plt.plot(range(len(valid_loss)), valid_loss, label=\"valid loss\")\n",
    "plt.hlines(y=loss_loadback, xmin=0, xmax=len(train_loss), colors='r', linestyles='--')\n",
    "plt.legend()\n",
    "plt.title(\"Loss\")\n",
    "plt.show()\n",
    "\n",
    "plt.plot(range(len(train_acc)), train_acc, label=\"train accuracy\")\n",
    "plt.plot(range(len(valid_acc)), valid_acc, label=\"valid accuracy\")\n",
    "plt.hlines(y=acc_loadback, xmin=0, xmax=len(train_loss), colors='r', linestyles='--')\n",
    "plt.legend()\n",
    "plt.title(\"Accuracy\")\n",
    "plt.show()"
   ]
  },
  {
   "cell_type": "code",
   "execution_count": null,
   "metadata": {},
   "outputs": [],
   "source": []
  }
 ],
 "metadata": {
  "kernelspec": {
   "display_name": "Python 3",
   "language": "python",
   "name": "python3"
  },
  "language_info": {
   "codemirror_mode": {
    "name": "ipython",
    "version": 3
   },
   "file_extension": ".py",
   "mimetype": "text/x-python",
   "name": "python",
   "nbconvert_exporter": "python",
   "pygments_lexer": "ipython3",
   "version": "3.6.9"
  }
 },
 "nbformat": 4,
 "nbformat_minor": 2
}

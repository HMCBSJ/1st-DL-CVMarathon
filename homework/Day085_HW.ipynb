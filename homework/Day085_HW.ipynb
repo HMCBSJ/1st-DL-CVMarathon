{
 "cells": [
  {
   "cell_type": "markdown",
   "metadata": {},
   "source": [
    "## Work\n",
    "1. 試改變 monitor \"Validation Accuracy\" 並比較結果\n",
    "2. 調整 earlystop 的等待次數至 10, 25 並比較結果"
   ]
  },
  {
   "cell_type": "code",
   "execution_count": 1,
   "metadata": {},
   "outputs": [
    {
     "name": "stderr",
     "output_type": "stream",
     "text": [
      "Using TensorFlow backend.\n"
     ]
    }
   ],
   "source": [
    "import os\n",
    "import keras\n",
    "import matplotlib.pyplot as plt\n",
    "%matplotlib inline\n",
    "\n",
    "\n",
    "# Disable GPU\n",
    "os.environ[\"CUDA_VISIBLE_DEVICES\"] = \"0\""
   ]
  },
  {
   "cell_type": "code",
   "execution_count": 2,
   "metadata": {},
   "outputs": [],
   "source": [
    "train, test = keras.datasets.cifar10.load_data()"
   ]
  },
  {
   "cell_type": "code",
   "execution_count": 3,
   "metadata": {},
   "outputs": [],
   "source": [
    "## 資料前處理\n",
    "def preproc_x(x, flatten=True):\n",
    "    x = x / 255.\n",
    "    if flatten:\n",
    "        x = x.reshape((len(x), -1))\n",
    "    return x\n",
    "\n",
    "def preproc_y(y, num_classes=10):\n",
    "    if y.shape[-1] == 1:\n",
    "        y = keras.utils.to_categorical(y, num_classes)\n",
    "    return y    "
   ]
  },
  {
   "cell_type": "code",
   "execution_count": 4,
   "metadata": {},
   "outputs": [],
   "source": [
    "x_train, y_train = train\n",
    "x_test, y_test = test\n",
    "\n",
    "# Preproc the inputs\n",
    "x_train = preproc_x(x_train)\n",
    "x_test = preproc_x(x_test)\n",
    "\n",
    "# Preprc the outputs\n",
    "y_train = preproc_y(y_train)\n",
    "y_test = preproc_y(y_test)"
   ]
  },
  {
   "cell_type": "code",
   "execution_count": 5,
   "metadata": {},
   "outputs": [],
   "source": [
    "from keras.layers import BatchNormalization\n",
    "from keras.regularizers import l1, l2, l1_l2\n",
    "\n",
    "def build_mlp(input_shape, output_units=10, num_neurons=[512, 256, 128]):\n",
    "    input_layer = keras.layers.Input(input_shape)\n",
    "    \n",
    "    for i, n_units in enumerate(num_neurons):\n",
    "        if i == 0:\n",
    "            x = keras.layers.Dense(units=n_units, \n",
    "                                   activation=\"relu\", \n",
    "                                   name=\"hidden_layer\"+str(i+1),\n",
    "                                   kernel_regularizer=l2(1e-12))(input_layer)\n",
    "            x = BatchNormalization()(x)\n",
    "        else:\n",
    "            x = keras.layers.Dense(units=n_units, \n",
    "                                   activation=\"relu\", \n",
    "                                   name=\"hidden_layer\"+str(i+1),\n",
    "                                   kernel_regularizer=l2(1e-12))(x)\n",
    "            x = BatchNormalization()(x)\n",
    "    \n",
    "    out = keras.layers.Dense(units=output_units, activation=\"softmax\", name=\"output\")(x)\n",
    "    \n",
    "    model = keras.models.Model(inputs=[input_layer], outputs=[out])\n",
    "    return model"
   ]
  },
  {
   "cell_type": "code",
   "execution_count": 6,
   "metadata": {},
   "outputs": [],
   "source": [
    "\"\"\"Code Here\n",
    "設定超參數\n",
    "\"\"\"\n",
    "## 超參數設定\n",
    "LEARNING_RATE = 1e-3\n",
    "EPOCHS = 50\n",
    "BATCH_SIZE = 1024\n",
    "MOMENTUM = 0.95\n",
    "EARLYSTOP = [10, 25]"
   ]
  },
  {
   "cell_type": "code",
   "execution_count": 7,
   "metadata": {
    "scrolled": false
   },
   "outputs": [
    {
     "name": "stdout",
     "output_type": "stream",
     "text": [
      "_________________________________________________________________\n",
      "Layer (type)                 Output Shape              Param #   \n",
      "=================================================================\n",
      "input_1 (InputLayer)         (None, 3072)              0         \n",
      "_________________________________________________________________\n",
      "hidden_layer1 (Dense)        (None, 512)               1573376   \n",
      "_________________________________________________________________\n",
      "batch_normalization_1 (Batch (None, 512)               2048      \n",
      "_________________________________________________________________\n",
      "hidden_layer2 (Dense)        (None, 256)               131328    \n",
      "_________________________________________________________________\n",
      "batch_normalization_2 (Batch (None, 256)               1024      \n",
      "_________________________________________________________________\n",
      "hidden_layer3 (Dense)        (None, 128)               32896     \n",
      "_________________________________________________________________\n",
      "batch_normalization_3 (Batch (None, 128)               512       \n",
      "_________________________________________________________________\n",
      "output (Dense)               (None, 10)                1290      \n",
      "=================================================================\n",
      "Total params: 1,742,474\n",
      "Trainable params: 1,740,682\n",
      "Non-trainable params: 1,792\n",
      "_________________________________________________________________\n",
      "Train on 50000 samples, validate on 10000 samples\n",
      "Epoch 1/50\n",
      "50000/50000 [==============================] - 4s 87us/step - loss: 2.1984 - acc: 0.2733 - val_loss: 2.1250 - val_acc: 0.3151\n",
      "Epoch 2/50\n",
      "50000/50000 [==============================] - 2s 40us/step - loss: 1.7449 - acc: 0.3919 - val_loss: 1.8007 - val_acc: 0.3783\n",
      "Epoch 3/50\n",
      "50000/50000 [==============================] - 2s 40us/step - loss: 1.6259 - acc: 0.4274 - val_loss: 1.6900 - val_acc: 0.4149\n",
      "Epoch 4/50\n",
      "50000/50000 [==============================] - 2s 42us/step - loss: 1.5516 - acc: 0.4543 - val_loss: 1.6273 - val_acc: 0.4311\n",
      "Epoch 5/50\n",
      "50000/50000 [==============================] - 2s 38us/step - loss: 1.4977 - acc: 0.4735 - val_loss: 1.5801 - val_acc: 0.4433\n",
      "Epoch 6/50\n",
      "50000/50000 [==============================] - 2s 39us/step - loss: 1.4544 - acc: 0.4899 - val_loss: 1.5578 - val_acc: 0.4527\n",
      "Epoch 7/50\n",
      "50000/50000 [==============================] - 2s 38us/step - loss: 1.4152 - acc: 0.5037 - val_loss: 1.5475 - val_acc: 0.4507\n",
      "Epoch 8/50\n",
      "50000/50000 [==============================] - 2s 39us/step - loss: 1.3810 - acc: 0.5163 - val_loss: 1.5285 - val_acc: 0.4652\n",
      "Epoch 9/50\n",
      "50000/50000 [==============================] - 2s 43us/step - loss: 1.3486 - acc: 0.5274 - val_loss: 1.5097 - val_acc: 0.4715\n",
      "Epoch 10/50\n",
      "50000/50000 [==============================] - 2s 40us/step - loss: 1.3185 - acc: 0.5397 - val_loss: 1.4996 - val_acc: 0.4722\n",
      "Epoch 11/50\n",
      "50000/50000 [==============================] - 2s 39us/step - loss: 1.2916 - acc: 0.5499 - val_loss: 1.4823 - val_acc: 0.4822\n",
      "Epoch 12/50\n",
      "50000/50000 [==============================] - 2s 39us/step - loss: 1.2637 - acc: 0.5619 - val_loss: 1.4834 - val_acc: 0.4785\n",
      "Epoch 13/50\n",
      "50000/50000 [==============================] - 2s 40us/step - loss: 1.2399 - acc: 0.5696 - val_loss: 1.4787 - val_acc: 0.4826\n",
      "Epoch 14/50\n",
      "50000/50000 [==============================] - 2s 41us/step - loss: 1.2144 - acc: 0.5780 - val_loss: 1.4623 - val_acc: 0.4851\n",
      "Epoch 15/50\n",
      "50000/50000 [==============================] - 2s 40us/step - loss: 1.1902 - acc: 0.5887 - val_loss: 1.4679 - val_acc: 0.4837\n",
      "Epoch 16/50\n",
      "50000/50000 [==============================] - 2s 39us/step - loss: 1.1668 - acc: 0.5980 - val_loss: 1.4553 - val_acc: 0.4892\n",
      "Epoch 17/50\n",
      "50000/50000 [==============================] - 2s 38us/step - loss: 1.1419 - acc: 0.6071 - val_loss: 1.4618 - val_acc: 0.4867\n",
      "Epoch 18/50\n",
      "50000/50000 [==============================] - 2s 40us/step - loss: 1.1202 - acc: 0.6158 - val_loss: 1.4521 - val_acc: 0.4939\n",
      "Epoch 19/50\n",
      "50000/50000 [==============================] - 2s 39us/step - loss: 1.0995 - acc: 0.6226 - val_loss: 1.4539 - val_acc: 0.4957\n",
      "Epoch 20/50\n",
      "50000/50000 [==============================] - 2s 39us/step - loss: 1.0767 - acc: 0.6343 - val_loss: 1.4510 - val_acc: 0.4942\n",
      "Epoch 21/50\n",
      "50000/50000 [==============================] - 2s 39us/step - loss: 1.0562 - acc: 0.6382 - val_loss: 1.4691 - val_acc: 0.4885\n",
      "Epoch 22/50\n",
      "50000/50000 [==============================] - 2s 38us/step - loss: 1.0355 - acc: 0.6480 - val_loss: 1.4468 - val_acc: 0.4961\n",
      "Epoch 23/50\n",
      "50000/50000 [==============================] - 2s 40us/step - loss: 1.0146 - acc: 0.6563 - val_loss: 1.4541 - val_acc: 0.4999\n",
      "Epoch 24/50\n",
      "50000/50000 [==============================] - 2s 40us/step - loss: 0.9911 - acc: 0.6647 - val_loss: 1.4486 - val_acc: 0.4978\n",
      "Epoch 25/50\n",
      "50000/50000 [==============================] - 2s 40us/step - loss: 0.9714 - acc: 0.6727 - val_loss: 1.4509 - val_acc: 0.4990\n",
      "Epoch 26/50\n",
      "50000/50000 [==============================] - 2s 39us/step - loss: 0.9522 - acc: 0.6795 - val_loss: 1.4571 - val_acc: 0.5023\n",
      "Epoch 27/50\n",
      "50000/50000 [==============================] - 2s 41us/step - loss: 0.9314 - acc: 0.6886 - val_loss: 1.4551 - val_acc: 0.5010\n",
      "Epoch 00027: early stopping\n"
     ]
    }
   ],
   "source": [
    "# 載入 Callbacks\n",
    "\"\"\"Code Here\n",
    "設定 callbacks: Earlystop\n",
    "\"\"\"\n",
    "from keras.callbacks import EarlyStopping\n",
    "\n",
    "earlystop = EarlyStopping(monitor=\"val_loss\", \n",
    "                          patience=5, \n",
    "                          verbose=1\n",
    "                          )\n",
    "\n",
    "\"\"\"Code Here\n",
    "撰寫你的訓練流程並將結果用 dictionary 紀錄\n",
    "\"\"\"\n",
    "model = build_mlp(input_shape=x_train.shape[1:])\n",
    "model.summary()\n",
    "optimizer = keras.optimizers.SGD(lr=LEARNING_RATE, nesterov=True, momentum=MOMENTUM)\n",
    "model.compile(loss=\"categorical_crossentropy\", metrics=[\"accuracy\"], optimizer=optimizer)\n",
    "\n",
    "model.fit(x_train, y_train, \n",
    "          epochs=EPOCHS, \n",
    "          batch_size=BATCH_SIZE, \n",
    "          validation_data=(x_test, y_test), \n",
    "          shuffle=True, \n",
    "          callbacks=[earlystop])\n",
    "\n",
    "# Collect results\n",
    "train_loss = model.history.history[\"loss\"]\n",
    "valid_loss = model.history.history[\"val_loss\"]\n",
    "train_acc = model.history.history[\"acc\"]\n",
    "valid_acc = model.history.history[\"val_acc\"]"
   ]
  },
  {
   "cell_type": "code",
   "execution_count": 8,
   "metadata": {},
   "outputs": [
    {
     "data": {
      "image/png": "[encoded data removed]",
      "text/plain": [
       "<Figure size 432x288 with 1 Axes>"
      ]
     },
     "metadata": {
      "needs_background": "light"
     },
     "output_type": "display_data"
    },
    {
     "data": {
      "image/png": "[encoded data removed]",
      "text/plain": [
       "<Figure size 432x288 with 1 Axes>"
      ]
     },
     "metadata": {
      "needs_background": "light"
     },
     "output_type": "display_data"
    }
   ],
   "source": [
    "import matplotlib.pyplot as plt\n",
    "%matplotlib inline\n",
    "\"\"\"Code Here\n",
    "將結果繪出\n",
    "\"\"\"\n",
    "\n",
    "plt.plot(range(len(train_loss)), train_loss, label=\"train loss\")\n",
    "plt.plot(range(len(valid_loss)), valid_loss, label=\"valid loss\")\n",
    "plt.legend()\n",
    "plt.title(\"Loss\")\n",
    "plt.show()\n",
    "\n",
    "plt.plot(range(len(train_acc)), train_acc, label=\"train accuracy\")\n",
    "plt.plot(range(len(valid_acc)), valid_acc, label=\"valid accuracy\")\n",
    "plt.legend()\n",
    "plt.title(\"Accuracy\")\n",
    "plt.show()"
   ]
  },
  {
   "cell_type": "code",
   "execution_count": null,
   "metadata": {},
   "outputs": [],
   "source": []
  }
 ],
 "metadata": {
  "kernelspec": {
   "display_name": "Python 3",
   "language": "python",
   "name": "python3"
  },
  "language_info": {
   "codemirror_mode": {
    "name": "ipython",
    "version": 3
   },
   "file_extension": ".py",
   "mimetype": "text/x-python",
   "name": "python",
   "nbconvert_exporter": "python",
   "pygments_lexer": "ipython3",
   "version": "3.6.9"
  }
 },
 "nbformat": 4,
 "nbformat_minor": 2
}

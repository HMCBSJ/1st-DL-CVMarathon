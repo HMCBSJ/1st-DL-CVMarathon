{
 "cells": [
  {
   "cell_type": "markdown",
   "metadata": {},
   "source": [
    "## Work\n",
    "### 請結合前面的知識與程式碼，比較不同的 regularization 的組合對訓練的結果與影響：如 dropout, regularizers, batch-normalization 等"
   ]
  },
  {
   "cell_type": "code",
   "execution_count": 1,
   "metadata": {},
   "outputs": [
    {
     "name": "stderr",
     "output_type": "stream",
     "text": [
      "Using TensorFlow backend.\n"
     ]
    }
   ],
   "source": [
    "import os\n",
    "import keras\n",
    "import itertools\n",
    "# Disable GPU\n",
    "os.environ[\"CUDA_VISIBLE_DEVICES\"] = \"0\""
   ]
  },
  {
   "cell_type": "code",
   "execution_count": 2,
   "metadata": {},
   "outputs": [],
   "source": [
    "train, test = keras.datasets.cifar10.load_data()"
   ]
  },
  {
   "cell_type": "code",
   "execution_count": 3,
   "metadata": {},
   "outputs": [],
   "source": [
    "## 資料前處理\n",
    "def preproc_x(x, flatten=True):\n",
    "    x = x / 255.\n",
    "    if flatten:\n",
    "        x = x.reshape((len(x), -1))\n",
    "    return x\n",
    "\n",
    "def preproc_y(y, num_classes=10):\n",
    "    if y.shape[-1] == 1:\n",
    "        y = keras.utils.to_categorical(y, num_classes)\n",
    "    return y    "
   ]
  },
  {
   "cell_type": "code",
   "execution_count": 4,
   "metadata": {},
   "outputs": [],
   "source": [
    "x_train, y_train = train\n",
    "x_test, y_test = test\n",
    "\n",
    "# Preproc the inputs\n",
    "x_train = preproc_x(x_train)\n",
    "x_test = preproc_x(x_test)\n",
    "\n",
    "# Preprc the outputs\n",
    "y_train = preproc_y(y_train)\n",
    "y_test = preproc_y(y_test)"
   ]
  },
  {
   "cell_type": "code",
   "execution_count": 5,
   "metadata": {},
   "outputs": [],
   "source": [
    "from keras.regularizers import l1, l2, l1_l2\n",
    "from keras.layers import Dropout, BatchNormalization\n",
    "\n",
    "def build_mlp(input_shape, output_units=10, num_neurons=[512, 256, 128]):\n",
    "    \"\"\"Code Here\n",
    "    建立你的神經網路\n",
    "    \"\"\"\n",
    "    input_layer = keras.layers.Input(input_shape)\n",
    "    \n",
    "    for i, n_units in enumerate(num_neurons):\n",
    "        if i == 0:\n",
    "            x = keras.layers.Dense(units=n_units, \n",
    "                                   activation=\"relu\", \n",
    "                                   name=\"hidden_layer\"+str(i+1))(input_layer)\n",
    "            \n",
    "            x = BatchNormalization()(x)\n",
    "        else:\n",
    "            x = keras.layers.Dense(units=n_units, \n",
    "                                   activation=\"relu\", \n",
    "                                   name=\"hidden_layer\"+str(i+1),\n",
    "                                   kernel_regularizer=l2(1e-12))(x)\n",
    "            drop = Dropout(0.25)(x)\n",
    "            x = BatchNormalization()(drop)\n",
    "    \n",
    "    out = keras.layers.Dense(units=output_units, activation=\"softmax\", name=\"output\")(x)\n",
    "    \n",
    "    model = keras.models.Model(inputs=[input_layer], outputs=[out])\n",
    "    return model"
   ]
  },
  {
   "cell_type": "code",
   "execution_count": 6,
   "metadata": {},
   "outputs": [],
   "source": [
    "\"\"\"Code Here\n",
    "設定超參數\n",
    "\"\"\"\n",
    "## 超參數設定\n",
    "LEARNING_RATE = 3e-4\n",
    "EPOCHS = 50\n",
    "BATCH_SIZE = 32\n",
    "MOMENTUM = 0.95"
   ]
  },
  {
   "cell_type": "code",
   "execution_count": 7,
   "metadata": {
    "scrolled": false
   },
   "outputs": [
    {
     "name": "stdout",
     "output_type": "stream",
     "text": [
      "_________________________________________________________________\n",
      "Layer (type)                 Output Shape              Param #   \n",
      "=================================================================\n",
      "input_1 (InputLayer)         (None, 3072)              0         \n",
      "_________________________________________________________________\n",
      "hidden_layer1 (Dense)        (None, 512)               1573376   \n",
      "_________________________________________________________________\n",
      "batch_normalization_1 (Batch (None, 512)               2048      \n",
      "_________________________________________________________________\n",
      "hidden_layer2 (Dense)        (None, 256)               131328    \n",
      "_________________________________________________________________\n",
      "dropout_1 (Dropout)          (None, 256)               0         \n",
      "_________________________________________________________________\n",
      "batch_normalization_2 (Batch (None, 256)               1024      \n",
      "_________________________________________________________________\n",
      "hidden_layer3 (Dense)        (None, 128)               32896     \n",
      "_________________________________________________________________\n",
      "dropout_2 (Dropout)          (None, 128)               0         \n",
      "_________________________________________________________________\n",
      "batch_normalization_3 (Batch (None, 128)               512       \n",
      "_________________________________________________________________\n",
      "output (Dense)               (None, 10)                1290      \n",
      "=================================================================\n",
      "Total params: 1,742,474\n",
      "Trainable params: 1,740,682\n",
      "Non-trainable params: 1,792\n",
      "_________________________________________________________________\n",
      "Train on 50000 samples, validate on 10000 samples\n",
      "Epoch 1/50\n",
      "50000/50000 [==============================] - 12s 235us/step - loss: 2.0299 - acc: 0.3005 - val_loss: 1.6573 - val_acc: 0.4134\n",
      "Epoch 2/50\n",
      "50000/50000 [==============================] - 10s 207us/step - loss: 1.7621 - acc: 0.3756 - val_loss: 1.6341 - val_acc: 0.4308\n",
      "Epoch 3/50\n",
      "50000/50000 [==============================] - 10s 198us/step - loss: 1.6833 - acc: 0.4019 - val_loss: 1.5282 - val_acc: 0.4614\n",
      "Epoch 4/50\n",
      "50000/50000 [==============================] - 10s 197us/step - loss: 1.6315 - acc: 0.4195 - val_loss: 1.5038 - val_acc: 0.4706\n",
      "Epoch 5/50\n",
      "50000/50000 [==============================] - 10s 197us/step - loss: 1.5986 - acc: 0.4313 - val_loss: 1.5083 - val_acc: 0.4689\n",
      "Epoch 6/50\n",
      "50000/50000 [==============================] - 10s 197us/step - loss: 1.5750 - acc: 0.4417 - val_loss: 1.5078 - val_acc: 0.4646\n",
      "Epoch 7/50\n",
      "50000/50000 [==============================] - 10s 197us/step - loss: 1.5508 - acc: 0.4454 - val_loss: 1.4732 - val_acc: 0.4696\n",
      "Epoch 8/50\n",
      "50000/50000 [==============================] - 10s 197us/step - loss: 1.5400 - acc: 0.4510 - val_loss: 1.4561 - val_acc: 0.4826\n",
      "Epoch 9/50\n",
      "50000/50000 [==============================] - 10s 197us/step - loss: 1.5229 - acc: 0.4581 - val_loss: 1.4843 - val_acc: 0.4713\n",
      "Epoch 10/50\n",
      "50000/50000 [==============================] - 10s 196us/step - loss: 1.4965 - acc: 0.4676 - val_loss: 1.4454 - val_acc: 0.4891\n",
      "Epoch 11/50\n",
      "50000/50000 [==============================] - 10s 197us/step - loss: 1.4925 - acc: 0.4702 - val_loss: 1.4467 - val_acc: 0.4858\n",
      "Epoch 12/50\n",
      "50000/50000 [==============================] - 10s 197us/step - loss: 1.4830 - acc: 0.4717 - val_loss: 1.4430 - val_acc: 0.4942\n",
      "Epoch 13/50\n",
      "50000/50000 [==============================] - 10s 196us/step - loss: 1.4607 - acc: 0.4785 - val_loss: 1.3917 - val_acc: 0.5125\n",
      "Epoch 14/50\n",
      "50000/50000 [==============================] - 10s 196us/step - loss: 1.4534 - acc: 0.4851 - val_loss: 1.4161 - val_acc: 0.4916\n",
      "Epoch 15/50\n",
      "50000/50000 [==============================] - 10s 197us/step - loss: 1.4378 - acc: 0.4860 - val_loss: 1.4045 - val_acc: 0.4956\n",
      "Epoch 16/50\n",
      "50000/50000 [==============================] - 10s 197us/step - loss: 1.4309 - acc: 0.4907 - val_loss: 1.3777 - val_acc: 0.5138\n",
      "Epoch 17/50\n",
      "50000/50000 [==============================] - 10s 197us/step - loss: 1.4236 - acc: 0.4935 - val_loss: 1.4248 - val_acc: 0.4930\n",
      "Epoch 18/50\n",
      "50000/50000 [==============================] - 10s 198us/step - loss: 1.4177 - acc: 0.4932 - val_loss: 1.3922 - val_acc: 0.5067\n",
      "Epoch 19/50\n",
      "50000/50000 [==============================] - 10s 196us/step - loss: 1.4109 - acc: 0.4996 - val_loss: 1.3688 - val_acc: 0.5172\n",
      "Epoch 20/50\n",
      "50000/50000 [==============================] - 10s 197us/step - loss: 1.3912 - acc: 0.5033 - val_loss: 1.3783 - val_acc: 0.5152\n",
      "Epoch 21/50\n",
      "50000/50000 [==============================] - 10s 198us/step - loss: 1.3876 - acc: 0.5061 - val_loss: 1.3784 - val_acc: 0.5065\n",
      "Epoch 22/50\n",
      "50000/50000 [==============================] - 10s 196us/step - loss: 1.3795 - acc: 0.5110 - val_loss: 1.4497 - val_acc: 0.4854\n",
      "Epoch 23/50\n",
      "50000/50000 [==============================] - 10s 197us/step - loss: 1.3678 - acc: 0.5117 - val_loss: 1.3839 - val_acc: 0.5073\n",
      "Epoch 24/50\n",
      "50000/50000 [==============================] - 10s 197us/step - loss: 1.3673 - acc: 0.5138 - val_loss: 1.3568 - val_acc: 0.5180\n",
      "Epoch 25/50\n",
      "50000/50000 [==============================] - 10s 197us/step - loss: 1.3607 - acc: 0.5147 - val_loss: 1.3710 - val_acc: 0.5116\n",
      "Epoch 26/50\n",
      "50000/50000 [==============================] - 10s 197us/step - loss: 1.3510 - acc: 0.5180 - val_loss: 1.4126 - val_acc: 0.4954\n",
      "Epoch 27/50\n",
      "50000/50000 [==============================] - 10s 198us/step - loss: 1.3493 - acc: 0.5193 - val_loss: 1.3368 - val_acc: 0.5262\n",
      "Epoch 28/50\n",
      "50000/50000 [==============================] - 10s 202us/step - loss: 1.3585 - acc: 0.5135 - val_loss: 1.3552 - val_acc: 0.5166\n",
      "Epoch 29/50\n",
      "50000/50000 [==============================] - 10s 201us/step - loss: 1.3551 - acc: 0.5183 - val_loss: 1.3684 - val_acc: 0.5122\n",
      "Epoch 30/50\n",
      "50000/50000 [==============================] - 10s 198us/step - loss: 1.3470 - acc: 0.5217 - val_loss: 1.3690 - val_acc: 0.5172\n",
      "Epoch 31/50\n",
      "50000/50000 [==============================] - 10s 198us/step - loss: 1.3397 - acc: 0.5216 - val_loss: 1.4334 - val_acc: 0.4954\n",
      "Epoch 32/50\n",
      "50000/50000 [==============================] - 10s 197us/step - loss: 1.3460 - acc: 0.5211 - val_loss: 1.3687 - val_acc: 0.5148\n",
      "Epoch 33/50\n",
      "50000/50000 [==============================] - 10s 197us/step - loss: 1.3371 - acc: 0.5248 - val_loss: 1.3734 - val_acc: 0.5057\n",
      "Epoch 34/50\n",
      "50000/50000 [==============================] - 10s 198us/step - loss: 1.3448 - acc: 0.5216 - val_loss: 1.3758 - val_acc: 0.5091\n",
      "Epoch 35/50\n",
      "50000/50000 [==============================] - 10s 198us/step - loss: 1.3268 - acc: 0.5263 - val_loss: 1.3705 - val_acc: 0.5170\n",
      "Epoch 36/50\n",
      "50000/50000 [==============================] - 10s 197us/step - loss: 1.3234 - acc: 0.5283 - val_loss: 1.4309 - val_acc: 0.4936\n",
      "Epoch 37/50\n",
      "50000/50000 [==============================] - 10s 197us/step - loss: 1.3206 - acc: 0.5302 - val_loss: 1.4937 - val_acc: 0.4773\n",
      "Epoch 38/50\n",
      "50000/50000 [==============================] - 10s 197us/step - loss: 1.3140 - acc: 0.5319 - val_loss: 1.3588 - val_acc: 0.5157\n",
      "Epoch 39/50\n",
      "50000/50000 [==============================] - 10s 198us/step - loss: 1.3104 - acc: 0.5337 - val_loss: 1.3837 - val_acc: 0.5083\n",
      "Epoch 40/50\n",
      "50000/50000 [==============================] - 10s 199us/step - loss: 1.3000 - acc: 0.5357 - val_loss: 1.3491 - val_acc: 0.5256\n",
      "Epoch 41/50\n",
      "50000/50000 [==============================] - 10s 197us/step - loss: 1.2992 - acc: 0.5366 - val_loss: 1.3726 - val_acc: 0.5141\n",
      "Epoch 42/50\n",
      "50000/50000 [==============================] - 10s 197us/step - loss: 1.2865 - acc: 0.5412 - val_loss: 1.3513 - val_acc: 0.5226\n",
      "Epoch 43/50\n",
      "50000/50000 [==============================] - 10s 198us/step - loss: 1.2799 - acc: 0.5432 - val_loss: 1.3704 - val_acc: 0.5112\n",
      "Epoch 44/50\n",
      "50000/50000 [==============================] - 10s 198us/step - loss: 1.2829 - acc: 0.5403 - val_loss: 1.3983 - val_acc: 0.5038\n",
      "Epoch 45/50\n",
      "50000/50000 [==============================] - 10s 198us/step - loss: 1.2735 - acc: 0.5474 - val_loss: 1.4072 - val_acc: 0.5094\n",
      "Epoch 46/50\n",
      "50000/50000 [==============================] - 10s 198us/step - loss: 1.2686 - acc: 0.5485 - val_loss: 1.3669 - val_acc: 0.5201\n",
      "Epoch 47/50\n"
     ]
    },
    {
     "name": "stdout",
     "output_type": "stream",
     "text": [
      "50000/50000 [==============================] - 10s 199us/step - loss: 1.2675 - acc: 0.5461 - val_loss: 1.4137 - val_acc: 0.4957\n",
      "Epoch 48/50\n",
      "50000/50000 [==============================] - 10s 200us/step - loss: 1.2598 - acc: 0.5480 - val_loss: 1.3582 - val_acc: 0.5186\n",
      "Epoch 49/50\n",
      "50000/50000 [==============================] - 10s 205us/step - loss: 1.2578 - acc: 0.5515 - val_loss: 1.3568 - val_acc: 0.5274\n",
      "Epoch 50/50\n",
      "50000/50000 [==============================] - 10s 198us/step - loss: 1.2558 - acc: 0.5524 - val_loss: 1.3457 - val_acc: 0.5265\n"
     ]
    }
   ],
   "source": [
    "model = build_mlp(input_shape=x_train.shape[1:])\n",
    "model.summary()\n",
    "optimizer = keras.optimizers.SGD(lr=LEARNING_RATE, nesterov=True, momentum=MOMENTUM)\n",
    "model.compile(loss=\"categorical_crossentropy\", metrics=[\"accuracy\"], optimizer=optimizer)\n",
    "\n",
    "model.fit(x_train, y_train, \n",
    "          epochs=EPOCHS, \n",
    "          batch_size=BATCH_SIZE, \n",
    "          validation_data=(x_test, y_test), \n",
    "          shuffle=True)\n",
    "\n",
    "# Collect results\n",
    "train_loss = model.history.history[\"loss\"]\n",
    "valid_loss = model.history.history[\"val_loss\"]\n",
    "train_acc = model.history.history[\"acc\"]\n",
    "valid_acc = model.history.history[\"val_acc\"]"
   ]
  },
  {
   "cell_type": "code",
   "execution_count": 8,
   "metadata": {},
   "outputs": [
    {
     "data": {
      "image/png": "[encoded data removed]",
      "text/plain": [
       "<Figure size 432x288 with 1 Axes>"
      ]
     },
     "metadata": {
      "needs_background": "light"
     },
     "output_type": "display_data"
    },
    {
     "data": {
      "image/png": "[encoded data removed]",
      "text/plain": [
       "<Figure size 432x288 with 1 Axes>"
      ]
     },
     "metadata": {
      "needs_background": "light"
     },
     "output_type": "display_data"
    }
   ],
   "source": [
    "import matplotlib.pyplot as plt\n",
    "%matplotlib inline\n",
    "\"\"\"Code Here\n",
    "將結果繪出\n",
    "\"\"\"\n",
    "plt.plot(range(len(train_loss)), train_loss, label=\"train loss\")\n",
    "plt.plot(range(len(valid_loss)), valid_loss, label=\"valid loss\")\n",
    "plt.legend()\n",
    "plt.title(\"Loss\")\n",
    "plt.show()\n",
    "\n",
    "plt.plot(range(len(train_acc)), train_acc, label=\"train accuracy\")\n",
    "plt.plot(range(len(valid_acc)), valid_acc, label=\"valid accuracy\")\n",
    "plt.legend()\n",
    "plt.title(\"Accuracy\")\n",
    "plt.show()"
   ]
  },
  {
   "cell_type": "code",
   "execution_count": null,
   "metadata": {},
   "outputs": [],
   "source": []
  }
 ],
 "metadata": {
  "kernelspec": {
   "display_name": "Python 3",
   "language": "python",
   "name": "python3"
  },
  "language_info": {
   "codemirror_mode": {
    "name": "ipython",
    "version": 3
   },
   "file_extension": ".py",
   "mimetype": "text/x-python",
   "name": "python",
   "nbconvert_exporter": "python",
   "pygments_lexer": "ipython3",
   "version": "3.6.9"
  }
 },
 "nbformat": 4,
 "nbformat_minor": 2
}

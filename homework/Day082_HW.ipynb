{
 "cells": [
  {
   "cell_type": "markdown",
   "metadata": {},
   "source": [
    "## Work\n",
    "1. 請比較使用不同層數以及不同 Dropout rate 對訓練的效果\n",
    "2. 將 optimizer 改成使用 Adam 並加上適當的 dropout rate 檢視結果"
   ]
  },
  {
   "cell_type": "code",
   "execution_count": 1,
   "metadata": {},
   "outputs": [
    {
     "name": "stderr",
     "output_type": "stream",
     "text": [
      "Using TensorFlow backend.\n"
     ]
    }
   ],
   "source": [
    "import os\n",
    "import keras\n",
    "import itertools\n",
    "# Disable GPU\n",
    "os.environ[\"CUDA_VISIBLE_DEVICES\"] = \"0\""
   ]
  },
  {
   "cell_type": "code",
   "execution_count": 2,
   "metadata": {},
   "outputs": [],
   "source": [
    "import tensorflow as tf\n",
    "from keras.backend.tensorflow_backend import set_session\n",
    "config = tf.ConfigProto()\n",
    "config.gpu_options.allocator_type = 'BFC' #A \"Best-fit with coalescing\" algorithm, simplified from a version of dlmalloc.\n",
    "config.gpu_options.per_process_gpu_memory_fraction = 0.3\n",
    "config.gpu_options.allow_growth = True\n",
    "set_session(tf.Session(config=config)) "
   ]
  },
  {
   "cell_type": "code",
   "execution_count": 3,
   "metadata": {},
   "outputs": [],
   "source": [
    "train, test = keras.datasets.cifar10.load_data()"
   ]
  },
  {
   "cell_type": "code",
   "execution_count": 4,
   "metadata": {},
   "outputs": [],
   "source": [
    "## 資料前處理\n",
    "def preproc_x(x, flatten=True):\n",
    "    x = x / 255.\n",
    "    if flatten:\n",
    "        x = x.reshape((len(x), -1))\n",
    "    return x\n",
    "\n",
    "def preproc_y(y, num_classes=10):\n",
    "    if y.shape[-1] == 1:\n",
    "        y = keras.utils.to_categorical(y, num_classes)\n",
    "    return y    "
   ]
  },
  {
   "cell_type": "code",
   "execution_count": 5,
   "metadata": {},
   "outputs": [],
   "source": [
    "x_train, y_train = train\n",
    "x_test, y_test = test\n",
    "\n",
    "# Preproc the inputs\n",
    "x_train = preproc_x(x_train)\n",
    "x_test = preproc_x(x_test)\n",
    "\n",
    "# Preprc the outputs\n",
    "y_train = preproc_y(y_train)\n",
    "y_test = preproc_y(y_test)"
   ]
  },
  {
   "cell_type": "code",
   "execution_count": 6,
   "metadata": {},
   "outputs": [
    {
     "name": "stdout",
     "output_type": "stream",
     "text": [
      "_________________________________________________________________\n",
      "Layer (type)                 Output Shape              Param #   \n",
      "=================================================================\n",
      "input_1 (InputLayer)         (None, 3072)              0         \n",
      "_________________________________________________________________\n",
      "hidden_layer1 (Dense)        (None, 512)               1573376   \n",
      "_________________________________________________________________\n",
      "hidden_layer2 (Dense)        (None, 256)               131328    \n",
      "_________________________________________________________________\n",
      "hidden_layer3 (Dense)        (None, 256)               65792     \n",
      "_________________________________________________________________\n",
      "output (Dense)               (None, 10)                2570      \n",
      "=================================================================\n",
      "Total params: 1,773,066\n",
      "Trainable params: 1,773,066\n",
      "Non-trainable params: 0\n",
      "_________________________________________________________________\n"
     ]
    }
   ],
   "source": [
    "from keras.layers import Dropout\n",
    "\n",
    "\"\"\"\n",
    "建立神經網路，並加入 dropout layer\n",
    "\"\"\"\n",
    "def build_mlp(input_shape, output_units=10, num_neurons=[512, 256, 256]):\n",
    "    input_layer = keras.layers.Input(input_shape)\n",
    "    \n",
    "    for i, n_units in enumerate(num_neurons):\n",
    "        if i == 0:\n",
    "            x = keras.layers.Dense(units=n_units, activation=\"relu\", name=\"hidden_layer\"+str(i+1))(input_layer)\n",
    "        else:\n",
    "            x = keras.layers.Dense(units=n_units, activation=\"relu\", name=\"hidden_layer\"+str(i+1))(x)\n",
    "    \n",
    "    out = keras.layers.Dense(units=output_units, activation=\"softmax\", name=\"output\")(x)\n",
    "    \n",
    "    model = keras.models.Model(inputs=[input_layer], outputs=[out])\n",
    "    return model\n",
    "\n",
    "model = build_mlp(input_shape=x_train.shape[1:])\n",
    "model.summary()"
   ]
  },
  {
   "cell_type": "code",
   "execution_count": 7,
   "metadata": {},
   "outputs": [],
   "source": [
    "\"\"\"Code Here\n",
    "設定超參數\n",
    "\"\"\"\n",
    "## 超參數設定\n",
    "LEARNING_RATE = 1e-3\n",
    "EPOCHS = 50\n",
    "BATCH_SIZE = 256\n",
    "MOMENTUM = 0.95\n",
    "Dropout_EXP = 0.25"
   ]
  },
  {
   "cell_type": "code",
   "execution_count": 8,
   "metadata": {
    "scrolled": false
   },
   "outputs": [
    {
     "name": "stdout",
     "output_type": "stream",
     "text": [
      "Train on 50000 samples, validate on 10000 samples\n",
      "Epoch 1/50\n",
      "50000/50000 [==============================] - 4s 74us/step - loss: 1.9162 - acc: 0.3093 - val_loss: 1.8028 - val_acc: 0.3280\n",
      "Epoch 2/50\n",
      "50000/50000 [==============================] - 3s 59us/step - loss: 1.6919 - acc: 0.3924 - val_loss: 1.6779 - val_acc: 0.3779\n",
      "Epoch 3/50\n",
      "50000/50000 [==============================] - 3s 63us/step - loss: 1.6017 - acc: 0.4285 - val_loss: 1.6152 - val_acc: 0.4198\n",
      "Epoch 4/50\n",
      "50000/50000 [==============================] - 3s 58us/step - loss: 1.5435 - acc: 0.4482 - val_loss: 1.5373 - val_acc: 0.4512\n",
      "Epoch 5/50\n",
      "50000/50000 [==============================] - 3s 63us/step - loss: 1.4838 - acc: 0.4696 - val_loss: 1.5062 - val_acc: 0.4595\n",
      "Epoch 6/50\n",
      "50000/50000 [==============================] - 3s 55us/step - loss: 1.4462 - acc: 0.4860 - val_loss: 1.5042 - val_acc: 0.4717\n",
      "Epoch 7/50\n",
      "50000/50000 [==============================] - 3s 56us/step - loss: 1.4180 - acc: 0.4934 - val_loss: 1.4457 - val_acc: 0.4889\n",
      "Epoch 8/50\n",
      "50000/50000 [==============================] - 3s 61us/step - loss: 1.3774 - acc: 0.5054 - val_loss: 1.4094 - val_acc: 0.5001\n",
      "Epoch 9/50\n",
      "50000/50000 [==============================] - 3s 60us/step - loss: 1.3572 - acc: 0.5178 - val_loss: 1.4098 - val_acc: 0.4926\n",
      "Epoch 10/50\n",
      "50000/50000 [==============================] - 3s 59us/step - loss: 1.3207 - acc: 0.5303 - val_loss: 1.4424 - val_acc: 0.4907\n",
      "Epoch 11/50\n",
      "50000/50000 [==============================] - 3s 58us/step - loss: 1.2969 - acc: 0.5363 - val_loss: 1.3830 - val_acc: 0.5071\n",
      "Epoch 12/50\n",
      "50000/50000 [==============================] - 3s 61us/step - loss: 1.2611 - acc: 0.5499 - val_loss: 1.4161 - val_acc: 0.4962\n",
      "Epoch 13/50\n",
      "50000/50000 [==============================] - 3s 56us/step - loss: 1.2406 - acc: 0.5578 - val_loss: 1.3808 - val_acc: 0.5129\n",
      "Epoch 14/50\n",
      "50000/50000 [==============================] - 3s 56us/step - loss: 1.2117 - acc: 0.5689 - val_loss: 1.3960 - val_acc: 0.5085\n",
      "Epoch 15/50\n",
      "50000/50000 [==============================] - 3s 59us/step - loss: 1.1924 - acc: 0.5752 - val_loss: 1.4563 - val_acc: 0.4948\n",
      "Epoch 16/50\n",
      "50000/50000 [==============================] - 3s 59us/step - loss: 1.1789 - acc: 0.5812 - val_loss: 1.3415 - val_acc: 0.5222\n",
      "Epoch 17/50\n",
      "50000/50000 [==============================] - 3s 60us/step - loss: 1.1330 - acc: 0.5966 - val_loss: 1.3892 - val_acc: 0.5227\n",
      "Epoch 18/50\n",
      "50000/50000 [==============================] - 3s 60us/step - loss: 1.1179 - acc: 0.6016 - val_loss: 1.3784 - val_acc: 0.5250\n",
      "Epoch 19/50\n",
      "50000/50000 [==============================] - 3s 63us/step - loss: 1.0944 - acc: 0.6109 - val_loss: 1.3724 - val_acc: 0.5250\n",
      "Epoch 20/50\n",
      "50000/50000 [==============================] - 3s 66us/step - loss: 1.0766 - acc: 0.6182 - val_loss: 1.4394 - val_acc: 0.5083\n",
      "Epoch 21/50\n",
      "50000/50000 [==============================] - 3s 60us/step - loss: 1.0449 - acc: 0.6262 - val_loss: 1.3783 - val_acc: 0.5258\n",
      "Epoch 22/50\n",
      "50000/50000 [==============================] - 3s 61us/step - loss: 1.0263 - acc: 0.6345 - val_loss: 1.4048 - val_acc: 0.5228\n",
      "Epoch 23/50\n",
      "50000/50000 [==============================] - 3s 55us/step - loss: 1.0036 - acc: 0.6425 - val_loss: 1.3778 - val_acc: 0.5301\n",
      "Epoch 24/50\n",
      "50000/50000 [==============================] - 3s 64us/step - loss: 0.9725 - acc: 0.6516 - val_loss: 1.4770 - val_acc: 0.5060\n",
      "Epoch 25/50\n",
      "50000/50000 [==============================] - 4s 72us/step - loss: 0.9619 - acc: 0.6554 - val_loss: 1.4518 - val_acc: 0.5196\n",
      "Epoch 26/50\n",
      "50000/50000 [==============================] - 3s 62us/step - loss: 0.9436 - acc: 0.6630 - val_loss: 1.4436 - val_acc: 0.5181\n",
      "Epoch 27/50\n",
      "50000/50000 [==============================] - 4s 72us/step - loss: 0.9139 - acc: 0.6710 - val_loss: 1.4431 - val_acc: 0.5271\n",
      "Epoch 28/50\n",
      "50000/50000 [==============================] - 3s 61us/step - loss: 0.8850 - acc: 0.6851 - val_loss: 1.4677 - val_acc: 0.5176\n",
      "Epoch 29/50\n",
      "50000/50000 [==============================] - 3s 69us/step - loss: 0.8578 - acc: 0.6930 - val_loss: 1.5362 - val_acc: 0.5151\n",
      "Epoch 30/50\n",
      "50000/50000 [==============================] - 3s 63us/step - loss: 0.8444 - acc: 0.6975 - val_loss: 1.4925 - val_acc: 0.5200\n",
      "Epoch 31/50\n",
      "50000/50000 [==============================] - 4s 71us/step - loss: 0.8288 - acc: 0.7053 - val_loss: 1.5152 - val_acc: 0.5172\n",
      "Epoch 32/50\n",
      "50000/50000 [==============================] - 3s 55us/step - loss: 0.8031 - acc: 0.7140 - val_loss: 1.5365 - val_acc: 0.5228\n",
      "Epoch 33/50\n",
      "50000/50000 [==============================] - 3s 63us/step - loss: 0.7821 - acc: 0.7193 - val_loss: 1.5317 - val_acc: 0.5256\n",
      "Epoch 34/50\n",
      "50000/50000 [==============================] - 3s 67us/step - loss: 0.7657 - acc: 0.7254 - val_loss: 1.5778 - val_acc: 0.5158\n",
      "Epoch 35/50\n",
      "50000/50000 [==============================] - 3s 67us/step - loss: 0.7273 - acc: 0.7408 - val_loss: 1.6435 - val_acc: 0.5207\n",
      "Epoch 36/50\n",
      "50000/50000 [==============================] - 4s 71us/step - loss: 0.7178 - acc: 0.7432 - val_loss: 1.5833 - val_acc: 0.5192\n",
      "Epoch 37/50\n",
      "50000/50000 [==============================] - 3s 67us/step - loss: 0.7067 - acc: 0.7487 - val_loss: 1.6397 - val_acc: 0.5202\n",
      "Epoch 38/50\n",
      "50000/50000 [==============================] - 3s 54us/step - loss: 0.6799 - acc: 0.7582 - val_loss: 1.7009 - val_acc: 0.5196\n",
      "Epoch 39/50\n",
      "50000/50000 [==============================] - 3s 66us/step - loss: 0.6676 - acc: 0.7630 - val_loss: 1.7132 - val_acc: 0.5195\n",
      "Epoch 40/50\n",
      "50000/50000 [==============================] - 3s 64us/step - loss: 0.6494 - acc: 0.7674 - val_loss: 1.7579 - val_acc: 0.5133\n",
      "Epoch 41/50\n",
      "50000/50000 [==============================] - 3s 59us/step - loss: 0.6249 - acc: 0.7769 - val_loss: 1.7672 - val_acc: 0.5219\n",
      "Epoch 42/50\n",
      "50000/50000 [==============================] - 3s 59us/step - loss: 0.6121 - acc: 0.7825 - val_loss: 1.8478 - val_acc: 0.5138\n",
      "Epoch 43/50\n",
      "50000/50000 [==============================] - 3s 69us/step - loss: 0.5938 - acc: 0.7872 - val_loss: 1.8294 - val_acc: 0.5179\n",
      "Epoch 44/50\n",
      "50000/50000 [==============================] - 3s 57us/step - loss: 0.5654 - acc: 0.8009 - val_loss: 1.8711 - val_acc: 0.5174\n",
      "Epoch 45/50\n",
      "50000/50000 [==============================] - 3s 68us/step - loss: 0.5603 - acc: 0.7996 - val_loss: 1.9407 - val_acc: 0.5102\n",
      "Epoch 46/50\n",
      "50000/50000 [==============================] - 3s 57us/step - loss: 0.5437 - acc: 0.8058 - val_loss: 1.9256 - val_acc: 0.5160\n",
      "Epoch 47/50\n",
      "50000/50000 [==============================] - 3s 62us/step - loss: 0.5342 - acc: 0.8082 - val_loss: 1.9674 - val_acc: 0.5186\n",
      "Epoch 48/50\n",
      "50000/50000 [==============================] - 3s 57us/step - loss: 0.5071 - acc: 0.8209 - val_loss: 2.0035 - val_acc: 0.5082\n",
      "Epoch 49/50\n",
      "50000/50000 [==============================] - 3s 62us/step - loss: 0.4903 - acc: 0.8248 - val_loss: 2.0703 - val_acc: 0.5081\n",
      "Epoch 50/50\n",
      "50000/50000 [==============================] - 3s 62us/step - loss: 0.4884 - acc: 0.8259 - val_loss: 2.0516 - val_acc: 0.5112\n"
     ]
    }
   ],
   "source": [
    "\"\"\"Code Here\n",
    "撰寫你的訓練流程並將結果用 dictionary 紀錄\n",
    "\"\"\"\n",
    "optimizer = keras.optimizers.Adam(lr=LEARNING_RATE)\n",
    "model.compile(loss=\"categorical_crossentropy\", metrics=[\"accuracy\"], optimizer=optimizer)\n",
    "\n",
    "model.fit(x_train, y_train, \n",
    "          epochs=EPOCHS, \n",
    "          batch_size=BATCH_SIZE, \n",
    "          validation_data=(x_test, y_test), \n",
    "          shuffle=True)\n",
    "\n",
    "# Collect results\n",
    "train_loss = model.history.history[\"loss\"]\n",
    "valid_loss = model.history.history[\"val_loss\"]\n",
    "train_acc = model.history.history[\"acc\"]\n",
    "valid_acc = model.history.history[\"val_acc\"]"
   ]
  },
  {
   "cell_type": "code",
   "execution_count": 9,
   "metadata": {},
   "outputs": [
    {
     "data": {
      "image/png": "[encoded data removed]",
      "text/plain": [
       "<Figure size 432x288 with 1 Axes>"
      ]
     },
     "metadata": {
      "needs_background": "light"
     },
     "output_type": "display_data"
    },
    {
     "data": {
      "image/png": "[encoded data removed]",
      "text/plain": [
       "<Figure size 432x288 with 1 Axes>"
      ]
     },
     "metadata": {
      "needs_background": "light"
     },
     "output_type": "display_data"
    }
   ],
   "source": [
    "import matplotlib.pyplot as plt\n",
    "%matplotlib inline\n",
    "\n",
    "plt.plot(range(len(train_loss)), train_loss, label=\"train loss\")\n",
    "plt.plot(range(len(valid_loss)), valid_loss, label=\"valid loss\")\n",
    "plt.legend()\n",
    "plt.title(\"Loss\")\n",
    "plt.show()\n",
    "\n",
    "plt.plot(range(len(train_acc)), train_acc, label=\"train accuracy\")\n",
    "plt.plot(range(len(valid_acc)), valid_acc, label=\"valid accuracy\")\n",
    "plt.legend()\n",
    "plt.title(\"Accuracy\")\n",
    "plt.show()"
   ]
  },
  {
   "cell_type": "code",
   "execution_count": null,
   "metadata": {},
   "outputs": [],
   "source": []
  }
 ],
 "metadata": {
  "kernelspec": {
   "display_name": "Python 3",
   "language": "python",
   "name": "python3"
  },
  "language_info": {
   "codemirror_mode": {
    "name": "ipython",
    "version": 3
   },
   "file_extension": ".py",
   "mimetype": "text/x-python",
   "name": "python",
   "nbconvert_exporter": "python",
   "pygments_lexer": "ipython3",
   "version": "3.6.9"
  }
 },
 "nbformat": 4,
 "nbformat_minor": 2
}

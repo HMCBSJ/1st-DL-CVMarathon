{
 "cells": [
  {
   "cell_type": "markdown",
   "metadata": {},
   "source": [
    "## Work\n",
    "1. 請比較使用不同層數以及不同 Dropout rate 對訓練的效果\n",
    "2. 將 optimizer 改成使用 Adam 並加上適當的 dropout rate 檢視結果"
   ]
  },
  {
   "cell_type": "code",
   "execution_count": 1,
   "metadata": {},
   "outputs": [
    {
     "name": "stderr",
     "output_type": "stream",
     "text": [
      "Using TensorFlow backend.\n"
     ]
    }
   ],
   "source": [
    "import os\n",
    "import keras\n",
    "import itertools\n",
    "# Disable GPU\n",
    "os.environ[\"CUDA_VISIBLE_DEVICES\"] = \"0\""
   ]
  },
  {
   "cell_type": "code",
   "execution_count": 2,
   "metadata": {},
   "outputs": [],
   "source": [
    "import tensorflow as tf\n",
    "from keras.backend.tensorflow_backend import set_session\n",
    "config = tf.ConfigProto()\n",
    "config.gpu_options.allocator_type = 'BFC' #A \"Best-fit with coalescing\" algorithm, simplified from a version of dlmalloc.\n",
    "config.gpu_options.per_process_gpu_memory_fraction = 0.3\n",
    "config.gpu_options.allow_growth = True\n",
    "set_session(tf.Session(config=config)) "
   ]
  },
  {
   "cell_type": "code",
   "execution_count": 3,
   "metadata": {},
   "outputs": [],
   "source": [
    "train, test = keras.datasets.cifar10.load_data()"
   ]
  },
  {
   "cell_type": "code",
   "execution_count": 4,
   "metadata": {},
   "outputs": [],
   "source": [
    "## 資料前處理\n",
    "def preproc_x(x, flatten=True):\n",
    "    x = x / 255.\n",
    "    if flatten:\n",
    "        x = x.reshape((len(x), -1))\n",
    "    return x\n",
    "\n",
    "def preproc_y(y, num_classes=10):\n",
    "    if y.shape[-1] == 1:\n",
    "        y = keras.utils.to_categorical(y, num_classes)\n",
    "    return y    "
   ]
  },
  {
   "cell_type": "code",
   "execution_count": 5,
   "metadata": {},
   "outputs": [],
   "source": [
    "x_train, y_train = train\n",
    "x_test, y_test = test\n",
    "\n",
    "# Preproc the inputs\n",
    "x_train = preproc_x(x_train)\n",
    "x_test = preproc_x(x_test)\n",
    "\n",
    "# Preprc the outputs\n",
    "y_train = preproc_y(y_train)\n",
    "y_test = preproc_y(y_test)"
   ]
  },
  {
   "cell_type": "code",
   "execution_count": 6,
   "metadata": {},
   "outputs": [
    {
     "name": "stdout",
     "output_type": "stream",
     "text": [
      "_________________________________________________________________\n",
      "Layer (type)                 Output Shape              Param #   \n",
      "=================================================================\n",
      "input_1 (InputLayer)         (None, 3072)              0         \n",
      "_________________________________________________________________\n",
      "hidden_layer1 (Dense)        (None, 512)               1573376   \n",
      "_________________________________________________________________\n",
      "hidden_layer2 (Dense)        (None, 256)               131328    \n",
      "_________________________________________________________________\n",
      "hidden_layer3 (Dense)        (None, 256)               65792     \n",
      "_________________________________________________________________\n",
      "dropout_1 (Dropout)          (None, 256)               0         \n",
      "_________________________________________________________________\n",
      "output (Dense)               (None, 10)                2570      \n",
      "=================================================================\n",
      "Total params: 1,773,066\n",
      "Trainable params: 1,773,066\n",
      "Non-trainable params: 0\n",
      "_________________________________________________________________\n"
     ]
    }
   ],
   "source": [
    "from keras.layers import Dropout\n",
    "\n",
    "\"\"\"\n",
    "建立神經網路，並加入 dropout layer\n",
    "\"\"\"\n",
    "def build_mlp(input_shape, output_units=10, num_neurons=[512, 256, 256]):\n",
    "    input_layer = keras.layers.Input(input_shape)\n",
    "    \n",
    "    for i, n_units in enumerate(num_neurons):\n",
    "        if i == 0:\n",
    "            x = keras.layers.Dense(units=n_units, activation=\"relu\", name=\"hidden_layer\"+str(i+1))(input_layer)\n",
    "        else:\n",
    "            x = keras.layers.Dense(units=n_units, activation=\"relu\", name=\"hidden_layer\"+str(i+1))(x)\n",
    "    drop = Dropout(0.4)(x)\n",
    "    out = keras.layers.Dense(units=output_units, activation=\"softmax\", name=\"output\")(drop)\n",
    "    \n",
    "    model = keras.models.Model(inputs=[input_layer], outputs=[out])\n",
    "    return model\n",
    "\n",
    "model = build_mlp(input_shape=x_train.shape[1:])\n",
    "model.summary()"
   ]
  },
  {
   "cell_type": "code",
   "execution_count": 7,
   "metadata": {},
   "outputs": [],
   "source": [
    "\"\"\"Code Here\n",
    "設定超參數\n",
    "\"\"\"\n",
    "## 超參數設定\n",
    "LEARNING_RATE = 1e-3\n",
    "EPOCHS = 50\n",
    "BATCH_SIZE = 256\n",
    "MOMENTUM = 0.95\n",
    "Dropout_EXP = 0.25"
   ]
  },
  {
   "cell_type": "code",
   "execution_count": 8,
   "metadata": {
    "scrolled": false
   },
   "outputs": [
    {
     "name": "stdout",
     "output_type": "stream",
     "text": [
      "Train on 50000 samples, validate on 10000 samples\n",
      "Epoch 1/50\n",
      "50000/50000 [==============================] - 4s 71us/step - loss: 1.9653 - acc: 0.2854 - val_loss: 1.7571 - val_acc: 0.3692\n",
      "Epoch 2/50\n",
      "50000/50000 [==============================] - 3s 67us/step - loss: 1.7482 - acc: 0.3725 - val_loss: 1.6911 - val_acc: 0.3911\n",
      "Epoch 3/50\n",
      "50000/50000 [==============================] - 4s 73us/step - loss: 1.6520 - acc: 0.4106 - val_loss: 1.5827 - val_acc: 0.4403\n",
      "Epoch 4/50\n",
      "50000/50000 [==============================] - 4s 72us/step - loss: 1.5880 - acc: 0.4346 - val_loss: 1.5562 - val_acc: 0.4445\n",
      "Epoch 5/50\n",
      "50000/50000 [==============================] - 3s 65us/step - loss: 1.5439 - acc: 0.4490 - val_loss: 1.5103 - val_acc: 0.4616\n",
      "Epoch 6/50\n",
      "50000/50000 [==============================] - 3s 61us/step - loss: 1.4988 - acc: 0.4654 - val_loss: 1.4836 - val_acc: 0.4704\n",
      "Epoch 7/50\n",
      "50000/50000 [==============================] - 4s 72us/step - loss: 1.4795 - acc: 0.4743 - val_loss: 1.4952 - val_acc: 0.4679\n",
      "Epoch 8/50\n",
      "50000/50000 [==============================] - 3s 64us/step - loss: 1.4465 - acc: 0.4816 - val_loss: 1.4704 - val_acc: 0.4704\n",
      "Epoch 9/50\n",
      "50000/50000 [==============================] - 4s 70us/step - loss: 1.4242 - acc: 0.4932 - val_loss: 1.4683 - val_acc: 0.4734\n",
      "Epoch 10/50\n",
      "50000/50000 [==============================] - 4s 75us/step - loss: 1.4013 - acc: 0.4994 - val_loss: 1.5081 - val_acc: 0.4661\n",
      "Epoch 11/50\n",
      "50000/50000 [==============================] - 3s 67us/step - loss: 1.3786 - acc: 0.5081 - val_loss: 1.4410 - val_acc: 0.4929\n",
      "Epoch 12/50\n",
      "50000/50000 [==============================] - 3s 65us/step - loss: 1.3589 - acc: 0.5156 - val_loss: 1.4176 - val_acc: 0.4969\n",
      "Epoch 13/50\n",
      "50000/50000 [==============================] - 3s 62us/step - loss: 1.3348 - acc: 0.5238 - val_loss: 1.3930 - val_acc: 0.5066\n",
      "Epoch 14/50\n",
      "50000/50000 [==============================] - 3s 58us/step - loss: 1.3100 - acc: 0.5313 - val_loss: 1.3742 - val_acc: 0.5209\n",
      "Epoch 15/50\n",
      "50000/50000 [==============================] - 4s 76us/step - loss: 1.3015 - acc: 0.5339 - val_loss: 1.3818 - val_acc: 0.5111\n",
      "Epoch 16/50\n",
      "50000/50000 [==============================] - 4s 77us/step - loss: 1.2853 - acc: 0.5392 - val_loss: 1.3951 - val_acc: 0.5028\n",
      "Epoch 17/50\n",
      "50000/50000 [==============================] - 3s 65us/step - loss: 1.2579 - acc: 0.5481 - val_loss: 1.3714 - val_acc: 0.5179\n",
      "Epoch 18/50\n",
      "50000/50000 [==============================] - 3s 68us/step - loss: 1.2355 - acc: 0.5552 - val_loss: 1.3827 - val_acc: 0.5126\n",
      "Epoch 19/50\n",
      "50000/50000 [==============================] - 4s 72us/step - loss: 1.2228 - acc: 0.5612 - val_loss: 1.3698 - val_acc: 0.5128\n",
      "Epoch 20/50\n",
      "50000/50000 [==============================] - 3s 66us/step - loss: 1.2019 - acc: 0.5685 - val_loss: 1.3648 - val_acc: 0.5254\n",
      "Epoch 21/50\n",
      "50000/50000 [==============================] - 4s 76us/step - loss: 1.1817 - acc: 0.5766 - val_loss: 1.3514 - val_acc: 0.5192\n",
      "Epoch 22/50\n",
      "50000/50000 [==============================] - 3s 62us/step - loss: 1.1675 - acc: 0.5801 - val_loss: 1.3761 - val_acc: 0.5248\n",
      "Epoch 23/50\n",
      "50000/50000 [==============================] - 4s 76us/step - loss: 1.1531 - acc: 0.5848 - val_loss: 1.3622 - val_acc: 0.5244\n",
      "Epoch 24/50\n",
      "50000/50000 [==============================] - 4s 73us/step - loss: 1.1437 - acc: 0.5890 - val_loss: 1.3864 - val_acc: 0.5161\n",
      "Epoch 25/50\n",
      "50000/50000 [==============================] - 3s 69us/step - loss: 1.1194 - acc: 0.5982 - val_loss: 1.3560 - val_acc: 0.5347\n",
      "Epoch 26/50\n",
      "50000/50000 [==============================] - 3s 65us/step - loss: 1.1050 - acc: 0.6001 - val_loss: 1.3904 - val_acc: 0.5165\n",
      "Epoch 27/50\n",
      "50000/50000 [==============================] - 4s 75us/step - loss: 1.0951 - acc: 0.6054 - val_loss: 1.3382 - val_acc: 0.5376\n",
      "Epoch 28/50\n",
      "50000/50000 [==============================] - 3s 68us/step - loss: 1.0862 - acc: 0.6049 - val_loss: 1.3854 - val_acc: 0.5250\n",
      "Epoch 29/50\n",
      "50000/50000 [==============================] - 4s 77us/step - loss: 1.0646 - acc: 0.6175 - val_loss: 1.4010 - val_acc: 0.5232\n",
      "Epoch 30/50\n",
      "50000/50000 [==============================] - 4s 77us/step - loss: 1.0509 - acc: 0.6199 - val_loss: 1.3645 - val_acc: 0.5367\n",
      "Epoch 31/50\n",
      "50000/50000 [==============================] - 4s 70us/step - loss: 1.0392 - acc: 0.6232 - val_loss: 1.3932 - val_acc: 0.5281\n",
      "Epoch 32/50\n",
      "50000/50000 [==============================] - 4s 74us/step - loss: 1.0265 - acc: 0.6252 - val_loss: 1.3854 - val_acc: 0.5260\n",
      "Epoch 33/50\n",
      "50000/50000 [==============================] - 4s 78us/step - loss: 1.0196 - acc: 0.6298 - val_loss: 1.3808 - val_acc: 0.5292\n",
      "Epoch 34/50\n",
      "50000/50000 [==============================] - 4s 79us/step - loss: 0.9963 - acc: 0.6406 - val_loss: 1.4209 - val_acc: 0.5299\n",
      "Epoch 35/50\n",
      "50000/50000 [==============================] - 3s 68us/step - loss: 0.9952 - acc: 0.6378 - val_loss: 1.4076 - val_acc: 0.5278\n",
      "Epoch 36/50\n",
      "50000/50000 [==============================] - 4s 79us/step - loss: 0.9763 - acc: 0.6467 - val_loss: 1.4389 - val_acc: 0.5287\n",
      "Epoch 37/50\n",
      "50000/50000 [==============================] - 3s 67us/step - loss: 0.9705 - acc: 0.6486 - val_loss: 1.4144 - val_acc: 0.5258\n",
      "Epoch 38/50\n",
      "50000/50000 [==============================] - 4s 72us/step - loss: 0.9595 - acc: 0.6519 - val_loss: 1.4033 - val_acc: 0.5374\n",
      "Epoch 39/50\n",
      "50000/50000 [==============================] - 3s 62us/step - loss: 0.9414 - acc: 0.6579 - val_loss: 1.4423 - val_acc: 0.5294\n",
      "Epoch 40/50\n",
      "50000/50000 [==============================] - 4s 75us/step - loss: 0.9252 - acc: 0.6637 - val_loss: 1.4202 - val_acc: 0.5408\n",
      "Epoch 41/50\n",
      "50000/50000 [==============================] - 3s 61us/step - loss: 0.9381 - acc: 0.6577 - val_loss: 1.4340 - val_acc: 0.5309\n",
      "Epoch 42/50\n",
      "50000/50000 [==============================] - 3s 65us/step - loss: 0.9069 - acc: 0.6698 - val_loss: 1.4961 - val_acc: 0.5229\n",
      "Epoch 43/50\n",
      "50000/50000 [==============================] - 4s 81us/step - loss: 0.9051 - acc: 0.6657 - val_loss: 1.4626 - val_acc: 0.5292\n",
      "Epoch 44/50\n",
      "50000/50000 [==============================] - 4s 74us/step - loss: 0.8903 - acc: 0.6745 - val_loss: 1.4731 - val_acc: 0.5299\n",
      "Epoch 45/50\n",
      "50000/50000 [==============================] - 3s 62us/step - loss: 0.8846 - acc: 0.6775 - val_loss: 1.4922 - val_acc: 0.5303\n",
      "Epoch 46/50\n",
      "50000/50000 [==============================] - 3s 58us/step - loss: 0.8831 - acc: 0.6754 - val_loss: 1.4805 - val_acc: 0.5293\n",
      "Epoch 47/50\n",
      "50000/50000 [==============================] - 3s 65us/step - loss: 0.8560 - acc: 0.6853 - val_loss: 1.4794 - val_acc: 0.5335\n",
      "Epoch 48/50\n",
      "50000/50000 [==============================] - 3s 64us/step - loss: 0.8529 - acc: 0.6867 - val_loss: 1.5133 - val_acc: 0.5351\n",
      "Epoch 49/50\n",
      "50000/50000 [==============================] - 3s 59us/step - loss: 0.8398 - acc: 0.6910 - val_loss: 1.5366 - val_acc: 0.5274\n",
      "Epoch 50/50\n",
      "50000/50000 [==============================] - 4s 74us/step - loss: 0.8349 - acc: 0.6943 - val_loss: 1.5259 - val_acc: 0.5267\n"
     ]
    }
   ],
   "source": [
    "\"\"\"Code Here\n",
    "撰寫你的訓練流程並將結果用 dictionary 紀錄\n",
    "\"\"\"\n",
    "optimizer = keras.optimizers.Adam(lr=LEARNING_RATE)\n",
    "model.compile(loss=\"categorical_crossentropy\", metrics=[\"accuracy\"], optimizer=optimizer)\n",
    "\n",
    "model.fit(x_train, y_train, \n",
    "          epochs=EPOCHS, \n",
    "          batch_size=BATCH_SIZE, \n",
    "          validation_data=(x_test, y_test), \n",
    "          shuffle=True)\n",
    "\n",
    "# Collect results\n",
    "train_loss = model.history.history[\"loss\"]\n",
    "valid_loss = model.history.history[\"val_loss\"]\n",
    "train_acc = model.history.history[\"acc\"]\n",
    "valid_acc = model.history.history[\"val_acc\"]"
   ]
  },
  {
   "cell_type": "code",
   "execution_count": 9,
   "metadata": {},
   "outputs": [
    {
     "data": {
      "image/png": "[encoded data removed]",
      "text/plain": [
       "<Figure size 432x288 with 1 Axes>"
      ]
     },
     "metadata": {
      "needs_background": "light"
     },
     "output_type": "display_data"
    },
    {
     "data": {
      "image/png": "[encoded data removed]",
      "text/plain": [
       "<Figure size 432x288 with 1 Axes>"
      ]
     },
     "metadata": {
      "needs_background": "light"
     },
     "output_type": "display_data"
    }
   ],
   "source": [
    "import matplotlib.pyplot as plt\n",
    "%matplotlib inline\n",
    "\n",
    "plt.plot(range(len(train_loss)), train_loss, label=\"train loss\")\n",
    "plt.plot(range(len(valid_loss)), valid_loss, label=\"valid loss\")\n",
    "plt.legend()\n",
    "plt.title(\"Loss\")\n",
    "plt.show()\n",
    "\n",
    "plt.plot(range(len(train_acc)), train_acc, label=\"train accuracy\")\n",
    "plt.plot(range(len(valid_acc)), valid_acc, label=\"valid accuracy\")\n",
    "plt.legend()\n",
    "plt.title(\"Accuracy\")\n",
    "plt.show()"
   ]
  },
  {
   "cell_type": "code",
   "execution_count": null,
   "metadata": {},
   "outputs": [],
   "source": []
  }
 ],
 "metadata": {
  "kernelspec": {
   "display_name": "Python 3",
   "language": "python",
   "name": "python3"
  },
  "language_info": {
   "codemirror_mode": {
    "name": "ipython",
    "version": 3
   },
   "file_extension": ".py",
   "mimetype": "text/x-python",
   "name": "python",
   "nbconvert_exporter": "python",
   "pygments_lexer": "ipython3",
   "version": "3.6.9"
  }
 },
 "nbformat": 4,
 "nbformat_minor": 2
}

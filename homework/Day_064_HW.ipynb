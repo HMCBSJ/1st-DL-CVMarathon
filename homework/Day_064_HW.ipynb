{
 "cells": [
  {
   "cell_type": "markdown",
   "metadata": {},
   "source": [
    "# 作業\n",
    "* 選擇迴歸資料集(右) - 交錯六群，在其他參數保持預設值的情況下，只允許調整隱藏層層數與神經元數量，且遵守下列限制   \n",
    "> * 隱藏層神經元總數最多 8 個 (即 : 可以單層 8 個，或兩層 5 個與 3 個)   \n",
    "> * 遞迴次數只允許跑到500次  \n",
    "* 在上述限制下，挑戰看看測試誤差 (Test Loss) 最低能到多少? 請回答你的神經元參數與 Test Loss 數"
   ]
  },
  {
   "cell_type": "markdown",
   "metadata": {
    "collapsed": true
   },
   "source": [
    "### 在此資料集中目前試到最好的參數是：\n",
    "\n",
    "一層8個神經元：\n",
    "\n",
    "Test loss 0.012\n",
    "\n",
    "Training loss 0.012\n",
    "\n",
    "![image](https://github.com/julia8468bd/1st-DL-CVMarathon/blob/master/homework/Tensorflow_playground_8.jpg)"
   ]
  },
  {
   "cell_type": "markdown",
   "metadata": {},
   "source": [
    "### 在此資料集中目前試到第二好的參數是：\n",
    "\n",
    "兩層4個與4個神經元：\n",
    "\n",
    "Test loss 0.013\n",
    "\n",
    "Training loss 0.012\n",
    "\n",
    "![image](https://github.com/julia8468bd/1st-DL-CVMarathon/blob/master/homework/Tensorflow_playground_4_4.jpg)"
   ]
  },
  {
   "cell_type": "code",
   "execution_count": null,
   "metadata": {},
   "outputs": [],
   "source": []
  }
 ],
 "metadata": {
  "kernelspec": {
   "display_name": "Python 3",
   "language": "python",
   "name": "python3"
  },
  "language_info": {
   "codemirror_mode": {
    "name": "ipython",
    "version": 3
   },
   "file_extension": ".py",
   "mimetype": "text/x-python",
   "name": "python",
   "nbconvert_exporter": "python",
   "pygments_lexer": "ipython3",
   "version": "3.6.9"
  }
 },
 "nbformat": 4,
 "nbformat_minor": 2
}

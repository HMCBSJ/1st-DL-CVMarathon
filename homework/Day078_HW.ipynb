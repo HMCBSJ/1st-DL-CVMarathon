{
 "cells": [
  {
   "cell_type": "markdown",
   "metadata": {},
   "source": [
    "## Work\n",
    "1. 請嘗試將 preproc_x 替換成以每筆資料的 min/max 進行標準化至 -1 ~ 1 間，再進行訓練\n",
    "2. 請嘗試將 mlp 疊更深 (e.g 5~10 層)，進行訓練後觀察 learning curve 的走勢\n",
    "3. (optional) 請改用 GPU 進行訓練 (如果你有 GPU 的話)，比較使用 CPU 與 GPU 的訓練速度"
   ]
  },
  {
   "cell_type": "code",
   "execution_count": 4,
   "metadata": {},
   "outputs": [
    {
     "data": {
      "text/plain": [
       "'\\nYour code here (optional)\\n確認硬體資源\\n'"
      ]
     },
     "execution_count": 4,
     "metadata": {},
     "output_type": "execute_result"
    }
   ],
   "source": [
    "## \n",
    "\"\"\"\n",
    "Your code here (optional)\n",
    "確認硬體資源\n",
    "\"\"\"\n",
    "#設定路徑後在cmd下查看nvidia-smi.exe -h OK"
   ]
  },
  {
   "cell_type": "code",
   "execution_count": 22,
   "metadata": {},
   "outputs": [],
   "source": [
    "import os\n",
    "import keras\n",
    "import numpy as np\n",
    "\n",
    "# 請嘗試設定 GPU：os.environ\n",
    "os.environ[\"CUDA_VISIBLE_DEVICES\"] = \"0\""
   ]
  },
  {
   "cell_type": "code",
   "execution_count": 6,
   "metadata": {},
   "outputs": [],
   "source": [
    "train, test = keras.datasets.cifar10.load_data()"
   ]
  },
  {
   "cell_type": "code",
   "execution_count": 30,
   "metadata": {},
   "outputs": [],
   "source": [
    "## 資料前處理\n",
    "\"\"\"\n",
    "Your code here\n",
    "\"\"\"\n",
    "def preproc_x(x, flatten=True):\n",
    "    x = (x - np.mean(x)) / 255.\n",
    "    if flatten:\n",
    "        x = x.reshape((len(x), -1))\n",
    "    return x\n",
    "\n",
    "def preproc_y(y, num_classes=10):\n",
    "    if y.shape[-1] == 1:\n",
    "        y = keras.utils.to_categorical(y, num_classes)\n",
    "    return y    "
   ]
  },
  {
   "cell_type": "code",
   "execution_count": 31,
   "metadata": {},
   "outputs": [],
   "source": [
    "x_train, y_train = train\n",
    "x_test, y_test = test"
   ]
  },
  {
   "cell_type": "code",
   "execution_count": 32,
   "metadata": {},
   "outputs": [],
   "source": [
    "# Preproc the inputs\n",
    "x_train = preproc_x(x_train)\n",
    "x_test = preproc_x(x_test)\n",
    "\n",
    "# Preprc the outputs\n",
    "y_train = preproc_y(y_train)\n",
    "y_test = preproc_y(y_test)"
   ]
  },
  {
   "cell_type": "code",
   "execution_count": 39,
   "metadata": {},
   "outputs": [
    {
     "name": "stdout",
     "output_type": "stream",
     "text": [
      "_________________________________________________________________\n",
      "Layer (type)                 Output Shape              Param #   \n",
      "=================================================================\n",
      "input_1 (InputLayer)         (None, 3072)              0         \n",
      "_________________________________________________________________\n",
      "hidden_layer1 (Dense)        (None, 512)               1573376   \n",
      "_________________________________________________________________\n",
      "hidden_layer2 (Dense)        (None, 256)               131328    \n",
      "_________________________________________________________________\n",
      "hidden_layer3 (Dense)        (None, 256)               65792     \n",
      "_________________________________________________________________\n",
      "hidden_layer4 (Dense)        (None, 128)               32896     \n",
      "_________________________________________________________________\n",
      "hidden_layer5 (Dense)        (None, 128)               16512     \n",
      "_________________________________________________________________\n",
      "hidden_layer6 (Dense)        (None, 64)                8256      \n",
      "_________________________________________________________________\n",
      "hidden_layer7 (Dense)        (None, 32)                2080      \n",
      "_________________________________________________________________\n",
      "hidden_layer8 (Dense)        (None, 16)                528       \n",
      "_________________________________________________________________\n",
      "output (Dense)               (None, 10)                170       \n",
      "=================================================================\n",
      "Total params: 1,830,938\n",
      "Trainable params: 1,830,938\n",
      "Non-trainable params: 0\n",
      "_________________________________________________________________\n"
     ]
    }
   ],
   "source": [
    "\"\"\"Code Here\n",
    "建立你的神經網路\n",
    "\"\"\"\n",
    "def build_mlp(input_shape, output_units=10, num_neurons=[512, 256, 256, 128, 128, 64, 32, 16]): #8層\n",
    "    input_layer = keras.layers.Input(input_shape)\n",
    "    \n",
    "    for i, n_units in enumerate(num_neurons):\n",
    "        if i == 0:\n",
    "            x = keras.layers.Dense(units=n_units, activation=\"relu\", name=\"hidden_layer\"+str(i+1))(input_layer)\n",
    "        else:\n",
    "            x = keras.layers.Dense(units=n_units, activation=\"relu\", name=\"hidden_layer\"+str(i+1))(x)\n",
    "    \n",
    "    out = keras.layers.Dense(units=output_units, activation=\"softmax\", name=\"output\")(x)\n",
    "    \n",
    "    model = keras.models.Model(inputs=[input_layer], outputs=[out])\n",
    "    return model\n",
    "\n",
    "model = build_mlp(input_shape=x_train.shape[1:])\n",
    "model.summary()"
   ]
  },
  {
   "cell_type": "code",
   "execution_count": 40,
   "metadata": {},
   "outputs": [],
   "source": [
    "## 超參數設定\n",
    "LEARNING_RATE = 0.001\n",
    "EPOCHS = 100\n",
    "BATCH_SIZE = 256"
   ]
  },
  {
   "cell_type": "code",
   "execution_count": 41,
   "metadata": {},
   "outputs": [],
   "source": [
    "optimizer = keras.optimizers.Adam(lr=LEARNING_RATE)\n",
    "model.compile(loss=\"categorical_crossentropy\", metrics=[\"accuracy\"], optimizer=optimizer)"
   ]
  },
  {
   "cell_type": "code",
   "execution_count": 42,
   "metadata": {},
   "outputs": [
    {
     "name": "stdout",
     "output_type": "stream",
     "text": [
      "Train on 50000 samples, validate on 10000 samples\n",
      "Epoch 1/100\n",
      "50000/50000 [==============================] - 7s 139us/step - loss: 1.8015 - acc: 0.3606 - val_loss: 1.5877 - val_acc: 0.4382\n",
      "Epoch 2/100\n",
      "50000/50000 [==============================] - 4s 75us/step - loss: 1.5186 - acc: 0.4657 - val_loss: 1.4796 - val_acc: 0.4752\n",
      "Epoch 3/100\n",
      "50000/50000 [==============================] - 4s 85us/step - loss: 1.3882 - acc: 0.5123 - val_loss: 1.4115 - val_acc: 0.5020\n",
      "Epoch 4/100\n",
      "50000/50000 [==============================] - 4s 78us/step - loss: 1.2814 - acc: 0.5507 - val_loss: 1.4061 - val_acc: 0.5151\n",
      "Epoch 5/100\n",
      "50000/50000 [==============================] - 3s 65us/step - loss: 1.1926 - acc: 0.5844 - val_loss: 1.3632 - val_acc: 0.5239\n",
      "Epoch 6/100\n",
      "50000/50000 [==============================] - 3s 63us/step - loss: 1.1106 - acc: 0.6080 - val_loss: 1.3476 - val_acc: 0.5397\n",
      "Epoch 7/100\n",
      "50000/50000 [==============================] - 4s 73us/step - loss: 1.0293 - acc: 0.6362 - val_loss: 1.3576 - val_acc: 0.5372\n",
      "Epoch 8/100\n",
      "50000/50000 [==============================] - 3s 65us/step - loss: 0.9531 - acc: 0.6642 - val_loss: 1.3961 - val_acc: 0.5363\n",
      "Epoch 9/100\n",
      "50000/50000 [==============================] - 3s 69us/step - loss: 0.8872 - acc: 0.6872 - val_loss: 1.4256 - val_acc: 0.5384\n",
      "Epoch 10/100\n",
      "50000/50000 [==============================] - 3s 66us/step - loss: 0.8108 - acc: 0.7148 - val_loss: 1.4121 - val_acc: 0.5476\n",
      "Epoch 11/100\n",
      "50000/50000 [==============================] - 3s 57us/step - loss: 0.7490 - acc: 0.7357 - val_loss: 1.5120 - val_acc: 0.5298\n",
      "Epoch 12/100\n",
      "50000/50000 [==============================] - 4s 72us/step - loss: 0.6817 - acc: 0.7578 - val_loss: 1.5880 - val_acc: 0.5395\n",
      "Epoch 13/100\n",
      "50000/50000 [==============================] - 4s 77us/step - loss: 0.6211 - acc: 0.7811 - val_loss: 1.5996 - val_acc: 0.5419\n",
      "Epoch 14/100\n",
      "50000/50000 [==============================] - 3s 64us/step - loss: 0.5707 - acc: 0.7985 - val_loss: 1.6495 - val_acc: 0.5411\n",
      "Epoch 15/100\n",
      "50000/50000 [==============================] - 3s 69us/step - loss: 0.5199 - acc: 0.8183 - val_loss: 1.7951 - val_acc: 0.5365\n",
      "Epoch 16/100\n",
      "50000/50000 [==============================] - 3s 68us/step - loss: 0.4778 - acc: 0.8336 - val_loss: 1.8824 - val_acc: 0.5327\n",
      "Epoch 17/100\n",
      "50000/50000 [==============================] - 4s 75us/step - loss: 0.4387 - acc: 0.8456 - val_loss: 1.9007 - val_acc: 0.5363\n",
      "Epoch 18/100\n",
      "50000/50000 [==============================] - 3s 64us/step - loss: 0.3996 - acc: 0.8590 - val_loss: 2.1587 - val_acc: 0.5341\n",
      "Epoch 19/100\n",
      "50000/50000 [==============================] - 3s 63us/step - loss: 0.3700 - acc: 0.8713 - val_loss: 2.0939 - val_acc: 0.5335\n",
      "Epoch 20/100\n",
      "50000/50000 [==============================] - 4s 74us/step - loss: 0.3393 - acc: 0.8828 - val_loss: 2.1805 - val_acc: 0.5339\n",
      "Epoch 21/100\n",
      "50000/50000 [==============================] - 4s 70us/step - loss: 0.3123 - acc: 0.8916 - val_loss: 2.2475 - val_acc: 0.5335\n",
      "Epoch 22/100\n",
      "50000/50000 [==============================] - 4s 74us/step - loss: 0.2914 - acc: 0.8972 - val_loss: 2.3188 - val_acc: 0.5397\n",
      "Epoch 23/100\n",
      "50000/50000 [==============================] - 4s 74us/step - loss: 0.2788 - acc: 0.9033 - val_loss: 2.4240 - val_acc: 0.5334\n",
      "Epoch 24/100\n",
      "50000/50000 [==============================] - 3s 64us/step - loss: 0.2642 - acc: 0.9083 - val_loss: 2.4744 - val_acc: 0.5396\n",
      "Epoch 25/100\n",
      "50000/50000 [==============================] - 3s 67us/step - loss: 0.2314 - acc: 0.9194 - val_loss: 2.4805 - val_acc: 0.5332\n",
      "Epoch 26/100\n",
      "50000/50000 [==============================] - 4s 80us/step - loss: 0.2407 - acc: 0.9174 - val_loss: 2.5302 - val_acc: 0.5282\n",
      "Epoch 27/100\n",
      "50000/50000 [==============================] - 3s 70us/step - loss: 0.2206 - acc: 0.9242 - val_loss: 2.6339 - val_acc: 0.5384\n",
      "Epoch 28/100\n",
      "50000/50000 [==============================] - 3s 64us/step - loss: 0.2086 - acc: 0.9286 - val_loss: 2.7194 - val_acc: 0.5317\n",
      "Epoch 29/100\n",
      "50000/50000 [==============================] - 4s 75us/step - loss: 0.1876 - acc: 0.9358 - val_loss: 2.7412 - val_acc: 0.5266\n",
      "Epoch 30/100\n",
      "50000/50000 [==============================] - 3s 64us/step - loss: 0.1783 - acc: 0.9383 - val_loss: 2.8060 - val_acc: 0.5246\n",
      "Epoch 31/100\n",
      "50000/50000 [==============================] - 3s 68us/step - loss: 0.1913 - acc: 0.9349 - val_loss: 2.8144 - val_acc: 0.5263\n",
      "Epoch 32/100\n",
      "50000/50000 [==============================] - 3s 68us/step - loss: 0.1751 - acc: 0.9393 - val_loss: 2.7724 - val_acc: 0.5272\n",
      "Epoch 33/100\n",
      "50000/50000 [==============================] - 3s 66us/step - loss: 0.1579 - acc: 0.9458 - val_loss: 2.9187 - val_acc: 0.5323\n",
      "Epoch 34/100\n",
      "50000/50000 [==============================] - 3s 64us/step - loss: 0.1540 - acc: 0.9478 - val_loss: 2.8508 - val_acc: 0.5325\n",
      "Epoch 35/100\n",
      "50000/50000 [==============================] - 3s 68us/step - loss: 0.1610 - acc: 0.9439 - val_loss: 2.9074 - val_acc: 0.5304\n",
      "Epoch 36/100\n",
      "50000/50000 [==============================] - 4s 76us/step - loss: 0.1339 - acc: 0.9553 - val_loss: 2.9862 - val_acc: 0.5309\n",
      "Epoch 37/100\n",
      "50000/50000 [==============================] - 3s 70us/step - loss: 0.1417 - acc: 0.9526 - val_loss: 2.9069 - val_acc: 0.5329\n",
      "Epoch 38/100\n",
      "50000/50000 [==============================] - 4s 75us/step - loss: 0.1406 - acc: 0.9533 - val_loss: 3.0067 - val_acc: 0.5358\n",
      "Epoch 39/100\n",
      "50000/50000 [==============================] - 4s 82us/step - loss: 0.1304 - acc: 0.9553 - val_loss: 3.1428 - val_acc: 0.5333\n",
      "Epoch 40/100\n",
      "50000/50000 [==============================] - 3s 61us/step - loss: 0.1324 - acc: 0.9549 - val_loss: 2.9837 - val_acc: 0.5387\n",
      "Epoch 41/100\n",
      "50000/50000 [==============================] - 4s 73us/step - loss: 0.1304 - acc: 0.9555 - val_loss: 3.0558 - val_acc: 0.5299\n",
      "Epoch 42/100\n",
      "50000/50000 [==============================] - 4s 70us/step - loss: 0.1150 - acc: 0.9623 - val_loss: 3.0914 - val_acc: 0.5304\n",
      "Epoch 43/100\n",
      "50000/50000 [==============================] - 4s 73us/step - loss: 0.1216 - acc: 0.9592 - val_loss: 3.1531 - val_acc: 0.5369\n",
      "Epoch 44/100\n",
      "50000/50000 [==============================] - 4s 74us/step - loss: 0.1130 - acc: 0.9622 - val_loss: 3.1186 - val_acc: 0.5281\n",
      "Epoch 45/100\n",
      "50000/50000 [==============================] - 3s 59us/step - loss: 0.1215 - acc: 0.9596 - val_loss: 3.0788 - val_acc: 0.5324\n",
      "Epoch 46/100\n",
      "50000/50000 [==============================] - 3s 63us/step - loss: 0.1193 - acc: 0.9605 - val_loss: 2.9539 - val_acc: 0.5233\n",
      "Epoch 47/100\n",
      "50000/50000 [==============================] - 4s 80us/step - loss: 0.1042 - acc: 0.9653 - val_loss: 3.1018 - val_acc: 0.5346\n",
      "Epoch 48/100\n",
      "50000/50000 [==============================] - 4s 72us/step - loss: 0.1115 - acc: 0.9622 - val_loss: 3.2786 - val_acc: 0.5375\n",
      "Epoch 49/100\n",
      "50000/50000 [==============================] - 3s 69us/step - loss: 0.0988 - acc: 0.9667 - val_loss: 3.1333 - val_acc: 0.5317\n",
      "Epoch 50/100\n",
      "50000/50000 [==============================] - 4s 78us/step - loss: 0.1006 - acc: 0.9666 - val_loss: 3.2916 - val_acc: 0.5328\n",
      "Epoch 51/100\n",
      "50000/50000 [==============================] - 3s 65us/step - loss: 0.0967 - acc: 0.9679 - val_loss: 3.2457 - val_acc: 0.5315\n",
      "Epoch 52/100\n",
      "50000/50000 [==============================] - 4s 70us/step - loss: 0.1051 - acc: 0.9653 - val_loss: 3.1884 - val_acc: 0.5345\n",
      "Epoch 53/100\n",
      "50000/50000 [==============================] - 3s 65us/step - loss: 0.0980 - acc: 0.9674 - val_loss: 3.1836 - val_acc: 0.5349\n",
      "Epoch 54/100\n",
      "50000/50000 [==============================] - 3s 65us/step - loss: 0.0890 - acc: 0.9711 - val_loss: 3.1228 - val_acc: 0.5280\n",
      "Epoch 55/100\n",
      "50000/50000 [==============================] - 3s 66us/step - loss: 0.0918 - acc: 0.9700 - val_loss: 3.1111 - val_acc: 0.5336\n",
      "Epoch 56/100\n",
      "50000/50000 [==============================] - 4s 76us/step - loss: 0.0942 - acc: 0.9693 - val_loss: 3.2958 - val_acc: 0.5310\n",
      "Epoch 57/100\n",
      "50000/50000 [==============================] - 3s 67us/step - loss: 0.0851 - acc: 0.9723 - val_loss: 3.2006 - val_acc: 0.5298\n",
      "Epoch 58/100\n",
      "50000/50000 [==============================] - 4s 73us/step - loss: 0.1008 - acc: 0.9668 - val_loss: 3.3179 - val_acc: 0.5349\n",
      "Epoch 59/100\n"
     ]
    },
    {
     "name": "stdout",
     "output_type": "stream",
     "text": [
      "50000/50000 [==============================] - 4s 77us/step - loss: 0.0839 - acc: 0.9724 - val_loss: 3.3518 - val_acc: 0.5308\n",
      "Epoch 60/100\n",
      "50000/50000 [==============================] - 3s 61us/step - loss: 0.0871 - acc: 0.9708 - val_loss: 3.3267 - val_acc: 0.5341\n",
      "Epoch 61/100\n",
      "50000/50000 [==============================] - 3s 67us/step - loss: 0.0965 - acc: 0.9683 - val_loss: 3.0171 - val_acc: 0.5263\n",
      "Epoch 62/100\n",
      "50000/50000 [==============================] - 3s 68us/step - loss: 0.0804 - acc: 0.9747 - val_loss: 3.3442 - val_acc: 0.5330\n",
      "Epoch 63/100\n",
      "50000/50000 [==============================] - 3s 62us/step - loss: 0.0775 - acc: 0.9749 - val_loss: 3.1014 - val_acc: 0.5329\n",
      "Epoch 64/100\n",
      "50000/50000 [==============================] - 3s 60us/step - loss: 0.0821 - acc: 0.9730 - val_loss: 3.2356 - val_acc: 0.5264\n",
      "Epoch 65/100\n",
      "50000/50000 [==============================] - 4s 71us/step - loss: 0.0819 - acc: 0.9739 - val_loss: 3.3677 - val_acc: 0.5287\n",
      "Epoch 66/100\n",
      "50000/50000 [==============================] - 3s 57us/step - loss: 0.0695 - acc: 0.9769 - val_loss: 3.4412 - val_acc: 0.5346\n",
      "Epoch 67/100\n",
      "50000/50000 [==============================] - 3s 62us/step - loss: 0.0831 - acc: 0.9725 - val_loss: 3.3096 - val_acc: 0.5351\n",
      "Epoch 68/100\n",
      "50000/50000 [==============================] - 3s 68us/step - loss: 0.0827 - acc: 0.9740 - val_loss: 3.3719 - val_acc: 0.5342\n",
      "Epoch 69/100\n",
      "50000/50000 [==============================] - 3s 65us/step - loss: 0.0795 - acc: 0.9745 - val_loss: 3.1708 - val_acc: 0.5280\n",
      "Epoch 70/100\n",
      "50000/50000 [==============================] - 4s 71us/step - loss: 0.0813 - acc: 0.9735 - val_loss: 3.1604 - val_acc: 0.5326\n",
      "Epoch 71/100\n",
      "50000/50000 [==============================] - 4s 71us/step - loss: 0.0760 - acc: 0.9757 - val_loss: 3.2031 - val_acc: 0.5369\n",
      "Epoch 72/100\n",
      "50000/50000 [==============================] - 3s 66us/step - loss: 0.0627 - acc: 0.9809 - val_loss: 3.2332 - val_acc: 0.5328\n",
      "Epoch 73/100\n",
      "50000/50000 [==============================] - 3s 70us/step - loss: 0.0641 - acc: 0.9789 - val_loss: 3.3804 - val_acc: 0.5329\n",
      "Epoch 74/100\n",
      "50000/50000 [==============================] - 3s 67us/step - loss: 0.0847 - acc: 0.9731 - val_loss: 3.1851 - val_acc: 0.5350\n",
      "Epoch 75/100\n",
      "50000/50000 [==============================] - 4s 75us/step - loss: 0.0789 - acc: 0.9748 - val_loss: 3.2840 - val_acc: 0.5340\n",
      "Epoch 76/100\n",
      "50000/50000 [==============================] - 3s 63us/step - loss: 0.0708 - acc: 0.9773 - val_loss: 3.2007 - val_acc: 0.5369\n",
      "Epoch 77/100\n",
      "50000/50000 [==============================] - 3s 63us/step - loss: 0.0617 - acc: 0.9803 - val_loss: 3.2603 - val_acc: 0.5341\n",
      "Epoch 78/100\n",
      "50000/50000 [==============================] - 3s 67us/step - loss: 0.0632 - acc: 0.9802 - val_loss: 3.3742 - val_acc: 0.5356\n",
      "Epoch 79/100\n",
      "50000/50000 [==============================] - 3s 66us/step - loss: 0.0652 - acc: 0.9783 - val_loss: 3.4491 - val_acc: 0.5286\n",
      "Epoch 80/100\n",
      "50000/50000 [==============================] - 3s 58us/step - loss: 0.0685 - acc: 0.9776 - val_loss: 3.4038 - val_acc: 0.5301\n",
      "Epoch 81/100\n",
      "50000/50000 [==============================] - 3s 61us/step - loss: 0.0677 - acc: 0.9785 - val_loss: 3.3509 - val_acc: 0.5349\n",
      "Epoch 82/100\n",
      "50000/50000 [==============================] - 3s 68us/step - loss: 0.0658 - acc: 0.9796 - val_loss: 3.3397 - val_acc: 0.5266\n",
      "Epoch 83/100\n",
      "50000/50000 [==============================] - 3s 67us/step - loss: 0.0677 - acc: 0.9782 - val_loss: 3.3434 - val_acc: 0.5253\n",
      "Epoch 84/100\n",
      "50000/50000 [==============================] - 4s 70us/step - loss: 0.0720 - acc: 0.9770 - val_loss: 3.4028 - val_acc: 0.5334\n",
      "Epoch 85/100\n",
      "50000/50000 [==============================] - 3s 65us/step - loss: 0.0635 - acc: 0.9799 - val_loss: 3.3324 - val_acc: 0.5281\n",
      "Epoch 86/100\n",
      "50000/50000 [==============================] - 4s 87us/step - loss: 0.0619 - acc: 0.9806 - val_loss: 3.4882 - val_acc: 0.5298\n",
      "Epoch 87/100\n",
      "50000/50000 [==============================] - 3s 66us/step - loss: 0.0625 - acc: 0.9796 - val_loss: 3.4825 - val_acc: 0.5288\n",
      "Epoch 88/100\n",
      "50000/50000 [==============================] - 4s 74us/step - loss: 0.0637 - acc: 0.9797 - val_loss: 3.2542 - val_acc: 0.5400\n",
      "Epoch 89/100\n",
      "50000/50000 [==============================] - 4s 79us/step - loss: 0.0631 - acc: 0.9804 - val_loss: 3.3952 - val_acc: 0.5386\n",
      "Epoch 90/100\n",
      "50000/50000 [==============================] - 4s 72us/step - loss: 0.0621 - acc: 0.9802 - val_loss: 3.3055 - val_acc: 0.5338\n",
      "Epoch 91/100\n",
      "50000/50000 [==============================] - 4s 71us/step - loss: 0.0590 - acc: 0.9806 - val_loss: 3.2263 - val_acc: 0.5347\n",
      "Epoch 92/100\n",
      "50000/50000 [==============================] - 4s 72us/step - loss: 0.0620 - acc: 0.9805 - val_loss: 3.3560 - val_acc: 0.5376\n",
      "Epoch 93/100\n",
      "50000/50000 [==============================] - 3s 63us/step - loss: 0.0580 - acc: 0.9815 - val_loss: 3.4137 - val_acc: 0.5293\n",
      "Epoch 94/100\n",
      "50000/50000 [==============================] - 3s 64us/step - loss: 0.0511 - acc: 0.9844 - val_loss: 3.3692 - val_acc: 0.5287\n",
      "Epoch 95/100\n",
      "50000/50000 [==============================] - 3s 63us/step - loss: 0.0571 - acc: 0.9818 - val_loss: 3.2742 - val_acc: 0.5283\n",
      "Epoch 96/100\n",
      "50000/50000 [==============================] - 3s 61us/step - loss: 0.0577 - acc: 0.9813 - val_loss: 3.4287 - val_acc: 0.5371\n",
      "Epoch 97/100\n",
      "50000/50000 [==============================] - 3s 62us/step - loss: 0.0574 - acc: 0.9819 - val_loss: 3.4793 - val_acc: 0.5377\n",
      "Epoch 98/100\n",
      "50000/50000 [==============================] - 3s 66us/step - loss: 0.0567 - acc: 0.9825 - val_loss: 3.4377 - val_acc: 0.5317\n",
      "Epoch 99/100\n",
      "50000/50000 [==============================] - 3s 70us/step - loss: 0.0609 - acc: 0.9809 - val_loss: 3.5252 - val_acc: 0.5333\n",
      "Epoch 100/100\n",
      "50000/50000 [==============================] - 3s 57us/step - loss: 0.0462 - acc: 0.9858 - val_loss: 3.3218 - val_acc: 0.5323\n"
     ]
    },
    {
     "data": {
      "text/plain": [
       "<keras.callbacks.History at 0x19591131a90>"
      ]
     },
     "execution_count": 42,
     "metadata": {},
     "output_type": "execute_result"
    }
   ],
   "source": [
    "model.fit(x_train, y_train, \n",
    "          epochs=EPOCHS, \n",
    "          batch_size=BATCH_SIZE, \n",
    "          validation_data=(x_test, y_test), \n",
    "          shuffle=True)"
   ]
  },
  {
   "cell_type": "code",
   "execution_count": 43,
   "metadata": {},
   "outputs": [
    {
     "data": {
      "image/png": "[encoded data removed]",
      "text/plain": [
       "<Figure size 432x288 with 1 Axes>"
      ]
     },
     "metadata": {
      "needs_background": "light"
     },
     "output_type": "display_data"
    },
    {
     "data": {
      "image/png": "[encoded data removed]",
      "text/plain": [
       "<Figure size 432x288 with 1 Axes>"
      ]
     },
     "metadata": {
      "needs_background": "light"
     },
     "output_type": "display_data"
    }
   ],
   "source": [
    "import matplotlib.pyplot as plt\n",
    "\n",
    "\n",
    "train_loss = model.history.history[\"loss\"]\n",
    "valid_loss = model.history.history[\"val_loss\"]\n",
    "\n",
    "train_acc = model.history.history[\"acc\"]\n",
    "valid_acc = model.history.history[\"val_acc\"]\n",
    "\n",
    "plt.plot(range(len(train_loss)), train_loss, label=\"train loss\")\n",
    "plt.plot(range(len(valid_loss)), valid_loss, label=\"valid loss\")\n",
    "plt.legend()\n",
    "plt.title(\"Loss\")\n",
    "plt.show()\n",
    "\n",
    "plt.plot(range(len(train_acc)), train_acc, label=\"train accuracy\")\n",
    "plt.plot(range(len(valid_acc)), valid_acc, label=\"valid accuracy\")\n",
    "plt.legend()\n",
    "plt.title(\"Accuracy\")\n",
    "plt.show()"
   ]
  },
  {
   "cell_type": "code",
   "execution_count": null,
   "metadata": {},
   "outputs": [],
   "source": []
  }
 ],
 "metadata": {
  "kernelspec": {
   "display_name": "Python 3",
   "language": "python",
   "name": "python3"
  },
  "language_info": {
   "codemirror_mode": {
    "name": "ipython",
    "version": 3
   },
   "file_extension": ".py",
   "mimetype": "text/x-python",
   "name": "python",
   "nbconvert_exporter": "python",
   "pygments_lexer": "ipython3",
   "version": "3.6.9"
  }
 },
 "nbformat": 4,
 "nbformat_minor": 2
}
